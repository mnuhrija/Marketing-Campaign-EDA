{
 "cells": [
  {
   "cell_type": "markdown",
   "metadata": {},
   "source": [
    "## 1. INTRODUCTION"
   ]
  },
  {
   "cell_type": "markdown",
   "metadata": {},
   "source": [
    "Marketing Campaigns are a vital part of how company's promote their interests, whether that be raising awareness for a new product or capturing customer feedback. That's why it's important for the data analysts of any company to be able to gauge customer's participation in the marketing campaigns, assess the success of past campaigns, and propose data-driven solutions to increase participation in future campaigns."
   ]
  },
  {
   "cell_type": "markdown",
   "metadata": {},
   "source": [
    "### a. Context"
   ]
  },
  {
   "cell_type": "markdown",
   "metadata": {},
   "source": [
    "Leveraging customer information is paramount for most businesses. In the case of a marketing campaign, attributes of customers like the ones mentioned below can be crucial in making business decisions. Hence, knowing to explore and generate value out of such data can be an invaluable skill to have."
   ]
  },
  {
   "cell_type": "markdown",
   "metadata": {},
   "source": [
    "### b. Data Description"
   ]
  },
  {
   "cell_type": "markdown",
   "metadata": {},
   "source": [
    "The data at hand contains attribute that describe behaviour of customer to marketing campaign from an anonymous company ."
   ]
  },
  {
   "cell_type": "markdown",
   "metadata": {},
   "source": [
    "### c. Attribute Information"
   ]
  },
  {
   "cell_type": "markdown",
   "metadata": {},
   "source": [
    "AcceptedCmp1 = 1 if customer accepted the offer in the 1st campaign, 0 otherwise\\\n",
    "AcceptedCmp2 = 1 if customer accepted the offer in the 2nd campaign, 0 otherwise\\\n",
    "AcceptedCmp3 = 1 if customer accepted the offer in the 3rd campaign, 0 otherwise\\\n",
    "AcceptedCmp4 = 1 if customer accepted the offer in the 4th campaign, 0 otherwise\\\n",
    "AcceptedCmp5 = 1 if customer accepted the offer in the 5th campaign, 0 otherwise\\\n",
    "Response (target) = 1 if customer accepted the offer in the last campaign, 0 otherwise\\\n",
    "Complain = 1 if customer complained in the last 2 years\\\n",
    "Dt_Customer = date of customer’s enrolment with the company\\\n",
    "Education = customer’s level of education\\\n",
    "Marital = customer’s marital status\\\n",
    "Kidhome = number of small children in customer’s household\\\n",
    "Teenhome = number of teenagers in customer’s household\\\n",
    "Income = customer’s yearly household income\\\n",
    "MntFishProducts = amount spent on fish products in the last 2 years\\\n",
    "MntMeatProducts = amount spent on meat products in the last 2 years\\\n",
    "MntFruits = amount spent on fruits products in the last 2 years\\\n",
    "MntSweetProducts = amount spent on sweet products in the last 2 years\\\n",
    "MntWines = amount spent on wine products in the last 2 years\\\n",
    "MntGoldProds = amount spent on gold products in the last 2 years\\\n",
    "NumDealsPurchases = number of purchases made with discount\\\n",
    "NumCatalogPurchases = number of purchases made using catalogue\\\n",
    "NumStorePurchases = number of purchases made directly in stores\\\n",
    "NumWebPurchases = number of purchases made through company’s web site\\\n",
    "NumWebVisitsMonth = number of visits to company’s web site in the last month\\\n",
    "Recency = number of days since the last purchase\\"
   ]
  },
  {
   "cell_type": "markdown",
   "metadata": {},
   "source": [
    "### d. Objectives"
   ]
  },
  {
   "cell_type": "markdown",
   "metadata": {},
   "source": [
    " 1. Exploratory Data Analysis and Data Visualization\n",
    " 2. Hypothesis Testing"
   ]
  },
  {
   "cell_type": "markdown",
   "metadata": {},
   "source": [
    "### e. importing Library"
   ]
  },
  {
   "cell_type": "code",
   "execution_count": 1,
   "metadata": {},
   "outputs": [],
   "source": [
    "import pandas as pd\n",
    "import numpy as np\n",
    "import matplotlib.pyplot as plt\n",
    "import seaborn as sns"
   ]
  },
  {
   "cell_type": "markdown",
   "metadata": {},
   "source": [
    "## 2. UNDERSTANDING DATASET"
   ]
  },
  {
   "cell_type": "markdown",
   "metadata": {},
   "source": [
    "### a. Loading Dataset"
   ]
  },
  {
   "cell_type": "code",
   "execution_count": 2,
   "metadata": {},
   "outputs": [
    {
     "data": {
      "text/html": [
       "<div>\n",
       "<style scoped>\n",
       "    .dataframe tbody tr th:only-of-type {\n",
       "        vertical-align: middle;\n",
       "    }\n",
       "\n",
       "    .dataframe tbody tr th {\n",
       "        vertical-align: top;\n",
       "    }\n",
       "\n",
       "    .dataframe thead th {\n",
       "        text-align: right;\n",
       "    }\n",
       "</style>\n",
       "<table border=\"1\" class=\"dataframe\">\n",
       "  <thead>\n",
       "    <tr style=\"text-align: right;\">\n",
       "      <th></th>\n",
       "      <th>ID</th>\n",
       "      <th>Year_Birth</th>\n",
       "      <th>Education</th>\n",
       "      <th>Marital_Status</th>\n",
       "      <th>Income</th>\n",
       "      <th>Kidhome</th>\n",
       "      <th>Teenhome</th>\n",
       "      <th>Dt_Customer</th>\n",
       "      <th>Recency</th>\n",
       "      <th>MntWines</th>\n",
       "      <th>...</th>\n",
       "      <th>NumWebVisitsMonth</th>\n",
       "      <th>AcceptedCmp3</th>\n",
       "      <th>AcceptedCmp4</th>\n",
       "      <th>AcceptedCmp5</th>\n",
       "      <th>AcceptedCmp1</th>\n",
       "      <th>AcceptedCmp2</th>\n",
       "      <th>Complain</th>\n",
       "      <th>Z_CostContact</th>\n",
       "      <th>Z_Revenue</th>\n",
       "      <th>Response</th>\n",
       "    </tr>\n",
       "  </thead>\n",
       "  <tbody>\n",
       "    <tr>\n",
       "      <th>0</th>\n",
       "      <td>5524</td>\n",
       "      <td>1957</td>\n",
       "      <td>Graduation</td>\n",
       "      <td>Single</td>\n",
       "      <td>58138.0</td>\n",
       "      <td>0</td>\n",
       "      <td>0</td>\n",
       "      <td>2012-09-04</td>\n",
       "      <td>58</td>\n",
       "      <td>635</td>\n",
       "      <td>...</td>\n",
       "      <td>7</td>\n",
       "      <td>0</td>\n",
       "      <td>0</td>\n",
       "      <td>0</td>\n",
       "      <td>0</td>\n",
       "      <td>0</td>\n",
       "      <td>0</td>\n",
       "      <td>3</td>\n",
       "      <td>11</td>\n",
       "      <td>1</td>\n",
       "    </tr>\n",
       "    <tr>\n",
       "      <th>1</th>\n",
       "      <td>2174</td>\n",
       "      <td>1954</td>\n",
       "      <td>Graduation</td>\n",
       "      <td>Single</td>\n",
       "      <td>46344.0</td>\n",
       "      <td>1</td>\n",
       "      <td>1</td>\n",
       "      <td>2014-03-08</td>\n",
       "      <td>38</td>\n",
       "      <td>11</td>\n",
       "      <td>...</td>\n",
       "      <td>5</td>\n",
       "      <td>0</td>\n",
       "      <td>0</td>\n",
       "      <td>0</td>\n",
       "      <td>0</td>\n",
       "      <td>0</td>\n",
       "      <td>0</td>\n",
       "      <td>3</td>\n",
       "      <td>11</td>\n",
       "      <td>0</td>\n",
       "    </tr>\n",
       "    <tr>\n",
       "      <th>2</th>\n",
       "      <td>4141</td>\n",
       "      <td>1965</td>\n",
       "      <td>Graduation</td>\n",
       "      <td>Together</td>\n",
       "      <td>71613.0</td>\n",
       "      <td>0</td>\n",
       "      <td>0</td>\n",
       "      <td>2013-08-21</td>\n",
       "      <td>26</td>\n",
       "      <td>426</td>\n",
       "      <td>...</td>\n",
       "      <td>4</td>\n",
       "      <td>0</td>\n",
       "      <td>0</td>\n",
       "      <td>0</td>\n",
       "      <td>0</td>\n",
       "      <td>0</td>\n",
       "      <td>0</td>\n",
       "      <td>3</td>\n",
       "      <td>11</td>\n",
       "      <td>0</td>\n",
       "    </tr>\n",
       "    <tr>\n",
       "      <th>3</th>\n",
       "      <td>6182</td>\n",
       "      <td>1984</td>\n",
       "      <td>Graduation</td>\n",
       "      <td>Together</td>\n",
       "      <td>26646.0</td>\n",
       "      <td>1</td>\n",
       "      <td>0</td>\n",
       "      <td>2014-02-10</td>\n",
       "      <td>26</td>\n",
       "      <td>11</td>\n",
       "      <td>...</td>\n",
       "      <td>6</td>\n",
       "      <td>0</td>\n",
       "      <td>0</td>\n",
       "      <td>0</td>\n",
       "      <td>0</td>\n",
       "      <td>0</td>\n",
       "      <td>0</td>\n",
       "      <td>3</td>\n",
       "      <td>11</td>\n",
       "      <td>0</td>\n",
       "    </tr>\n",
       "    <tr>\n",
       "      <th>4</th>\n",
       "      <td>5324</td>\n",
       "      <td>1981</td>\n",
       "      <td>PhD</td>\n",
       "      <td>Married</td>\n",
       "      <td>58293.0</td>\n",
       "      <td>1</td>\n",
       "      <td>0</td>\n",
       "      <td>2014-01-19</td>\n",
       "      <td>94</td>\n",
       "      <td>173</td>\n",
       "      <td>...</td>\n",
       "      <td>5</td>\n",
       "      <td>0</td>\n",
       "      <td>0</td>\n",
       "      <td>0</td>\n",
       "      <td>0</td>\n",
       "      <td>0</td>\n",
       "      <td>0</td>\n",
       "      <td>3</td>\n",
       "      <td>11</td>\n",
       "      <td>0</td>\n",
       "    </tr>\n",
       "    <tr>\n",
       "      <th>...</th>\n",
       "      <td>...</td>\n",
       "      <td>...</td>\n",
       "      <td>...</td>\n",
       "      <td>...</td>\n",
       "      <td>...</td>\n",
       "      <td>...</td>\n",
       "      <td>...</td>\n",
       "      <td>...</td>\n",
       "      <td>...</td>\n",
       "      <td>...</td>\n",
       "      <td>...</td>\n",
       "      <td>...</td>\n",
       "      <td>...</td>\n",
       "      <td>...</td>\n",
       "      <td>...</td>\n",
       "      <td>...</td>\n",
       "      <td>...</td>\n",
       "      <td>...</td>\n",
       "      <td>...</td>\n",
       "      <td>...</td>\n",
       "      <td>...</td>\n",
       "    </tr>\n",
       "    <tr>\n",
       "      <th>2235</th>\n",
       "      <td>10870</td>\n",
       "      <td>1967</td>\n",
       "      <td>Graduation</td>\n",
       "      <td>Married</td>\n",
       "      <td>61223.0</td>\n",
       "      <td>0</td>\n",
       "      <td>1</td>\n",
       "      <td>2013-06-13</td>\n",
       "      <td>46</td>\n",
       "      <td>709</td>\n",
       "      <td>...</td>\n",
       "      <td>5</td>\n",
       "      <td>0</td>\n",
       "      <td>0</td>\n",
       "      <td>0</td>\n",
       "      <td>0</td>\n",
       "      <td>0</td>\n",
       "      <td>0</td>\n",
       "      <td>3</td>\n",
       "      <td>11</td>\n",
       "      <td>0</td>\n",
       "    </tr>\n",
       "    <tr>\n",
       "      <th>2236</th>\n",
       "      <td>4001</td>\n",
       "      <td>1946</td>\n",
       "      <td>PhD</td>\n",
       "      <td>Together</td>\n",
       "      <td>64014.0</td>\n",
       "      <td>2</td>\n",
       "      <td>1</td>\n",
       "      <td>2014-06-10</td>\n",
       "      <td>56</td>\n",
       "      <td>406</td>\n",
       "      <td>...</td>\n",
       "      <td>7</td>\n",
       "      <td>0</td>\n",
       "      <td>0</td>\n",
       "      <td>0</td>\n",
       "      <td>1</td>\n",
       "      <td>0</td>\n",
       "      <td>0</td>\n",
       "      <td>3</td>\n",
       "      <td>11</td>\n",
       "      <td>0</td>\n",
       "    </tr>\n",
       "    <tr>\n",
       "      <th>2237</th>\n",
       "      <td>7270</td>\n",
       "      <td>1981</td>\n",
       "      <td>Graduation</td>\n",
       "      <td>Divorced</td>\n",
       "      <td>56981.0</td>\n",
       "      <td>0</td>\n",
       "      <td>0</td>\n",
       "      <td>2014-01-25</td>\n",
       "      <td>91</td>\n",
       "      <td>908</td>\n",
       "      <td>...</td>\n",
       "      <td>6</td>\n",
       "      <td>0</td>\n",
       "      <td>1</td>\n",
       "      <td>0</td>\n",
       "      <td>0</td>\n",
       "      <td>0</td>\n",
       "      <td>0</td>\n",
       "      <td>3</td>\n",
       "      <td>11</td>\n",
       "      <td>0</td>\n",
       "    </tr>\n",
       "    <tr>\n",
       "      <th>2238</th>\n",
       "      <td>8235</td>\n",
       "      <td>1956</td>\n",
       "      <td>Master</td>\n",
       "      <td>Together</td>\n",
       "      <td>69245.0</td>\n",
       "      <td>0</td>\n",
       "      <td>1</td>\n",
       "      <td>2014-01-24</td>\n",
       "      <td>8</td>\n",
       "      <td>428</td>\n",
       "      <td>...</td>\n",
       "      <td>3</td>\n",
       "      <td>0</td>\n",
       "      <td>0</td>\n",
       "      <td>0</td>\n",
       "      <td>0</td>\n",
       "      <td>0</td>\n",
       "      <td>0</td>\n",
       "      <td>3</td>\n",
       "      <td>11</td>\n",
       "      <td>0</td>\n",
       "    </tr>\n",
       "    <tr>\n",
       "      <th>2239</th>\n",
       "      <td>9405</td>\n",
       "      <td>1954</td>\n",
       "      <td>PhD</td>\n",
       "      <td>Married</td>\n",
       "      <td>52869.0</td>\n",
       "      <td>1</td>\n",
       "      <td>1</td>\n",
       "      <td>2012-10-15</td>\n",
       "      <td>40</td>\n",
       "      <td>84</td>\n",
       "      <td>...</td>\n",
       "      <td>7</td>\n",
       "      <td>0</td>\n",
       "      <td>0</td>\n",
       "      <td>0</td>\n",
       "      <td>0</td>\n",
       "      <td>0</td>\n",
       "      <td>0</td>\n",
       "      <td>3</td>\n",
       "      <td>11</td>\n",
       "      <td>1</td>\n",
       "    </tr>\n",
       "  </tbody>\n",
       "</table>\n",
       "<p>2240 rows × 29 columns</p>\n",
       "</div>"
      ],
      "text/plain": [
       "         ID  Year_Birth   Education Marital_Status   Income  Kidhome  \\\n",
       "0      5524        1957  Graduation         Single  58138.0        0   \n",
       "1      2174        1954  Graduation         Single  46344.0        1   \n",
       "2      4141        1965  Graduation       Together  71613.0        0   \n",
       "3      6182        1984  Graduation       Together  26646.0        1   \n",
       "4      5324        1981         PhD        Married  58293.0        1   \n",
       "...     ...         ...         ...            ...      ...      ...   \n",
       "2235  10870        1967  Graduation        Married  61223.0        0   \n",
       "2236   4001        1946         PhD       Together  64014.0        2   \n",
       "2237   7270        1981  Graduation       Divorced  56981.0        0   \n",
       "2238   8235        1956      Master       Together  69245.0        0   \n",
       "2239   9405        1954         PhD        Married  52869.0        1   \n",
       "\n",
       "      Teenhome Dt_Customer  Recency  MntWines  ...  NumWebVisitsMonth  \\\n",
       "0            0  2012-09-04       58       635  ...                  7   \n",
       "1            1  2014-03-08       38        11  ...                  5   \n",
       "2            0  2013-08-21       26       426  ...                  4   \n",
       "3            0  2014-02-10       26        11  ...                  6   \n",
       "4            0  2014-01-19       94       173  ...                  5   \n",
       "...        ...         ...      ...       ...  ...                ...   \n",
       "2235         1  2013-06-13       46       709  ...                  5   \n",
       "2236         1  2014-06-10       56       406  ...                  7   \n",
       "2237         0  2014-01-25       91       908  ...                  6   \n",
       "2238         1  2014-01-24        8       428  ...                  3   \n",
       "2239         1  2012-10-15       40        84  ...                  7   \n",
       "\n",
       "      AcceptedCmp3  AcceptedCmp4  AcceptedCmp5  AcceptedCmp1  AcceptedCmp2  \\\n",
       "0                0             0             0             0             0   \n",
       "1                0             0             0             0             0   \n",
       "2                0             0             0             0             0   \n",
       "3                0             0             0             0             0   \n",
       "4                0             0             0             0             0   \n",
       "...            ...           ...           ...           ...           ...   \n",
       "2235             0             0             0             0             0   \n",
       "2236             0             0             0             1             0   \n",
       "2237             0             1             0             0             0   \n",
       "2238             0             0             0             0             0   \n",
       "2239             0             0             0             0             0   \n",
       "\n",
       "      Complain  Z_CostContact  Z_Revenue  Response  \n",
       "0            0              3         11         1  \n",
       "1            0              3         11         0  \n",
       "2            0              3         11         0  \n",
       "3            0              3         11         0  \n",
       "4            0              3         11         0  \n",
       "...        ...            ...        ...       ...  \n",
       "2235         0              3         11         0  \n",
       "2236         0              3         11         0  \n",
       "2237         0              3         11         0  \n",
       "2238         0              3         11         0  \n",
       "2239         0              3         11         1  \n",
       "\n",
       "[2240 rows x 29 columns]"
      ]
     },
     "execution_count": 2,
     "metadata": {},
     "output_type": "execute_result"
    }
   ],
   "source": [
    "data= pd.read_csv(\"marketing_campaign.csv\",delimiter=\";\")\n",
    "data"
   ]
  },
  {
   "cell_type": "markdown",
   "metadata": {},
   "source": [
    "### b. Data Types, Missing Value and Outlier"
   ]
  },
  {
   "cell_type": "code",
   "execution_count": 3,
   "metadata": {},
   "outputs": [
    {
     "name": "stdout",
     "output_type": "stream",
     "text": [
      "<class 'pandas.core.frame.DataFrame'>\n",
      "RangeIndex: 2240 entries, 0 to 2239\n",
      "Data columns (total 29 columns):\n",
      " #   Column               Non-Null Count  Dtype  \n",
      "---  ------               --------------  -----  \n",
      " 0   ID                   2240 non-null   int64  \n",
      " 1   Year_Birth           2240 non-null   int64  \n",
      " 2   Education            2240 non-null   object \n",
      " 3   Marital_Status       2240 non-null   object \n",
      " 4   Income               2216 non-null   float64\n",
      " 5   Kidhome              2240 non-null   int64  \n",
      " 6   Teenhome             2240 non-null   int64  \n",
      " 7   Dt_Customer          2240 non-null   object \n",
      " 8   Recency              2240 non-null   int64  \n",
      " 9   MntWines             2240 non-null   int64  \n",
      " 10  MntFruits            2240 non-null   int64  \n",
      " 11  MntMeatProducts      2240 non-null   int64  \n",
      " 12  MntFishProducts      2240 non-null   int64  \n",
      " 13  MntSweetProducts     2240 non-null   int64  \n",
      " 14  MntGoldProds         2240 non-null   int64  \n",
      " 15  NumDealsPurchases    2240 non-null   int64  \n",
      " 16  NumWebPurchases      2240 non-null   int64  \n",
      " 17  NumCatalogPurchases  2240 non-null   int64  \n",
      " 18  NumStorePurchases    2240 non-null   int64  \n",
      " 19  NumWebVisitsMonth    2240 non-null   int64  \n",
      " 20  AcceptedCmp3         2240 non-null   int64  \n",
      " 21  AcceptedCmp4         2240 non-null   int64  \n",
      " 22  AcceptedCmp5         2240 non-null   int64  \n",
      " 23  AcceptedCmp1         2240 non-null   int64  \n",
      " 24  AcceptedCmp2         2240 non-null   int64  \n",
      " 25  Complain             2240 non-null   int64  \n",
      " 26  Z_CostContact        2240 non-null   int64  \n",
      " 27  Z_Revenue            2240 non-null   int64  \n",
      " 28  Response             2240 non-null   int64  \n",
      "dtypes: float64(1), int64(25), object(3)\n",
      "memory usage: 507.6+ KB\n"
     ]
    }
   ],
   "source": [
    "# Data Types\n",
    "data.info()"
   ]
  },
  {
   "cell_type": "code",
   "execution_count": 4,
   "metadata": {},
   "outputs": [
    {
     "data": {
      "text/plain": [
       "ID                      0\n",
       "Year_Birth              0\n",
       "Education               0\n",
       "Marital_Status          0\n",
       "Income                 24\n",
       "Kidhome                 0\n",
       "Teenhome                0\n",
       "Dt_Customer             0\n",
       "Recency                 0\n",
       "MntWines                0\n",
       "MntFruits               0\n",
       "MntMeatProducts         0\n",
       "MntFishProducts         0\n",
       "MntSweetProducts        0\n",
       "MntGoldProds            0\n",
       "NumDealsPurchases       0\n",
       "NumWebPurchases         0\n",
       "NumCatalogPurchases     0\n",
       "NumStorePurchases       0\n",
       "NumWebVisitsMonth       0\n",
       "AcceptedCmp3            0\n",
       "AcceptedCmp4            0\n",
       "AcceptedCmp5            0\n",
       "AcceptedCmp1            0\n",
       "AcceptedCmp2            0\n",
       "Complain                0\n",
       "Z_CostContact           0\n",
       "Z_Revenue               0\n",
       "Response                0\n",
       "dtype: int64"
      ]
     },
     "execution_count": 4,
     "metadata": {},
     "output_type": "execute_result"
    }
   ],
   "source": [
    "# missing value\n",
    "data.isnull().sum()"
   ]
  },
  {
   "cell_type": "markdown",
   "metadata": {},
   "source": [
    "We can pull some information from the dataset:\n",
    "1. there are 3 categorical variable (Object) and 26 numerical variable (Int and Float), but if we notice dt_Customer suppose to be datetime data type\n",
    "2. there is only 1 variable that has a missing value, namely Income variable"
   ]
  },
  {
   "cell_type": "markdown",
   "metadata": {},
   "source": [
    "### c. Statistical Summary"
   ]
  },
  {
   "cell_type": "code",
   "execution_count": 5,
   "metadata": {},
   "outputs": [
    {
     "name": "stdout",
     "output_type": "stream",
     "text": [
      "Numerical variable: ['ID', 'Year_Birth', 'Income', 'Kidhome', 'Teenhome', 'Recency', 'MntWines', 'MntFruits', 'MntMeatProducts', 'MntFishProducts', 'MntSweetProducts', 'MntGoldProds', 'NumDealsPurchases', 'NumWebPurchases', 'NumCatalogPurchases', 'NumStorePurchases', 'NumWebVisitsMonth', 'AcceptedCmp3', 'AcceptedCmp4', 'AcceptedCmp5', 'AcceptedCmp1', 'AcceptedCmp2', 'Complain', 'Z_CostContact', 'Z_Revenue', 'Response']\n",
      "Categorical variable: ['Education', 'Marital_Status', 'Dt_Customer']\n"
     ]
    }
   ],
   "source": [
    "num=[]\n",
    "cat=[]\n",
    "\n",
    "for col in data.columns:\n",
    "    if data[col].dtype != 'object':\n",
    "        num.append(col)\n",
    "    else:\n",
    "        cat.append(col)\n",
    "\n",
    "print(\"Numerical variable:\",num)\n",
    "print(\"Categorical variable:\",cat)"
   ]
  },
  {
   "cell_type": "code",
   "execution_count": 6,
   "metadata": {},
   "outputs": [
    {
     "data": {
      "text/html": [
       "<div>\n",
       "<style scoped>\n",
       "    .dataframe tbody tr th:only-of-type {\n",
       "        vertical-align: middle;\n",
       "    }\n",
       "\n",
       "    .dataframe tbody tr th {\n",
       "        vertical-align: top;\n",
       "    }\n",
       "\n",
       "    .dataframe thead th {\n",
       "        text-align: right;\n",
       "    }\n",
       "</style>\n",
       "<table border=\"1\" class=\"dataframe\">\n",
       "  <thead>\n",
       "    <tr style=\"text-align: right;\">\n",
       "      <th></th>\n",
       "      <th>count</th>\n",
       "      <th>mean</th>\n",
       "      <th>std</th>\n",
       "      <th>min</th>\n",
       "      <th>25%</th>\n",
       "      <th>50%</th>\n",
       "      <th>75%</th>\n",
       "      <th>max</th>\n",
       "    </tr>\n",
       "  </thead>\n",
       "  <tbody>\n",
       "    <tr>\n",
       "      <th>ID</th>\n",
       "      <td>2240.0</td>\n",
       "      <td>5592.159821</td>\n",
       "      <td>3246.662198</td>\n",
       "      <td>0.0</td>\n",
       "      <td>2828.25</td>\n",
       "      <td>5458.5</td>\n",
       "      <td>8427.75</td>\n",
       "      <td>11191.0</td>\n",
       "    </tr>\n",
       "    <tr>\n",
       "      <th>Year_Birth</th>\n",
       "      <td>2240.0</td>\n",
       "      <td>1968.805804</td>\n",
       "      <td>11.984069</td>\n",
       "      <td>1893.0</td>\n",
       "      <td>1959.00</td>\n",
       "      <td>1970.0</td>\n",
       "      <td>1977.00</td>\n",
       "      <td>1996.0</td>\n",
       "    </tr>\n",
       "    <tr>\n",
       "      <th>Income</th>\n",
       "      <td>2216.0</td>\n",
       "      <td>52247.251354</td>\n",
       "      <td>25173.076661</td>\n",
       "      <td>1730.0</td>\n",
       "      <td>35303.00</td>\n",
       "      <td>51381.5</td>\n",
       "      <td>68522.00</td>\n",
       "      <td>666666.0</td>\n",
       "    </tr>\n",
       "    <tr>\n",
       "      <th>Kidhome</th>\n",
       "      <td>2240.0</td>\n",
       "      <td>0.444196</td>\n",
       "      <td>0.538398</td>\n",
       "      <td>0.0</td>\n",
       "      <td>0.00</td>\n",
       "      <td>0.0</td>\n",
       "      <td>1.00</td>\n",
       "      <td>2.0</td>\n",
       "    </tr>\n",
       "    <tr>\n",
       "      <th>Teenhome</th>\n",
       "      <td>2240.0</td>\n",
       "      <td>0.506250</td>\n",
       "      <td>0.544538</td>\n",
       "      <td>0.0</td>\n",
       "      <td>0.00</td>\n",
       "      <td>0.0</td>\n",
       "      <td>1.00</td>\n",
       "      <td>2.0</td>\n",
       "    </tr>\n",
       "    <tr>\n",
       "      <th>Recency</th>\n",
       "      <td>2240.0</td>\n",
       "      <td>49.109375</td>\n",
       "      <td>28.962453</td>\n",
       "      <td>0.0</td>\n",
       "      <td>24.00</td>\n",
       "      <td>49.0</td>\n",
       "      <td>74.00</td>\n",
       "      <td>99.0</td>\n",
       "    </tr>\n",
       "    <tr>\n",
       "      <th>MntWines</th>\n",
       "      <td>2240.0</td>\n",
       "      <td>303.935714</td>\n",
       "      <td>336.597393</td>\n",
       "      <td>0.0</td>\n",
       "      <td>23.75</td>\n",
       "      <td>173.5</td>\n",
       "      <td>504.25</td>\n",
       "      <td>1493.0</td>\n",
       "    </tr>\n",
       "    <tr>\n",
       "      <th>MntFruits</th>\n",
       "      <td>2240.0</td>\n",
       "      <td>26.302232</td>\n",
       "      <td>39.773434</td>\n",
       "      <td>0.0</td>\n",
       "      <td>1.00</td>\n",
       "      <td>8.0</td>\n",
       "      <td>33.00</td>\n",
       "      <td>199.0</td>\n",
       "    </tr>\n",
       "    <tr>\n",
       "      <th>MntMeatProducts</th>\n",
       "      <td>2240.0</td>\n",
       "      <td>166.950000</td>\n",
       "      <td>225.715373</td>\n",
       "      <td>0.0</td>\n",
       "      <td>16.00</td>\n",
       "      <td>67.0</td>\n",
       "      <td>232.00</td>\n",
       "      <td>1725.0</td>\n",
       "    </tr>\n",
       "    <tr>\n",
       "      <th>MntFishProducts</th>\n",
       "      <td>2240.0</td>\n",
       "      <td>37.525446</td>\n",
       "      <td>54.628979</td>\n",
       "      <td>0.0</td>\n",
       "      <td>3.00</td>\n",
       "      <td>12.0</td>\n",
       "      <td>50.00</td>\n",
       "      <td>259.0</td>\n",
       "    </tr>\n",
       "    <tr>\n",
       "      <th>MntSweetProducts</th>\n",
       "      <td>2240.0</td>\n",
       "      <td>27.062946</td>\n",
       "      <td>41.280498</td>\n",
       "      <td>0.0</td>\n",
       "      <td>1.00</td>\n",
       "      <td>8.0</td>\n",
       "      <td>33.00</td>\n",
       "      <td>263.0</td>\n",
       "    </tr>\n",
       "    <tr>\n",
       "      <th>MntGoldProds</th>\n",
       "      <td>2240.0</td>\n",
       "      <td>44.021875</td>\n",
       "      <td>52.167439</td>\n",
       "      <td>0.0</td>\n",
       "      <td>9.00</td>\n",
       "      <td>24.0</td>\n",
       "      <td>56.00</td>\n",
       "      <td>362.0</td>\n",
       "    </tr>\n",
       "    <tr>\n",
       "      <th>NumDealsPurchases</th>\n",
       "      <td>2240.0</td>\n",
       "      <td>2.325000</td>\n",
       "      <td>1.932238</td>\n",
       "      <td>0.0</td>\n",
       "      <td>1.00</td>\n",
       "      <td>2.0</td>\n",
       "      <td>3.00</td>\n",
       "      <td>15.0</td>\n",
       "    </tr>\n",
       "    <tr>\n",
       "      <th>NumWebPurchases</th>\n",
       "      <td>2240.0</td>\n",
       "      <td>4.084821</td>\n",
       "      <td>2.778714</td>\n",
       "      <td>0.0</td>\n",
       "      <td>2.00</td>\n",
       "      <td>4.0</td>\n",
       "      <td>6.00</td>\n",
       "      <td>27.0</td>\n",
       "    </tr>\n",
       "    <tr>\n",
       "      <th>NumCatalogPurchases</th>\n",
       "      <td>2240.0</td>\n",
       "      <td>2.662054</td>\n",
       "      <td>2.923101</td>\n",
       "      <td>0.0</td>\n",
       "      <td>0.00</td>\n",
       "      <td>2.0</td>\n",
       "      <td>4.00</td>\n",
       "      <td>28.0</td>\n",
       "    </tr>\n",
       "    <tr>\n",
       "      <th>NumStorePurchases</th>\n",
       "      <td>2240.0</td>\n",
       "      <td>5.790179</td>\n",
       "      <td>3.250958</td>\n",
       "      <td>0.0</td>\n",
       "      <td>3.00</td>\n",
       "      <td>5.0</td>\n",
       "      <td>8.00</td>\n",
       "      <td>13.0</td>\n",
       "    </tr>\n",
       "    <tr>\n",
       "      <th>NumWebVisitsMonth</th>\n",
       "      <td>2240.0</td>\n",
       "      <td>5.316518</td>\n",
       "      <td>2.426645</td>\n",
       "      <td>0.0</td>\n",
       "      <td>3.00</td>\n",
       "      <td>6.0</td>\n",
       "      <td>7.00</td>\n",
       "      <td>20.0</td>\n",
       "    </tr>\n",
       "    <tr>\n",
       "      <th>AcceptedCmp3</th>\n",
       "      <td>2240.0</td>\n",
       "      <td>0.072768</td>\n",
       "      <td>0.259813</td>\n",
       "      <td>0.0</td>\n",
       "      <td>0.00</td>\n",
       "      <td>0.0</td>\n",
       "      <td>0.00</td>\n",
       "      <td>1.0</td>\n",
       "    </tr>\n",
       "    <tr>\n",
       "      <th>AcceptedCmp4</th>\n",
       "      <td>2240.0</td>\n",
       "      <td>0.074554</td>\n",
       "      <td>0.262728</td>\n",
       "      <td>0.0</td>\n",
       "      <td>0.00</td>\n",
       "      <td>0.0</td>\n",
       "      <td>0.00</td>\n",
       "      <td>1.0</td>\n",
       "    </tr>\n",
       "    <tr>\n",
       "      <th>AcceptedCmp5</th>\n",
       "      <td>2240.0</td>\n",
       "      <td>0.072768</td>\n",
       "      <td>0.259813</td>\n",
       "      <td>0.0</td>\n",
       "      <td>0.00</td>\n",
       "      <td>0.0</td>\n",
       "      <td>0.00</td>\n",
       "      <td>1.0</td>\n",
       "    </tr>\n",
       "    <tr>\n",
       "      <th>AcceptedCmp1</th>\n",
       "      <td>2240.0</td>\n",
       "      <td>0.064286</td>\n",
       "      <td>0.245316</td>\n",
       "      <td>0.0</td>\n",
       "      <td>0.00</td>\n",
       "      <td>0.0</td>\n",
       "      <td>0.00</td>\n",
       "      <td>1.0</td>\n",
       "    </tr>\n",
       "    <tr>\n",
       "      <th>AcceptedCmp2</th>\n",
       "      <td>2240.0</td>\n",
       "      <td>0.013393</td>\n",
       "      <td>0.114976</td>\n",
       "      <td>0.0</td>\n",
       "      <td>0.00</td>\n",
       "      <td>0.0</td>\n",
       "      <td>0.00</td>\n",
       "      <td>1.0</td>\n",
       "    </tr>\n",
       "    <tr>\n",
       "      <th>Complain</th>\n",
       "      <td>2240.0</td>\n",
       "      <td>0.009375</td>\n",
       "      <td>0.096391</td>\n",
       "      <td>0.0</td>\n",
       "      <td>0.00</td>\n",
       "      <td>0.0</td>\n",
       "      <td>0.00</td>\n",
       "      <td>1.0</td>\n",
       "    </tr>\n",
       "    <tr>\n",
       "      <th>Z_CostContact</th>\n",
       "      <td>2240.0</td>\n",
       "      <td>3.000000</td>\n",
       "      <td>0.000000</td>\n",
       "      <td>3.0</td>\n",
       "      <td>3.00</td>\n",
       "      <td>3.0</td>\n",
       "      <td>3.00</td>\n",
       "      <td>3.0</td>\n",
       "    </tr>\n",
       "    <tr>\n",
       "      <th>Z_Revenue</th>\n",
       "      <td>2240.0</td>\n",
       "      <td>11.000000</td>\n",
       "      <td>0.000000</td>\n",
       "      <td>11.0</td>\n",
       "      <td>11.00</td>\n",
       "      <td>11.0</td>\n",
       "      <td>11.00</td>\n",
       "      <td>11.0</td>\n",
       "    </tr>\n",
       "    <tr>\n",
       "      <th>Response</th>\n",
       "      <td>2240.0</td>\n",
       "      <td>0.149107</td>\n",
       "      <td>0.356274</td>\n",
       "      <td>0.0</td>\n",
       "      <td>0.00</td>\n",
       "      <td>0.0</td>\n",
       "      <td>0.00</td>\n",
       "      <td>1.0</td>\n",
       "    </tr>\n",
       "  </tbody>\n",
       "</table>\n",
       "</div>"
      ],
      "text/plain": [
       "                      count          mean           std     min       25%  \\\n",
       "ID                   2240.0   5592.159821   3246.662198     0.0   2828.25   \n",
       "Year_Birth           2240.0   1968.805804     11.984069  1893.0   1959.00   \n",
       "Income               2216.0  52247.251354  25173.076661  1730.0  35303.00   \n",
       "Kidhome              2240.0      0.444196      0.538398     0.0      0.00   \n",
       "Teenhome             2240.0      0.506250      0.544538     0.0      0.00   \n",
       "Recency              2240.0     49.109375     28.962453     0.0     24.00   \n",
       "MntWines             2240.0    303.935714    336.597393     0.0     23.75   \n",
       "MntFruits            2240.0     26.302232     39.773434     0.0      1.00   \n",
       "MntMeatProducts      2240.0    166.950000    225.715373     0.0     16.00   \n",
       "MntFishProducts      2240.0     37.525446     54.628979     0.0      3.00   \n",
       "MntSweetProducts     2240.0     27.062946     41.280498     0.0      1.00   \n",
       "MntGoldProds         2240.0     44.021875     52.167439     0.0      9.00   \n",
       "NumDealsPurchases    2240.0      2.325000      1.932238     0.0      1.00   \n",
       "NumWebPurchases      2240.0      4.084821      2.778714     0.0      2.00   \n",
       "NumCatalogPurchases  2240.0      2.662054      2.923101     0.0      0.00   \n",
       "NumStorePurchases    2240.0      5.790179      3.250958     0.0      3.00   \n",
       "NumWebVisitsMonth    2240.0      5.316518      2.426645     0.0      3.00   \n",
       "AcceptedCmp3         2240.0      0.072768      0.259813     0.0      0.00   \n",
       "AcceptedCmp4         2240.0      0.074554      0.262728     0.0      0.00   \n",
       "AcceptedCmp5         2240.0      0.072768      0.259813     0.0      0.00   \n",
       "AcceptedCmp1         2240.0      0.064286      0.245316     0.0      0.00   \n",
       "AcceptedCmp2         2240.0      0.013393      0.114976     0.0      0.00   \n",
       "Complain             2240.0      0.009375      0.096391     0.0      0.00   \n",
       "Z_CostContact        2240.0      3.000000      0.000000     3.0      3.00   \n",
       "Z_Revenue            2240.0     11.000000      0.000000    11.0     11.00   \n",
       "Response             2240.0      0.149107      0.356274     0.0      0.00   \n",
       "\n",
       "                         50%       75%       max  \n",
       "ID                    5458.5   8427.75   11191.0  \n",
       "Year_Birth            1970.0   1977.00    1996.0  \n",
       "Income               51381.5  68522.00  666666.0  \n",
       "Kidhome                  0.0      1.00       2.0  \n",
       "Teenhome                 0.0      1.00       2.0  \n",
       "Recency                 49.0     74.00      99.0  \n",
       "MntWines               173.5    504.25    1493.0  \n",
       "MntFruits                8.0     33.00     199.0  \n",
       "MntMeatProducts         67.0    232.00    1725.0  \n",
       "MntFishProducts         12.0     50.00     259.0  \n",
       "MntSweetProducts         8.0     33.00     263.0  \n",
       "MntGoldProds            24.0     56.00     362.0  \n",
       "NumDealsPurchases        2.0      3.00      15.0  \n",
       "NumWebPurchases          4.0      6.00      27.0  \n",
       "NumCatalogPurchases      2.0      4.00      28.0  \n",
       "NumStorePurchases        5.0      8.00      13.0  \n",
       "NumWebVisitsMonth        6.0      7.00      20.0  \n",
       "AcceptedCmp3             0.0      0.00       1.0  \n",
       "AcceptedCmp4             0.0      0.00       1.0  \n",
       "AcceptedCmp5             0.0      0.00       1.0  \n",
       "AcceptedCmp1             0.0      0.00       1.0  \n",
       "AcceptedCmp2             0.0      0.00       1.0  \n",
       "Complain                 0.0      0.00       1.0  \n",
       "Z_CostContact            3.0      3.00       3.0  \n",
       "Z_Revenue               11.0     11.00      11.0  \n",
       "Response                 0.0      0.00       1.0  "
      ]
     },
     "execution_count": 6,
     "metadata": {},
     "output_type": "execute_result"
    }
   ],
   "source": [
    "#numerical variable\n",
    "data[num].describe().T"
   ]
  },
  {
   "cell_type": "markdown",
   "metadata": {},
   "source": [
    "1. The interesting thing from the table explains that the numerical variable is found in the income variable where the maximum value is 666666 dollars with a standard deviation of 52247.2 which means the greater the range of variation of the variable income.\n",
    "2. In the Z_revenue variable, a uniformity value other than std appears, which means that the overall data is worth the same."
   ]
  },
  {
   "cell_type": "code",
   "execution_count": 7,
   "metadata": {},
   "outputs": [
    {
     "data": {
      "text/html": [
       "<div>\n",
       "<style scoped>\n",
       "    .dataframe tbody tr th:only-of-type {\n",
       "        vertical-align: middle;\n",
       "    }\n",
       "\n",
       "    .dataframe tbody tr th {\n",
       "        vertical-align: top;\n",
       "    }\n",
       "\n",
       "    .dataframe thead th {\n",
       "        text-align: right;\n",
       "    }\n",
       "</style>\n",
       "<table border=\"1\" class=\"dataframe\">\n",
       "  <thead>\n",
       "    <tr style=\"text-align: right;\">\n",
       "      <th></th>\n",
       "      <th>count</th>\n",
       "      <th>unique</th>\n",
       "      <th>top</th>\n",
       "      <th>freq</th>\n",
       "    </tr>\n",
       "  </thead>\n",
       "  <tbody>\n",
       "    <tr>\n",
       "      <th>Education</th>\n",
       "      <td>2240</td>\n",
       "      <td>5</td>\n",
       "      <td>Graduation</td>\n",
       "      <td>1127</td>\n",
       "    </tr>\n",
       "    <tr>\n",
       "      <th>Marital_Status</th>\n",
       "      <td>2240</td>\n",
       "      <td>8</td>\n",
       "      <td>Married</td>\n",
       "      <td>864</td>\n",
       "    </tr>\n",
       "    <tr>\n",
       "      <th>Dt_Customer</th>\n",
       "      <td>2240</td>\n",
       "      <td>663</td>\n",
       "      <td>2012-08-31</td>\n",
       "      <td>12</td>\n",
       "    </tr>\n",
       "  </tbody>\n",
       "</table>\n",
       "</div>"
      ],
      "text/plain": [
       "               count unique         top  freq\n",
       "Education       2240      5  Graduation  1127\n",
       "Marital_Status  2240      8     Married   864\n",
       "Dt_Customer     2240    663  2012-08-31    12"
      ]
     },
     "execution_count": 7,
     "metadata": {},
     "output_type": "execute_result"
    }
   ],
   "source": [
    "#categorical variable\n",
    "data[cat].describe().T"
   ]
  },
  {
   "cell_type": "markdown",
   "metadata": {},
   "source": [
    "We need to look more deeply into the distribution of categorical variables except Dt_Customer which will later be converted to a datetime data type"
   ]
  },
  {
   "cell_type": "markdown",
   "metadata": {},
   "source": [
    "## 3. DATA PREPROCESSING"
   ]
  },
  {
   "cell_type": "markdown",
   "metadata": {},
   "source": [
    "### a. Data Transformation"
   ]
  },
  {
   "cell_type": "code",
   "execution_count": 8,
   "metadata": {},
   "outputs": [
    {
     "name": "stdout",
     "output_type": "stream",
     "text": [
      "datetime64[ns]\n",
      "Education :\n",
      " Graduation    1127\n",
      "PhD            486\n",
      "Master         370\n",
      "2n Cycle       203\n",
      "Basic           54\n",
      "Name: Education, dtype: int64 \n",
      "\n",
      "Marital_Status :\n",
      " Married     864\n",
      "Together    580\n",
      "Single      480\n",
      "Divorced    232\n",
      "Widow        77\n",
      "Alone         3\n",
      "Absurd        2\n",
      "YOLO          2\n",
      "Name: Marital_Status, dtype: int64 \n",
      "\n"
     ]
    }
   ],
   "source": [
    "# Change Dt_Customer to datetime\n",
    "data['Dt_Customer']= pd.to_datetime(data['Dt_Customer'])\n",
    "print(data['Dt_Customer'].dtype)\n",
    "\n",
    "# Simplify Education and Marital_status categoric\n",
    "for col in data.columns:\n",
    "    if data[col].dtype == 'object':\n",
    "        print(col,\":\\n\",data[col].value_counts(),\"\\n\")\n",
    "    else:\n",
    "        None\n",
    "    "
   ]
  },
  {
   "cell_type": "markdown",
   "metadata": {},
   "source": [
    "1. We find in the Education variable there are 5 categories where the majority are Graduation. These levels are however, unfamiliar to me, especially the 2n Cycle Classification. it's the second level of university studies, lasts for 2 years, and is distributed mostly in European countries like Italy. While it may be analogous to the American Master's level, it indicates a large number of international customers and for that reason we'll leave it as it's own separate category. \n",
    "\n",
    "2. In Marital_Status variable, there are 8 different categories. but there are values that have the same force so that they can be combined into one. Married and Together categories have the same meaning while single, alone, absurd, YOLO we assume have the same meaning and lastly for divorced and widow we combine them into one.\n"
   ]
  },
  {
   "cell_type": "code",
   "execution_count": 9,
   "metadata": {},
   "outputs": [
    {
     "data": {
      "text/plain": [
       "Married     1444\n",
       "Single       487\n",
       "Divorced     309\n",
       "Name: Marital_Status, dtype: int64"
      ]
     },
     "execution_count": 9,
     "metadata": {},
     "output_type": "execute_result"
    }
   ],
   "source": [
    "#replace new value\n",
    "new_value= {'Together':'Married','Alone':'Single','Absurd':'Single','YOLO':'Single','Widow':'Divorced'}\n",
    "data['Marital_Status']= data['Marital_Status'].replace(new_value)\n",
    "data['Marital_Status'].value_counts()"
   ]
  },
  {
   "cell_type": "markdown",
   "metadata": {},
   "source": [
    "### b. Feature Engineering"
   ]
  },
  {
   "cell_type": "code",
   "execution_count": 10,
   "metadata": {},
   "outputs": [
    {
     "name": "stdout",
     "output_type": "stream",
     "text": [
      "0    65\n",
      "1    68\n",
      "2    57\n",
      "3    38\n",
      "4    41\n",
      "Name: Age, dtype: int64\n",
      "0    1617\n",
      "1      27\n",
      "2     776\n",
      "3      53\n",
      "4     422\n",
      "Name: Total_spending, dtype: int64\n",
      "0    22\n",
      "1     4\n",
      "2    20\n",
      "3     6\n",
      "4    14\n",
      "Name: Num_purchase, dtype: int64\n"
     ]
    }
   ],
   "source": [
    "#Create new variable from existing variable\n",
    "#Age, Total_spending, Num_Purchase\n",
    "\n",
    "data['Age']= 2022 - data['Year_Birth'] #Age\n",
    "print(data['Age'].head())\n",
    "\n",
    "data['Total_spending']= data['MntWines'] + data['MntFruits'] + data['MntMeatProducts'] + data['MntFishProducts'] + data['MntSweetProducts'] + data['MntGoldProds'] #Total_spending\n",
    "print(data['Total_spending'].head())\n",
    "\n",
    "data['Num_purchase']= data['NumWebPurchases'] + data['NumCatalogPurchases'] + data['NumStorePurchases'] #Num_purchase\n",
    "print(data['Num_purchase'].head())\n"
   ]
  },
  {
   "cell_type": "markdown",
   "metadata": {},
   "source": [
    "New variable explanation:\n",
    "1. Age= the age at which a customer became enrolled at our company and replacement of the variable Year_birth\n",
    "2. Total_spending= the sum of the amount spent on the 6 product categories (Wine,Fruit,Meat,Fish,Sweet,Gold)\n",
    "3. Num_purchase= The sum of purchases made from the catalogue, web, or in-store"
   ]
  },
  {
   "cell_type": "code",
   "execution_count": 11,
   "metadata": {},
   "outputs": [
    {
     "data": {
      "text/html": [
       "<div>\n",
       "<style scoped>\n",
       "    .dataframe tbody tr th:only-of-type {\n",
       "        vertical-align: middle;\n",
       "    }\n",
       "\n",
       "    .dataframe tbody tr th {\n",
       "        vertical-align: top;\n",
       "    }\n",
       "\n",
       "    .dataframe thead th {\n",
       "        text-align: right;\n",
       "    }\n",
       "</style>\n",
       "<table border=\"1\" class=\"dataframe\">\n",
       "  <thead>\n",
       "    <tr style=\"text-align: right;\">\n",
       "      <th></th>\n",
       "      <th>count</th>\n",
       "      <th>mean</th>\n",
       "      <th>std</th>\n",
       "      <th>min</th>\n",
       "      <th>25%</th>\n",
       "      <th>50%</th>\n",
       "      <th>75%</th>\n",
       "      <th>max</th>\n",
       "    </tr>\n",
       "  </thead>\n",
       "  <tbody>\n",
       "    <tr>\n",
       "      <th>Age</th>\n",
       "      <td>2240.0</td>\n",
       "      <td>53.194196</td>\n",
       "      <td>11.984069</td>\n",
       "      <td>26.0</td>\n",
       "      <td>45.00</td>\n",
       "      <td>52.0</td>\n",
       "      <td>63.0</td>\n",
       "      <td>129.0</td>\n",
       "    </tr>\n",
       "    <tr>\n",
       "      <th>Total_spending</th>\n",
       "      <td>2240.0</td>\n",
       "      <td>605.798214</td>\n",
       "      <td>602.249288</td>\n",
       "      <td>5.0</td>\n",
       "      <td>68.75</td>\n",
       "      <td>396.0</td>\n",
       "      <td>1045.5</td>\n",
       "      <td>2525.0</td>\n",
       "    </tr>\n",
       "    <tr>\n",
       "      <th>Num_purchase</th>\n",
       "      <td>2240.0</td>\n",
       "      <td>12.537054</td>\n",
       "      <td>7.205741</td>\n",
       "      <td>0.0</td>\n",
       "      <td>6.00</td>\n",
       "      <td>12.0</td>\n",
       "      <td>18.0</td>\n",
       "      <td>32.0</td>\n",
       "    </tr>\n",
       "  </tbody>\n",
       "</table>\n",
       "</div>"
      ],
      "text/plain": [
       "                 count        mean         std   min    25%    50%     75%  \\\n",
       "Age             2240.0   53.194196   11.984069  26.0  45.00   52.0    63.0   \n",
       "Total_spending  2240.0  605.798214  602.249288   5.0  68.75  396.0  1045.5   \n",
       "Num_purchase    2240.0   12.537054    7.205741   0.0   6.00   12.0    18.0   \n",
       "\n",
       "                   max  \n",
       "Age              129.0  \n",
       "Total_spending  2525.0  \n",
       "Num_purchase      32.0  "
      ]
     },
     "execution_count": 11,
     "metadata": {},
     "output_type": "execute_result"
    }
   ],
   "source": [
    "# statistik deskriptif untuk variable baru\n",
    "new_variable= ['Age','Total_spending','Num_purchase']\n",
    "data[new_variable].describe().T"
   ]
  },
  {
   "cell_type": "markdown",
   "metadata": {},
   "source": [
    "The results of descriptive statistics can be seen that:\n",
    "1. The highest customer age is 129 in 2022 which is very interesting. the average age of the customer is 53\n",
    "2. The average spending from customers in the last 2 years (dataset) is 605 dollars and the median is 396 dollars.\n",
    "3. There are customers who do not make purchases at all through the catalog, web, or in-store because the minimum value of Num_purchase is 0 and the highest total transaction is 32 times."
   ]
  },
  {
   "cell_type": "markdown",
   "metadata": {},
   "source": [
    "### c. Handling Missing Value"
   ]
  },
  {
   "cell_type": "code",
   "execution_count": 12,
   "metadata": {},
   "outputs": [],
   "source": [
    "#make function to detect precentage of missing value each variable\n",
    "def missingvalues(df):\n",
    "    df_null = pd.DataFrame({'Missing Values': df.isna().sum(\n",
    "    ).values, '% of Total Values': 100 * df.isnull().sum() / len(df)}, index=df.isna().sum().index)\n",
    "    df_null = df_null.sort_values(\n",
    "        '% of Total Values', ascending=False).round(2)\n",
    "    return df_null"
   ]
  },
  {
   "cell_type": "code",
   "execution_count": 13,
   "metadata": {},
   "outputs": [
    {
     "data": {
      "text/html": [
       "<div>\n",
       "<style scoped>\n",
       "    .dataframe tbody tr th:only-of-type {\n",
       "        vertical-align: middle;\n",
       "    }\n",
       "\n",
       "    .dataframe tbody tr th {\n",
       "        vertical-align: top;\n",
       "    }\n",
       "\n",
       "    .dataframe thead th {\n",
       "        text-align: right;\n",
       "    }\n",
       "</style>\n",
       "<table border=\"1\" class=\"dataframe\">\n",
       "  <thead>\n",
       "    <tr style=\"text-align: right;\">\n",
       "      <th></th>\n",
       "      <th>Missing Values</th>\n",
       "      <th>% of Total Values</th>\n",
       "    </tr>\n",
       "  </thead>\n",
       "  <tbody>\n",
       "    <tr>\n",
       "      <th>Income</th>\n",
       "      <td>24</td>\n",
       "      <td>1.07</td>\n",
       "    </tr>\n",
       "    <tr>\n",
       "      <th>ID</th>\n",
       "      <td>0</td>\n",
       "      <td>0.00</td>\n",
       "    </tr>\n",
       "    <tr>\n",
       "      <th>NumCatalogPurchases</th>\n",
       "      <td>0</td>\n",
       "      <td>0.00</td>\n",
       "    </tr>\n",
       "    <tr>\n",
       "      <th>Total_spending</th>\n",
       "      <td>0</td>\n",
       "      <td>0.00</td>\n",
       "    </tr>\n",
       "    <tr>\n",
       "      <th>Age</th>\n",
       "      <td>0</td>\n",
       "      <td>0.00</td>\n",
       "    </tr>\n",
       "    <tr>\n",
       "      <th>Response</th>\n",
       "      <td>0</td>\n",
       "      <td>0.00</td>\n",
       "    </tr>\n",
       "    <tr>\n",
       "      <th>Z_Revenue</th>\n",
       "      <td>0</td>\n",
       "      <td>0.00</td>\n",
       "    </tr>\n",
       "    <tr>\n",
       "      <th>Z_CostContact</th>\n",
       "      <td>0</td>\n",
       "      <td>0.00</td>\n",
       "    </tr>\n",
       "    <tr>\n",
       "      <th>Complain</th>\n",
       "      <td>0</td>\n",
       "      <td>0.00</td>\n",
       "    </tr>\n",
       "    <tr>\n",
       "      <th>AcceptedCmp2</th>\n",
       "      <td>0</td>\n",
       "      <td>0.00</td>\n",
       "    </tr>\n",
       "    <tr>\n",
       "      <th>AcceptedCmp1</th>\n",
       "      <td>0</td>\n",
       "      <td>0.00</td>\n",
       "    </tr>\n",
       "    <tr>\n",
       "      <th>AcceptedCmp5</th>\n",
       "      <td>0</td>\n",
       "      <td>0.00</td>\n",
       "    </tr>\n",
       "    <tr>\n",
       "      <th>AcceptedCmp4</th>\n",
       "      <td>0</td>\n",
       "      <td>0.00</td>\n",
       "    </tr>\n",
       "    <tr>\n",
       "      <th>AcceptedCmp3</th>\n",
       "      <td>0</td>\n",
       "      <td>0.00</td>\n",
       "    </tr>\n",
       "    <tr>\n",
       "      <th>NumWebVisitsMonth</th>\n",
       "      <td>0</td>\n",
       "      <td>0.00</td>\n",
       "    </tr>\n",
       "    <tr>\n",
       "      <th>NumStorePurchases</th>\n",
       "      <td>0</td>\n",
       "      <td>0.00</td>\n",
       "    </tr>\n",
       "    <tr>\n",
       "      <th>NumWebPurchases</th>\n",
       "      <td>0</td>\n",
       "      <td>0.00</td>\n",
       "    </tr>\n",
       "    <tr>\n",
       "      <th>Year_Birth</th>\n",
       "      <td>0</td>\n",
       "      <td>0.00</td>\n",
       "    </tr>\n",
       "    <tr>\n",
       "      <th>NumDealsPurchases</th>\n",
       "      <td>0</td>\n",
       "      <td>0.00</td>\n",
       "    </tr>\n",
       "    <tr>\n",
       "      <th>MntGoldProds</th>\n",
       "      <td>0</td>\n",
       "      <td>0.00</td>\n",
       "    </tr>\n",
       "    <tr>\n",
       "      <th>MntSweetProducts</th>\n",
       "      <td>0</td>\n",
       "      <td>0.00</td>\n",
       "    </tr>\n",
       "    <tr>\n",
       "      <th>MntFishProducts</th>\n",
       "      <td>0</td>\n",
       "      <td>0.00</td>\n",
       "    </tr>\n",
       "    <tr>\n",
       "      <th>MntMeatProducts</th>\n",
       "      <td>0</td>\n",
       "      <td>0.00</td>\n",
       "    </tr>\n",
       "    <tr>\n",
       "      <th>MntFruits</th>\n",
       "      <td>0</td>\n",
       "      <td>0.00</td>\n",
       "    </tr>\n",
       "    <tr>\n",
       "      <th>MntWines</th>\n",
       "      <td>0</td>\n",
       "      <td>0.00</td>\n",
       "    </tr>\n",
       "    <tr>\n",
       "      <th>Recency</th>\n",
       "      <td>0</td>\n",
       "      <td>0.00</td>\n",
       "    </tr>\n",
       "    <tr>\n",
       "      <th>Dt_Customer</th>\n",
       "      <td>0</td>\n",
       "      <td>0.00</td>\n",
       "    </tr>\n",
       "    <tr>\n",
       "      <th>Teenhome</th>\n",
       "      <td>0</td>\n",
       "      <td>0.00</td>\n",
       "    </tr>\n",
       "    <tr>\n",
       "      <th>Kidhome</th>\n",
       "      <td>0</td>\n",
       "      <td>0.00</td>\n",
       "    </tr>\n",
       "    <tr>\n",
       "      <th>Marital_Status</th>\n",
       "      <td>0</td>\n",
       "      <td>0.00</td>\n",
       "    </tr>\n",
       "    <tr>\n",
       "      <th>Education</th>\n",
       "      <td>0</td>\n",
       "      <td>0.00</td>\n",
       "    </tr>\n",
       "    <tr>\n",
       "      <th>Num_purchase</th>\n",
       "      <td>0</td>\n",
       "      <td>0.00</td>\n",
       "    </tr>\n",
       "  </tbody>\n",
       "</table>\n",
       "</div>"
      ],
      "text/plain": [
       "                     Missing Values  % of Total Values\n",
       "Income                           24               1.07\n",
       "ID                                0               0.00\n",
       "NumCatalogPurchases               0               0.00\n",
       "Total_spending                    0               0.00\n",
       "Age                               0               0.00\n",
       "Response                          0               0.00\n",
       "Z_Revenue                         0               0.00\n",
       "Z_CostContact                     0               0.00\n",
       "Complain                          0               0.00\n",
       "AcceptedCmp2                      0               0.00\n",
       "AcceptedCmp1                      0               0.00\n",
       "AcceptedCmp5                      0               0.00\n",
       "AcceptedCmp4                      0               0.00\n",
       "AcceptedCmp3                      0               0.00\n",
       "NumWebVisitsMonth                 0               0.00\n",
       "NumStorePurchases                 0               0.00\n",
       "NumWebPurchases                   0               0.00\n",
       "Year_Birth                        0               0.00\n",
       "NumDealsPurchases                 0               0.00\n",
       "MntGoldProds                      0               0.00\n",
       "MntSweetProducts                  0               0.00\n",
       "MntFishProducts                   0               0.00\n",
       "MntMeatProducts                   0               0.00\n",
       "MntFruits                         0               0.00\n",
       "MntWines                          0               0.00\n",
       "Recency                           0               0.00\n",
       "Dt_Customer                       0               0.00\n",
       "Teenhome                          0               0.00\n",
       "Kidhome                           0               0.00\n",
       "Marital_Status                    0               0.00\n",
       "Education                         0               0.00\n",
       "Num_purchase                      0               0.00"
      ]
     },
     "execution_count": 13,
     "metadata": {},
     "output_type": "execute_result"
    }
   ],
   "source": [
    "missingvalues(data)"
   ]
  },
  {
   "cell_type": "markdown",
   "metadata": {},
   "source": [
    "There is only one variable that has a missing value, namely the income variable and the number is relatively small. so that it can be filled by using the average value of the variable."
   ]
  },
  {
   "cell_type": "code",
   "execution_count": 14,
   "metadata": {},
   "outputs": [
    {
     "data": {
      "text/html": [
       "<div>\n",
       "<style scoped>\n",
       "    .dataframe tbody tr th:only-of-type {\n",
       "        vertical-align: middle;\n",
       "    }\n",
       "\n",
       "    .dataframe tbody tr th {\n",
       "        vertical-align: top;\n",
       "    }\n",
       "\n",
       "    .dataframe thead th {\n",
       "        text-align: right;\n",
       "    }\n",
       "</style>\n",
       "<table border=\"1\" class=\"dataframe\">\n",
       "  <thead>\n",
       "    <tr style=\"text-align: right;\">\n",
       "      <th></th>\n",
       "      <th>Missing Values</th>\n",
       "      <th>% of Total Values</th>\n",
       "    </tr>\n",
       "  </thead>\n",
       "  <tbody>\n",
       "    <tr>\n",
       "      <th>ID</th>\n",
       "      <td>0</td>\n",
       "      <td>0.0</td>\n",
       "    </tr>\n",
       "    <tr>\n",
       "      <th>Year_Birth</th>\n",
       "      <td>0</td>\n",
       "      <td>0.0</td>\n",
       "    </tr>\n",
       "    <tr>\n",
       "      <th>Total_spending</th>\n",
       "      <td>0</td>\n",
       "      <td>0.0</td>\n",
       "    </tr>\n",
       "    <tr>\n",
       "      <th>Age</th>\n",
       "      <td>0</td>\n",
       "      <td>0.0</td>\n",
       "    </tr>\n",
       "    <tr>\n",
       "      <th>Response</th>\n",
       "      <td>0</td>\n",
       "      <td>0.0</td>\n",
       "    </tr>\n",
       "    <tr>\n",
       "      <th>Z_Revenue</th>\n",
       "      <td>0</td>\n",
       "      <td>0.0</td>\n",
       "    </tr>\n",
       "    <tr>\n",
       "      <th>Z_CostContact</th>\n",
       "      <td>0</td>\n",
       "      <td>0.0</td>\n",
       "    </tr>\n",
       "    <tr>\n",
       "      <th>Complain</th>\n",
       "      <td>0</td>\n",
       "      <td>0.0</td>\n",
       "    </tr>\n",
       "    <tr>\n",
       "      <th>AcceptedCmp2</th>\n",
       "      <td>0</td>\n",
       "      <td>0.0</td>\n",
       "    </tr>\n",
       "    <tr>\n",
       "      <th>AcceptedCmp1</th>\n",
       "      <td>0</td>\n",
       "      <td>0.0</td>\n",
       "    </tr>\n",
       "    <tr>\n",
       "      <th>AcceptedCmp5</th>\n",
       "      <td>0</td>\n",
       "      <td>0.0</td>\n",
       "    </tr>\n",
       "    <tr>\n",
       "      <th>AcceptedCmp4</th>\n",
       "      <td>0</td>\n",
       "      <td>0.0</td>\n",
       "    </tr>\n",
       "    <tr>\n",
       "      <th>AcceptedCmp3</th>\n",
       "      <td>0</td>\n",
       "      <td>0.0</td>\n",
       "    </tr>\n",
       "    <tr>\n",
       "      <th>NumWebVisitsMonth</th>\n",
       "      <td>0</td>\n",
       "      <td>0.0</td>\n",
       "    </tr>\n",
       "    <tr>\n",
       "      <th>NumStorePurchases</th>\n",
       "      <td>0</td>\n",
       "      <td>0.0</td>\n",
       "    </tr>\n",
       "    <tr>\n",
       "      <th>NumCatalogPurchases</th>\n",
       "      <td>0</td>\n",
       "      <td>0.0</td>\n",
       "    </tr>\n",
       "    <tr>\n",
       "      <th>NumWebPurchases</th>\n",
       "      <td>0</td>\n",
       "      <td>0.0</td>\n",
       "    </tr>\n",
       "    <tr>\n",
       "      <th>NumDealsPurchases</th>\n",
       "      <td>0</td>\n",
       "      <td>0.0</td>\n",
       "    </tr>\n",
       "    <tr>\n",
       "      <th>MntGoldProds</th>\n",
       "      <td>0</td>\n",
       "      <td>0.0</td>\n",
       "    </tr>\n",
       "    <tr>\n",
       "      <th>MntSweetProducts</th>\n",
       "      <td>0</td>\n",
       "      <td>0.0</td>\n",
       "    </tr>\n",
       "    <tr>\n",
       "      <th>MntFishProducts</th>\n",
       "      <td>0</td>\n",
       "      <td>0.0</td>\n",
       "    </tr>\n",
       "    <tr>\n",
       "      <th>MntMeatProducts</th>\n",
       "      <td>0</td>\n",
       "      <td>0.0</td>\n",
       "    </tr>\n",
       "    <tr>\n",
       "      <th>MntFruits</th>\n",
       "      <td>0</td>\n",
       "      <td>0.0</td>\n",
       "    </tr>\n",
       "    <tr>\n",
       "      <th>MntWines</th>\n",
       "      <td>0</td>\n",
       "      <td>0.0</td>\n",
       "    </tr>\n",
       "    <tr>\n",
       "      <th>Recency</th>\n",
       "      <td>0</td>\n",
       "      <td>0.0</td>\n",
       "    </tr>\n",
       "    <tr>\n",
       "      <th>Dt_Customer</th>\n",
       "      <td>0</td>\n",
       "      <td>0.0</td>\n",
       "    </tr>\n",
       "    <tr>\n",
       "      <th>Teenhome</th>\n",
       "      <td>0</td>\n",
       "      <td>0.0</td>\n",
       "    </tr>\n",
       "    <tr>\n",
       "      <th>Kidhome</th>\n",
       "      <td>0</td>\n",
       "      <td>0.0</td>\n",
       "    </tr>\n",
       "    <tr>\n",
       "      <th>Income</th>\n",
       "      <td>0</td>\n",
       "      <td>0.0</td>\n",
       "    </tr>\n",
       "    <tr>\n",
       "      <th>Marital_Status</th>\n",
       "      <td>0</td>\n",
       "      <td>0.0</td>\n",
       "    </tr>\n",
       "    <tr>\n",
       "      <th>Education</th>\n",
       "      <td>0</td>\n",
       "      <td>0.0</td>\n",
       "    </tr>\n",
       "    <tr>\n",
       "      <th>Num_purchase</th>\n",
       "      <td>0</td>\n",
       "      <td>0.0</td>\n",
       "    </tr>\n",
       "  </tbody>\n",
       "</table>\n",
       "</div>"
      ],
      "text/plain": [
       "                     Missing Values  % of Total Values\n",
       "ID                                0                0.0\n",
       "Year_Birth                        0                0.0\n",
       "Total_spending                    0                0.0\n",
       "Age                               0                0.0\n",
       "Response                          0                0.0\n",
       "Z_Revenue                         0                0.0\n",
       "Z_CostContact                     0                0.0\n",
       "Complain                          0                0.0\n",
       "AcceptedCmp2                      0                0.0\n",
       "AcceptedCmp1                      0                0.0\n",
       "AcceptedCmp5                      0                0.0\n",
       "AcceptedCmp4                      0                0.0\n",
       "AcceptedCmp3                      0                0.0\n",
       "NumWebVisitsMonth                 0                0.0\n",
       "NumStorePurchases                 0                0.0\n",
       "NumCatalogPurchases               0                0.0\n",
       "NumWebPurchases                   0                0.0\n",
       "NumDealsPurchases                 0                0.0\n",
       "MntGoldProds                      0                0.0\n",
       "MntSweetProducts                  0                0.0\n",
       "MntFishProducts                   0                0.0\n",
       "MntMeatProducts                   0                0.0\n",
       "MntFruits                         0                0.0\n",
       "MntWines                          0                0.0\n",
       "Recency                           0                0.0\n",
       "Dt_Customer                       0                0.0\n",
       "Teenhome                          0                0.0\n",
       "Kidhome                           0                0.0\n",
       "Income                            0                0.0\n",
       "Marital_Status                    0                0.0\n",
       "Education                         0                0.0\n",
       "Num_purchase                      0                0.0"
      ]
     },
     "execution_count": 14,
     "metadata": {},
     "output_type": "execute_result"
    }
   ],
   "source": [
    "# mengisi missing value dengan mean\n",
    "data['Income']=data['Income'].fillna(data['Income'].mean())\n",
    "\n",
    "missingvalues(data)\n"
   ]
  },
  {
   "cell_type": "markdown",
   "metadata": {},
   "source": [
    "### d. Handling Outlier"
   ]
  },
  {
   "cell_type": "code",
   "execution_count": 15,
   "metadata": {},
   "outputs": [
    {
     "data": {
      "image/png": "[encoded data removed]",
      "text/plain": [
       "<Figure size 720x576 with 1 Axes>"
      ]
     },
     "metadata": {
      "needs_background": "light"
     },
     "output_type": "display_data"
    },
    {
     "data": {
      "image/png": "[encoded data removed]",
      "text/plain": [
       "<Figure size 720x576 with 1 Axes>"
      ]
     },
     "metadata": {
      "needs_background": "light"
     },
     "output_type": "display_data"
    },
    {
     "data": {
      "image/png": "[encoded data removed]",
      "text/plain": [
       "<Figure size 720x576 with 1 Axes>"
      ]
     },
     "metadata": {
      "needs_background": "light"
     },
     "output_type": "display_data"
    },
    {
     "data": {
      "image/png": "[encoded data removed]",
      "text/plain": [
       "<Figure size 720x576 with 1 Axes>"
      ]
     },
     "metadata": {
      "needs_background": "light"
     },
     "output_type": "display_data"
    },
    {
     "data": {
      "image/png": "[encoded data removed]",
      "text/plain": [
       "<Figure size 720x576 with 1 Axes>"
      ]
     },
     "metadata": {
      "needs_background": "light"
     },
     "output_type": "display_data"
    },
    {
     "data": {
      "image/png": "[encoded data removed]",
      "text/plain": [
       "<Figure size 720x576 with 1 Axes>"
      ]
     },
     "metadata": {
      "needs_background": "light"
     },
     "output_type": "display_data"
    }
   ],
   "source": [
    "variable_check=['Income', 'Total_spending','Recency', 'NumWebVisitsMonth', 'Age', 'Num_purchase']\n",
    "\n",
    "for i in variable_check:\n",
    "    plt.figure(figsize=(10,8))\n",
    "    sns.boxplot(data=data[i])\n",
    "    plt.title(i)\n",
    "    #plt.xlabel(i)\n",
    "    plt.ylabel('Values')\n",
    "    plt.show()"
   ]
  },
  {
   "cell_type": "markdown",
   "metadata": {},
   "source": [
    "We use the Box-Plot graphical method which enables us to vizualize the range of our data and plot the outliers. From above we can see that several variables seem to have outliers :\n",
    "1. On Income there is one consumer who has income above 600k so it was decided to remove the outlier. but we don't remove other outliers because the value is still rational for the customer to get 115k income\n",
    "2. Total_spending and NumWebVisitsMonth have outliers that are still rational to accept\n",
    "3. variable age, there are 3 customers who are more than 120 years old, we don't delete the outlier"
   ]
  },
  {
   "cell_type": "code",
   "execution_count": 16,
   "metadata": {},
   "outputs": [
    {
     "data": {
      "image/png": "[encoded data removed]",
      "text/plain": [
       "<Figure size 720x576 with 1 Axes>"
      ]
     },
     "metadata": {
      "needs_background": "light"
     },
     "output_type": "display_data"
    }
   ],
   "source": [
    "#Drop Income outlier\n",
    "data= data[data['Income'] <= 600000]\n",
    "\n",
    "#check the data\n",
    "plt.figure(figsize=(10,8))\n",
    "sns.boxplot(data=data['Income'])\n",
    "plt.show()\n",
    "\n"
   ]
  },
  {
   "cell_type": "markdown",
   "metadata": {},
   "source": [
    "## 4. EXPLORATORY DATA ANALYSIS (EDA)"
   ]
  },
  {
   "cell_type": "markdown",
   "metadata": {},
   "source": [
    "### a. average income by education\n"
   ]
  },
  {
   "cell_type": "code",
   "execution_count": 17,
   "metadata": {},
   "outputs": [],
   "source": [
    "import plotly.express as px"
   ]
  },
  {
   "cell_type": "code",
   "execution_count": 18,
   "metadata": {},
   "outputs": [
    {
     "name": "stdout",
     "output_type": "stream",
     "text": [
      "    Education        Income\n",
      "0       Basic  20306.259259\n",
      "1    2n Cycle  47701.378099\n",
      "2  Graduation  52170.506896\n",
      "3      Master  52908.476370\n",
      "4         PhD  56105.210405\n"
     ]
    },
    {
     "data": {
      "application/vnd.plotly.v1+json": {
       "config": {
        "plotlyServerURL": "https://plot.ly"
       },
       "data": [
        {
         "alignmentgroup": "True",
         "hovertemplate": "Education=%{x}<br>Income=%{y}<extra></extra>",
         "legendgroup": "",
         "marker": {
          "color": "#636efa",
          "pattern": {
           "shape": ""
          }
         },
         "name": "",
         "offsetgroup": "",
         "orientation": "v",
         "showlegend": false,
         "textposition": "auto",
         "type": "bar",
         "x": [
          "Basic",
          "2n Cycle",
          "Graduation",
          "Master",
          "PhD"
         ],
         "xaxis": "x",
         "y": [
          20306.25925925926,
          47701.37809882449,
          52170.50689599618,
          52908.47636964582,
          56105.210404874386
         ],
         "yaxis": "y"
        }
       ],
       "layout": {
        "barmode": "relative",
        "legend": {
         "tracegroupgap": 0
        },
        "template": {
         "data": {
          "bar": [
           {
            "error_x": {
             "color": "#2a3f5f"
            },
            "error_y": {
             "color": "#2a3f5f"
            },
            "marker": {
             "line": {
              "color": "#E5ECF6",
              "width": 0.5
             },
             "pattern": {
              "fillmode": "overlay",
              "size": 10,
              "solidity": 0.2
             }
            },
            "type": "bar"
           }
          ],
          "barpolar": [
           {
            "marker": {
             "line": {
              "color": "#E5ECF6",
              "width": 0.5
             },
             "pattern": {
              "fillmode": "overlay",
              "size": 10,
              "solidity": 0.2
             }
            },
            "type": "barpolar"
           }
          ],
          "carpet": [
           {
            "aaxis": {
             "endlinecolor": "#2a3f5f",
             "gridcolor": "white",
             "linecolor": "white",
             "minorgridcolor": "white",
             "startlinecolor": "#2a3f5f"
            },
            "baxis": {
             "endlinecolor": "#2a3f5f",
             "gridcolor": "white",
             "linecolor": "white",
             "minorgridcolor": "white",
             "startlinecolor": "#2a3f5f"
            },
            "type": "carpet"
           }
          ],
          "choropleth": [
           {
            "colorbar": {
             "outlinewidth": 0,
             "ticks": ""
            },
            "type": "choropleth"
           }
          ],
          "contour": [
           {
            "colorbar": {
             "outlinewidth": 0,
             "ticks": ""
            },
            "colorscale": [
             [
              0,
              "#0d0887"
             ],
             [
              0.1111111111111111,
              "#46039f"
             ],
             [
              0.2222222222222222,
              "#7201a8"
             ],
             [
              0.3333333333333333,
              "#9c179e"
             ],
             [
              0.4444444444444444,
              "#bd3786"
             ],
             [
              0.5555555555555556,
              "#d8576b"
             ],
             [
              0.6666666666666666,
              "#ed7953"
             ],
             [
              0.7777777777777778,
              "#fb9f3a"
             ],
             [
              0.8888888888888888,
              "#fdca26"
             ],
             [
              1,
              "#f0f921"
             ]
            ],
            "type": "contour"
           }
          ],
          "contourcarpet": [
           {
            "colorbar": {
             "outlinewidth": 0,
             "ticks": ""
            },
            "type": "contourcarpet"
           }
          ],
          "heatmap": [
           {
            "colorbar": {
             "outlinewidth": 0,
             "ticks": ""
            },
            "colorscale": [
             [
              0,
              "#0d0887"
             ],
             [
              0.1111111111111111,
              "#46039f"
             ],
             [
              0.2222222222222222,
              "#7201a8"
             ],
             [
              0.3333333333333333,
              "#9c179e"
             ],
             [
              0.4444444444444444,
              "#bd3786"
             ],
             [
              0.5555555555555556,
              "#d8576b"
             ],
             [
              0.6666666666666666,
              "#ed7953"
             ],
             [
              0.7777777777777778,
              "#fb9f3a"
             ],
             [
              0.8888888888888888,
              "#fdca26"
             ],
             [
              1,
              "#f0f921"
             ]
            ],
            "type": "heatmap"
           }
          ],
          "heatmapgl": [
           {
            "colorbar": {
             "outlinewidth": 0,
             "ticks": ""
            },
            "colorscale": [
             [
              0,
              "#0d0887"
             ],
             [
              0.1111111111111111,
              "#46039f"
             ],
             [
              0.2222222222222222,
              "#7201a8"
             ],
             [
              0.3333333333333333,
              "#9c179e"
             ],
             [
              0.4444444444444444,
              "#bd3786"
             ],
             [
              0.5555555555555556,
              "#d8576b"
             ],
             [
              0.6666666666666666,
              "#ed7953"
             ],
             [
              0.7777777777777778,
              "#fb9f3a"
             ],
             [
              0.8888888888888888,
              "#fdca26"
             ],
             [
              1,
              "#f0f921"
             ]
            ],
            "type": "heatmapgl"
           }
          ],
          "histogram": [
           {
            "marker": {
             "pattern": {
              "fillmode": "overlay",
              "size": 10,
              "solidity": 0.2
             }
            },
            "type": "histogram"
           }
          ],
          "histogram2d": [
           {
            "colorbar": {
             "outlinewidth": 0,
             "ticks": ""
            },
            "colorscale": [
             [
              0,
              "#0d0887"
             ],
             [
              0.1111111111111111,
              "#46039f"
             ],
             [
              0.2222222222222222,
              "#7201a8"
             ],
             [
              0.3333333333333333,
              "#9c179e"
             ],
             [
              0.4444444444444444,
              "#bd3786"
             ],
             [
              0.5555555555555556,
              "#d8576b"
             ],
             [
              0.6666666666666666,
              "#ed7953"
             ],
             [
              0.7777777777777778,
              "#fb9f3a"
             ],
             [
              0.8888888888888888,
              "#fdca26"
             ],
             [
              1,
              "#f0f921"
             ]
            ],
            "type": "histogram2d"
           }
          ],
          "histogram2dcontour": [
           {
            "colorbar": {
             "outlinewidth": 0,
             "ticks": ""
            },
            "colorscale": [
             [
              0,
              "#0d0887"
             ],
             [
              0.1111111111111111,
              "#46039f"
             ],
             [
              0.2222222222222222,
              "#7201a8"
             ],
             [
              0.3333333333333333,
              "#9c179e"
             ],
             [
              0.4444444444444444,
              "#bd3786"
             ],
             [
              0.5555555555555556,
              "#d8576b"
             ],
             [
              0.6666666666666666,
              "#ed7953"
             ],
             [
              0.7777777777777778,
              "#fb9f3a"
             ],
             [
              0.8888888888888888,
              "#fdca26"
             ],
             [
              1,
              "#f0f921"
             ]
            ],
            "type": "histogram2dcontour"
           }
          ],
          "mesh3d": [
           {
            "colorbar": {
             "outlinewidth": 0,
             "ticks": ""
            },
            "type": "mesh3d"
           }
          ],
          "parcoords": [
           {
            "line": {
             "colorbar": {
              "outlinewidth": 0,
              "ticks": ""
             }
            },
            "type": "parcoords"
           }
          ],
          "pie": [
           {
            "automargin": true,
            "type": "pie"
           }
          ],
          "scatter": [
           {
            "marker": {
             "colorbar": {
              "outlinewidth": 0,
              "ticks": ""
             }
            },
            "type": "scatter"
           }
          ],
          "scatter3d": [
           {
            "line": {
             "colorbar": {
              "outlinewidth": 0,
              "ticks": ""
             }
            },
            "marker": {
             "colorbar": {
              "outlinewidth": 0,
              "ticks": ""
             }
            },
            "type": "scatter3d"
           }
          ],
          "scattercarpet": [
           {
            "marker": {
             "colorbar": {
              "outlinewidth": 0,
              "ticks": ""
             }
            },
            "type": "scattercarpet"
           }
          ],
          "scattergeo": [
           {
            "marker": {
             "colorbar": {
              "outlinewidth": 0,
              "ticks": ""
             }
            },
            "type": "scattergeo"
           }
          ],
          "scattergl": [
           {
            "marker": {
             "colorbar": {
              "outlinewidth": 0,
              "ticks": ""
             }
            },
            "type": "scattergl"
           }
          ],
          "scattermapbox": [
           {
            "marker": {
             "colorbar": {
              "outlinewidth": 0,
              "ticks": ""
             }
            },
            "type": "scattermapbox"
           }
          ],
          "scatterpolar": [
           {
            "marker": {
             "colorbar": {
              "outlinewidth": 0,
              "ticks": ""
             }
            },
            "type": "scatterpolar"
           }
          ],
          "scatterpolargl": [
           {
            "marker": {
             "colorbar": {
              "outlinewidth": 0,
              "ticks": ""
             }
            },
            "type": "scatterpolargl"
           }
          ],
          "scatterternary": [
           {
            "marker": {
             "colorbar": {
              "outlinewidth": 0,
              "ticks": ""
             }
            },
            "type": "scatterternary"
           }
          ],
          "surface": [
           {
            "colorbar": {
             "outlinewidth": 0,
             "ticks": ""
            },
            "colorscale": [
             [
              0,
              "#0d0887"
             ],
             [
              0.1111111111111111,
              "#46039f"
             ],
             [
              0.2222222222222222,
              "#7201a8"
             ],
             [
              0.3333333333333333,
              "#9c179e"
             ],
             [
              0.4444444444444444,
              "#bd3786"
             ],
             [
              0.5555555555555556,
              "#d8576b"
             ],
             [
              0.6666666666666666,
              "#ed7953"
             ],
             [
              0.7777777777777778,
              "#fb9f3a"
             ],
             [
              0.8888888888888888,
              "#fdca26"
             ],
             [
              1,
              "#f0f921"
             ]
            ],
            "type": "surface"
           }
          ],
          "table": [
           {
            "cells": {
             "fill": {
              "color": "#EBF0F8"
             },
             "line": {
              "color": "white"
             }
            },
            "header": {
             "fill": {
              "color": "#C8D4E3"
             },
             "line": {
              "color": "white"
             }
            },
            "type": "table"
           }
          ]
         },
         "layout": {
          "annotationdefaults": {
           "arrowcolor": "#2a3f5f",
           "arrowhead": 0,
           "arrowwidth": 1
          },
          "autotypenumbers": "strict",
          "coloraxis": {
           "colorbar": {
            "outlinewidth": 0,
            "ticks": ""
           }
          },
          "colorscale": {
           "diverging": [
            [
             0,
             "#8e0152"
            ],
            [
             0.1,
             "#c51b7d"
            ],
            [
             0.2,
             "#de77ae"
            ],
            [
             0.3,
             "#f1b6da"
            ],
            [
             0.4,
             "#fde0ef"
            ],
            [
             0.5,
             "#f7f7f7"
            ],
            [
             0.6,
             "#e6f5d0"
            ],
            [
             0.7,
             "#b8e186"
            ],
            [
             0.8,
             "#7fbc41"
            ],
            [
             0.9,
             "#4d9221"
            ],
            [
             1,
             "#276419"
            ]
           ],
           "sequential": [
            [
             0,
             "#0d0887"
            ],
            [
             0.1111111111111111,
             "#46039f"
            ],
            [
             0.2222222222222222,
             "#7201a8"
            ],
            [
             0.3333333333333333,
             "#9c179e"
            ],
            [
             0.4444444444444444,
             "#bd3786"
            ],
            [
             0.5555555555555556,
             "#d8576b"
            ],
            [
             0.6666666666666666,
             "#ed7953"
            ],
            [
             0.7777777777777778,
             "#fb9f3a"
            ],
            [
             0.8888888888888888,
             "#fdca26"
            ],
            [
             1,
             "#f0f921"
            ]
           ],
           "sequentialminus": [
            [
             0,
             "#0d0887"
            ],
            [
             0.1111111111111111,
             "#46039f"
            ],
            [
             0.2222222222222222,
             "#7201a8"
            ],
            [
             0.3333333333333333,
             "#9c179e"
            ],
            [
             0.4444444444444444,
             "#bd3786"
            ],
            [
             0.5555555555555556,
             "#d8576b"
            ],
            [
             0.6666666666666666,
             "#ed7953"
            ],
            [
             0.7777777777777778,
             "#fb9f3a"
            ],
            [
             0.8888888888888888,
             "#fdca26"
            ],
            [
             1,
             "#f0f921"
            ]
           ]
          },
          "colorway": [
           "#636efa",
           "#EF553B",
           "#00cc96",
           "#ab63fa",
           "#FFA15A",
           "#19d3f3",
           "#FF6692",
           "#B6E880",
           "#FF97FF",
           "#FECB52"
          ],
          "font": {
           "color": "#2a3f5f"
          },
          "geo": {
           "bgcolor": "white",
           "lakecolor": "white",
           "landcolor": "#E5ECF6",
           "showlakes": true,
           "showland": true,
           "subunitcolor": "white"
          },
          "hoverlabel": {
           "align": "left"
          },
          "hovermode": "closest",
          "mapbox": {
           "style": "light"
          },
          "paper_bgcolor": "white",
          "plot_bgcolor": "#E5ECF6",
          "polar": {
           "angularaxis": {
            "gridcolor": "white",
            "linecolor": "white",
            "ticks": ""
           },
           "bgcolor": "#E5ECF6",
           "radialaxis": {
            "gridcolor": "white",
            "linecolor": "white",
            "ticks": ""
           }
          },
          "scene": {
           "xaxis": {
            "backgroundcolor": "#E5ECF6",
            "gridcolor": "white",
            "gridwidth": 2,
            "linecolor": "white",
            "showbackground": true,
            "ticks": "",
            "zerolinecolor": "white"
           },
           "yaxis": {
            "backgroundcolor": "#E5ECF6",
            "gridcolor": "white",
            "gridwidth": 2,
            "linecolor": "white",
            "showbackground": true,
            "ticks": "",
            "zerolinecolor": "white"
           },
           "zaxis": {
            "backgroundcolor": "#E5ECF6",
            "gridcolor": "white",
            "gridwidth": 2,
            "linecolor": "white",
            "showbackground": true,
            "ticks": "",
            "zerolinecolor": "white"
           }
          },
          "shapedefaults": {
           "line": {
            "color": "#2a3f5f"
           }
          },
          "ternary": {
           "aaxis": {
            "gridcolor": "white",
            "linecolor": "white",
            "ticks": ""
           },
           "baxis": {
            "gridcolor": "white",
            "linecolor": "white",
            "ticks": ""
           },
           "bgcolor": "#E5ECF6",
           "caxis": {
            "gridcolor": "white",
            "linecolor": "white",
            "ticks": ""
           }
          },
          "title": {
           "x": 0.05
          },
          "xaxis": {
           "automargin": true,
           "gridcolor": "white",
           "linecolor": "white",
           "ticks": "",
           "title": {
            "standoff": 15
           },
           "zerolinecolor": "white",
           "zerolinewidth": 2
          },
          "yaxis": {
           "automargin": true,
           "gridcolor": "white",
           "linecolor": "white",
           "ticks": "",
           "title": {
            "standoff": 15
           },
           "zerolinecolor": "white",
           "zerolinewidth": 2
          }
         }
        },
        "title": {
         "text": "Average Income by Education"
        },
        "xaxis": {
         "anchor": "y",
         "domain": [
          0,
          1
         ],
         "title": {
          "text": "Education"
         }
        },
        "yaxis": {
         "anchor": "x",
         "domain": [
          0,
          1
         ],
         "title": {
          "text": "Income"
         }
        }
       }
      }
     },
     "metadata": {},
     "output_type": "display_data"
    }
   ],
   "source": [
    "avg_income= data.groupby('Education')['Income'].agg('mean').sort_values(ascending= True).reset_index()\n",
    "print(avg_income)\n",
    "\n",
    "fig = px.bar(avg_income, x='Education', y='Income', title=\"Average Income by Education\")\n",
    "fig.show()"
   ]
  },
  {
   "cell_type": "markdown",
   "metadata": {},
   "source": [
    "In the graph above, it can be concluded that the average income of customers with basic education (high school education or below) is the lowest (20k). An interesting thing is seen in the other 4 levels of education which have the average not too far from each other."
   ]
  },
  {
   "cell_type": "markdown",
   "metadata": {},
   "source": [
    "###  b. spending by income\n"
   ]
  },
  {
   "cell_type": "code",
   "execution_count": 19,
   "metadata": {},
   "outputs": [
    {
     "data": {
      "application/vnd.plotly.v1+json": {
       "config": {
        "plotlyServerURL": "https://plot.ly"
       },
       "data": [
        {
         "hovertemplate": "Total_spending=%{x}<br>Income=%{y}<extra></extra>",
         "legendgroup": "",
         "marker": {
          "color": "#636efa",
          "symbol": "circle"
         },
         "mode": "markers",
         "name": "",
         "showlegend": false,
         "type": "scattergl",
         "x": [
          1617,
          27,
          776,
          53,
          422,
          716,
          590,
          169,
          46,
          49,
          19,
          61,
          1102,
          310,
          46,
          1315,
          96,
          317,
          1782,
          133,
          316,
          1730,
          972,
          544,
          444,
          75,
          257,
          637,
          131,
          1672,
          30,
          318,
          120,
          302,
          1196,
          65,
          913,
          81,
          67,
          902,
          1395,
          53,
          22,
          186,
          31,
          984,
          122,
          55,
          124,
          1319,
          507,
          1693,
          72,
          1617,
          606,
          1957,
          1093,
          29,
          46,
          518,
          1438,
          612,
          884,
          606,
          1076,
          34,
          11,
          1274,
          653,
          1562,
          1253,
          109,
          863,
          661,
          65,
          13,
          1890,
          2209,
          18,
          692,
          165,
          16,
          79,
          318,
          778,
          56,
          151,
          372,
          1366,
          194,
          603,
          18,
          985,
          32,
          43,
          45,
          606,
          63,
          978,
          410,
          72,
          55,
          1169,
          1120,
          1097,
          29,
          187,
          910,
          145,
          850,
          969,
          1820,
          608,
          730,
          551,
          114,
          1724,
          577,
          81,
          33,
          660,
          80,
          30,
          43,
          1135,
          559,
          1923,
          90,
          404,
          661,
          463,
          632,
          725,
          725,
          279,
          1482,
          29,
          106,
          49,
          38,
          2077,
          1053,
          1385,
          871,
          312,
          877,
          68,
          22,
          211,
          127,
          459,
          460,
          429,
          89,
          1021,
          1381,
          306,
          18,
          162,
          1231,
          13,
          1706,
          121,
          1293,
          1608,
          88,
          421,
          259,
          1117,
          89,
          36,
          57,
          148,
          93,
          119,
          1835,
          1318,
          45,
          10,
          978,
          191,
          57,
          1033,
          66,
          43,
          50,
          39,
          608,
          1581,
          68,
          80,
          1282,
          65,
          91,
          315,
          31,
          834,
          1600,
          1270,
          263,
          535,
          1295,
          1150,
          1240,
          38,
          35,
          53,
          293,
          65,
          1804,
          241,
          1101,
          264,
          541,
          1198,
          482,
          17,
          1615,
          285,
          1135,
          114,
          1047,
          714,
          185,
          1245,
          189,
          576,
          1103,
          1753,
          17,
          433,
          1588,
          22,
          19,
          1117,
          69,
          23,
          605,
          57,
          22,
          2088,
          1009,
          26,
          1627,
          1102,
          17,
          1690,
          1390,
          2126,
          1531,
          64,
          26,
          1112,
          210,
          1148,
          33,
          1101,
          322,
          44,
          17,
          31,
          845,
          275,
          25,
          275,
          90,
          1495,
          184,
          981,
          67,
          1635,
          60,
          231,
          48,
          99,
          770,
          957,
          818,
          925,
          908,
          102,
          576,
          317,
          461,
          37,
          70,
          930,
          859,
          1478,
          390,
          52,
          137,
          1919,
          68,
          25,
          1374,
          32,
          100,
          825,
          916,
          62,
          728,
          90,
          273,
          66,
          1213,
          107,
          1157,
          546,
          241,
          53,
          37,
          1611,
          1508,
          235,
          32,
          102,
          401,
          28,
          1052,
          680,
          30,
          20,
          1307,
          630,
          1283,
          65,
          37,
          38,
          160,
          23,
          71,
          1161,
          59,
          33,
          946,
          1442,
          62,
          1674,
          1853,
          1538,
          139,
          1182,
          507,
          18,
          940,
          42,
          1190,
          44,
          16,
          835,
          1443,
          1029,
          1188,
          1277,
          49,
          99,
          1670,
          900,
          425,
          2153,
          636,
          57,
          25,
          494,
          693,
          1348,
          51,
          1932,
          990,
          30,
          254,
          29,
          1371,
          73,
          120,
          81,
          37,
          1377,
          51,
          17,
          22,
          324,
          211,
          19,
          41,
          492,
          1005,
          114,
          1173,
          1738,
          222,
          1127,
          209,
          787,
          1598,
          186,
          47,
          27,
          96,
          64,
          1040,
          163,
          343,
          446,
          41,
          70,
          272,
          46,
          490,
          79,
          915,
          1485,
          369,
          1073,
          1242,
          78,
          1378,
          1474,
          751,
          48,
          45,
          10,
          1435,
          2119,
          20,
          1795,
          1188,
          43,
          1008,
          1688,
          684,
          1082,
          1068,
          57,
          46,
          733,
          467,
          122,
          36,
          34,
          156,
          14,
          37,
          34,
          20,
          192,
          1379,
          48,
          428,
          868,
          1001,
          59,
          431,
          971,
          348,
          2059,
          265,
          270,
          1289,
          893,
          926,
          135,
          1495,
          120,
          1288,
          1743,
          15,
          542,
          890,
          1388,
          17,
          906,
          44,
          25,
          973,
          31,
          518,
          530,
          506,
          70,
          54,
          296,
          266,
          747,
          895,
          1053,
          735,
          20,
          205,
          2092,
          309,
          1722,
          900,
          682,
          663,
          43,
          1816,
          976,
          746,
          64,
          32,
          263,
          1445,
          46,
          1210,
          945,
          1157,
          137,
          730,
          216,
          943,
          347,
          1924,
          397,
          2089,
          138,
          42,
          777,
          1902,
          52,
          1651,
          358,
          1727,
          210,
          42,
          1291,
          442,
          1895,
          411,
          521,
          1168,
          493,
          260,
          46,
          319,
          96,
          1062,
          232,
          76,
          54,
          201,
          406,
          1919,
          662,
          41,
          1600,
          134,
          69,
          21,
          54,
          91,
          526,
          162,
          1008,
          240,
          795,
          1772,
          64,
          1957,
          78,
          1572,
          795,
          889,
          331,
          265,
          1065,
          11,
          21,
          17,
          369,
          38,
          177,
          279,
          62,
          1230,
          182,
          49,
          75,
          227,
          215,
          444,
          47,
          143,
          55,
          63,
          1867,
          611,
          473,
          55,
          81,
          2086,
          1478,
          49,
          382,
          69,
          67,
          30,
          63,
          79,
          42,
          819,
          1151,
          594,
          129,
          213,
          67,
          28,
          45,
          1193,
          268,
          266,
          37,
          37,
          882,
          373,
          35,
          107,
          42,
          326,
          404,
          95,
          939,
          33,
          981,
          36,
          1237,
          1825,
          103,
          191,
          1586,
          963,
          889,
          93,
          1587,
          16,
          1375,
          393,
          1477,
          1179,
          1005,
          1348,
          1307,
          486,
          2252,
          235,
          1724,
          235,
          1092,
          599,
          2008,
          48,
          1174,
          67,
          365,
          6,
          165,
          210,
          1095,
          223,
          597,
          22,
          1064,
          74,
          26,
          60,
          20,
          59,
          34,
          198,
          1048,
          574,
          1029,
          670,
          990,
          11,
          1241,
          576,
          172,
          664,
          928,
          2074,
          467,
          257,
          1146,
          689,
          2114,
          1717,
          1346,
          1044,
          493,
          957,
          270,
          29,
          121,
          126,
          23,
          57,
          636,
          1004,
          734,
          614,
          1453,
          1621,
          187,
          1443,
          57,
          637,
          948,
          59,
          18,
          903,
          112,
          596,
          233,
          1511,
          1152,
          48,
          1185,
          21,
          965,
          869,
          16,
          1947,
          71,
          65,
          1380,
          1027,
          411,
          836,
          11,
          480,
          606,
          284,
          1472,
          1677,
          1335,
          334,
          18,
          1338,
          1099,
          97,
          63,
          109,
          902,
          1574,
          38,
          960,
          28,
          1215,
          1497,
          449,
          1064,
          1757,
          1440,
          1006,
          1226,
          1171,
          92,
          99,
          66,
          564,
          1427,
          86,
          833,
          242,
          1869,
          1364,
          183,
          450,
          758,
          1507,
          654,
          81,
          137,
          16,
          93,
          1158,
          43,
          1525,
          1230,
          29,
          25,
          24,
          38,
          57,
          47,
          813,
          629,
          377,
          1612,
          729,
          50,
          270,
          177,
          315,
          767,
          1071,
          1580,
          60,
          573,
          41,
          170,
          1167,
          1526,
          458,
          63,
          405,
          1027,
          1478,
          72,
          48,
          726,
          860,
          1497,
          495,
          20,
          570,
          769,
          55,
          1808,
          55,
          577,
          162,
          1957,
          1576,
          1616,
          36,
          1482,
          22,
          63,
          680,
          542,
          50,
          39,
          1043,
          385,
          1633,
          46,
          761,
          76,
          290,
          89,
          70,
          1066,
          2009,
          1345,
          764,
          195,
          53,
          368,
          544,
          1853,
          35,
          446,
          1180,
          41,
          727,
          40,
          1062,
          40,
          292,
          15,
          341,
          369,
          401,
          393,
          10,
          486,
          69,
          1727,
          995,
          45,
          182,
          989,
          1677,
          595,
          156,
          1226,
          128,
          86,
          68,
          16,
          55,
          2114,
          2018,
          263,
          55,
          564,
          1281,
          83,
          353,
          1003,
          14,
          902,
          1139,
          797,
          1638,
          401,
          84,
          928,
          203,
          858,
          409,
          282,
          1423,
          1449,
          28,
          67,
          199,
          1453,
          1253,
          1198,
          178,
          1990,
          976,
          1001,
          1919,
          350,
          1650,
          46,
          1228,
          95,
          62,
          1761,
          467,
          1149,
          2052,
          1127,
          1416,
          1113,
          125,
          966,
          32,
          833,
          46,
          960,
          1829,
          779,
          811,
          1120,
          725,
          1187,
          2302,
          66,
          1250,
          683,
          305,
          50,
          995,
          41,
          77,
          171,
          131,
          54,
          53,
          475,
          694,
          96,
          361,
          1079,
          578,
          64,
          149,
          231,
          728,
          1778,
          93,
          23,
          662,
          1198,
          81,
          92,
          491,
          1564,
          926,
          1910,
          411,
          94,
          1085,
          23,
          6,
          54,
          1150,
          1415,
          405,
          1908,
          2486,
          1315,
          45,
          1789,
          19,
          573,
          805,
          108,
          23,
          1493,
          89,
          936,
          343,
          528,
          1901,
          724,
          58,
          297,
          488,
          859,
          1574,
          69,
          17,
          2194,
          116,
          279,
          103,
          44,
          406,
          1363,
          236,
          39,
          137,
          79,
          63,
          1314,
          71,
          58,
          702,
          94,
          80,
          22,
          1211,
          1461,
          1968,
          1091,
          55,
          1366,
          313,
          62,
          92,
          72,
          655,
          704,
          54,
          178,
          1033,
          36,
          122,
          122,
          1123,
          497,
          691,
          1363,
          12,
          2440,
          56,
          37,
          968,
          270,
          278,
          1250,
          938,
          1178,
          1155,
          653,
          49,
          506,
          38,
          1650,
          1826,
          18,
          906,
          46,
          1477,
          766,
          47,
          467,
          2116,
          1298,
          22,
          396,
          20,
          967,
          357,
          1401,
          15,
          2087,
          981,
          17,
          523,
          23,
          1192,
          1958,
          133,
          777,
          73,
          121,
          424,
          868,
          756,
          12,
          937,
          1862,
          367,
          443,
          267,
          61,
          1323,
          63,
          64,
          562,
          312,
          1156,
          1104,
          16,
          2008,
          44,
          1574,
          63,
          426,
          96,
          635,
          757,
          125,
          332,
          135,
          330,
          384,
          1722,
          78,
          24,
          1168,
          957,
          15,
          57,
          1956,
          2013,
          326,
          77,
          1313,
          30,
          315,
          660,
          74,
          46,
          86,
          1103,
          61,
          145,
          684,
          411,
          27,
          1060,
          1459,
          18,
          1833,
          237,
          48,
          515,
          1020,
          1370,
          1026,
          301,
          684,
          499,
          1004,
          218,
          606,
          75,
          106,
          990,
          1097,
          16,
          34,
          1711,
          438,
          75,
          225,
          18,
          470,
          91,
          2525,
          504,
          235,
          1232,
          88,
          17,
          24,
          60,
          1020,
          155,
          51,
          1812,
          1461,
          96,
          160,
          139,
          908,
          183,
          1161,
          988,
          1072,
          174,
          758,
          195,
          31,
          1084,
          685,
          1672,
          43,
          49,
          133,
          363,
          545,
          1065,
          2047,
          296,
          140,
          530,
          152,
          1598,
          114,
          101,
          25,
          789,
          87,
          90,
          1215,
          811,
          61,
          405,
          72,
          189,
          40,
          63,
          52,
          39,
          805,
          130,
          1631,
          34,
          152,
          21,
          71,
          899,
          711,
          351,
          8,
          119,
          21,
          10,
          973,
          1536,
          992,
          1529,
          860,
          928,
          418,
          587,
          641,
          23,
          2279,
          49,
          1779,
          1804,
          48,
          83,
          1862,
          793,
          84,
          183,
          1383,
          999,
          825,
          246,
          610,
          76,
          1286,
          30,
          99,
          1192,
          362,
          2130,
          1229,
          38,
          485,
          434,
          44,
          496,
          78,
          2346,
          794,
          17,
          26,
          76,
          15,
          62,
          198,
          49,
          802,
          1736,
          57,
          59,
          2302,
          37,
          310,
          1305,
          832,
          401,
          1501,
          1189,
          1194,
          656,
          1540,
          311,
          820,
          274,
          57,
          448,
          44,
          102,
          61,
          1643,
          397,
          1121,
          473,
          50,
          1678,
          58,
          170,
          373,
          1196,
          101,
          316,
          1400,
          1424,
          844,
          311,
          1149,
          129,
          32,
          299,
          320,
          441,
          1178,
          85,
          24,
          112,
          30,
          410,
          800,
          1313,
          1483,
          1258,
          28,
          227,
          1555,
          861,
          103,
          634,
          1918,
          131,
          586,
          62,
          447,
          939,
          797,
          1143,
          415,
          30,
          187,
          251,
          237,
          91,
          35,
          493,
          971,
          371,
          396,
          68,
          322,
          317,
          222,
          177,
          45,
          21,
          45,
          1899,
          42,
          22,
          41,
          1440,
          325,
          95,
          42,
          72,
          20,
          789,
          15,
          59,
          908,
          417,
          289,
          769,
          188,
          354,
          727,
          146,
          319,
          794,
          454,
          152,
          797,
          1690,
          20,
          1428,
          209,
          545,
          96,
          222,
          61,
          44,
          8,
          817,
          1371,
          42,
          60,
          78,
          23,
          19,
          61,
          449,
          37,
          38,
          1131,
          34,
          294,
          48,
          289,
          30,
          125,
          156,
          70,
          22,
          65,
          1930,
          2283,
          310,
          1319,
          879,
          1244,
          690,
          209,
          1134,
          1507,
          57,
          529,
          1091,
          180,
          77,
          2349,
          534,
          556,
          637,
          46,
          44,
          47,
          795,
          586,
          1574,
          13,
          1471,
          65,
          175,
          40,
          1078,
          1115,
          134,
          1540,
          87,
          217,
          1034,
          1180,
          819,
          32,
          46,
          1159,
          860,
          1631,
          444,
          1910,
          380,
          736,
          269,
          2524,
          612,
          75,
          1045,
          55,
          1064,
          1443,
          1366,
          436,
          38,
          436,
          747,
          1396,
          928,
          642,
          1048,
          943,
          907,
          1198,
          120,
          1658,
          1638,
          73,
          275,
          854,
          78,
          106,
          106,
          1923,
          1662,
          84,
          48,
          5,
          733,
          1234,
          112,
          1658,
          55,
          1513,
          271,
          904,
          120,
          103,
          269,
          22,
          1156,
          1086,
          1128,
          72,
          964,
          1383,
          18,
          793,
          100,
          80,
          167,
          677,
          23,
          92,
          641,
          1106,
          1033,
          1174,
          25,
          240,
          20,
          102,
          1034,
          156,
          458,
          17,
          792,
          92,
          407,
          1269,
          841,
          633,
          1019,
          1315,
          54,
          2525,
          52,
          436,
          268,
          147,
          1798,
          137,
          507,
          15,
          1105,
          974,
          66,
          778,
          49,
          169,
          299,
          221,
          1682,
          155,
          892,
          58,
          311,
          95,
          424,
          47,
          339,
          1410,
          35,
          562,
          2352,
          1334,
          32,
          41,
          39,
          1141,
          710,
          401,
          506,
          1538,
          57,
          1722,
          270,
          31,
          882,
          16,
          311,
          227,
          1152,
          122,
          77,
          1289,
          561,
          211,
          233,
          1092,
          601,
          54,
          78,
          1095,
          244,
          116,
          15,
          425,
          734,
          638,
          894,
          41,
          31,
          34,
          1750,
          612,
          29,
          823,
          20,
          396,
          813,
          1179,
          138,
          55,
          1511,
          117,
          1730,
          32,
          67,
          335,
          825,
          694,
          1792,
          496,
          231,
          902,
          68,
          71,
          76,
          772,
          47,
          1586,
          1529,
          265,
          1603,
          2091,
          981,
          1533,
          82,
          244,
          36,
          404,
          71,
          1572,
          122,
          41,
          10,
          304,
          37,
          1754,
          815,
          1001,
          1157,
          688,
          1319,
          21,
          31,
          67,
          708,
          25,
          746,
          32,
          1695,
          1080,
          72,
          57,
          660,
          103,
          153,
          1220,
          279,
          745,
          264,
          2157,
          1526,
          69,
          1597,
          64,
          497,
          1067,
          31,
          211,
          877,
          11,
          2034,
          1991,
          1686,
          324,
          69,
          252,
          54,
          964,
          1327,
          68,
          60,
          55,
          1456,
          563,
          1504,
          564,
          1125,
          358,
          42,
          184,
          460,
          145,
          1376,
          792,
          1382,
          28,
          1033,
          882,
          2231,
          1101,
          369,
          48,
          467,
          44,
          38,
          81,
          167,
          45,
          664,
          622,
          48,
          461,
          1073,
          55,
          976,
          20,
          1149,
          43,
          224,
          101,
          209,
          968,
          1165,
          24,
          252,
          165,
          269,
          102,
          461,
          47,
          144,
          1338,
          917,
          318,
          253,
          502,
          119,
          1250,
          969,
          76,
          62,
          1382,
          84,
          255,
          43,
          398,
          76,
          902,
          823,
          1179,
          1921,
          185,
          433,
          34,
          907,
          416,
          44,
          1588,
          1797,
          40,
          1143,
          914,
          1502,
          1338,
          27,
          763,
          1331,
          525,
          9,
          953,
          68,
          131,
          882,
          1149,
          37,
          388,
          1428,
          1633,
          173,
          99,
          215,
          929,
          219,
          174,
          92,
          1052,
          275,
          587,
          1662,
          159,
          1024,
          35,
          1042,
          395,
          557,
          9,
          69,
          486,
          34,
          1365,
          13,
          1401,
          1574,
          1323,
          1217,
          103,
          84,
          1536,
          581,
          928,
          14,
          424,
          960,
          1555,
          656,
          55,
          20,
          367,
          2257,
          42,
          1049,
          48,
          685,
          39,
          43,
          835,
          1515,
          1039,
          1596,
          1828,
          34,
          149,
          946,
          28,
          450,
          46,
          1702,
          820,
          382,
          2126,
          2069,
          72,
          732,
          801,
          236,
          80,
          1685,
          277,
          507,
          68,
          49,
          397,
          39,
          306,
          976,
          1028,
          70,
          46,
          51,
          1263,
          1490,
          1564,
          1815,
          1198,
          416,
          85,
          47,
          137,
          21,
          70,
          909,
          1676,
          1735,
          1191,
          24,
          1182,
          1280,
          1336,
          749,
          91,
          414,
          44,
          63,
          901,
          38,
          455,
          775,
          15,
          38,
          1512,
          43,
          42,
          1089,
          162,
          1272,
          1173,
          816,
          74,
          134,
          157,
          561,
          1336,
          2092,
          463,
          1130,
          20,
          377,
          1544,
          138,
          1012,
          1766,
          45,
          161,
          144,
          1734,
          823,
          1138,
          1429,
          1371,
          982,
          44,
          318,
          434,
          198,
          359,
          576,
          88,
          63,
          27,
          193,
          101,
          2211,
          140,
          415,
          22,
          263,
          393,
          147,
          443,
          1958,
          174,
          2217,
          1691,
          25,
          809,
          895,
          484,
          413,
          331,
          25,
          13,
          115,
          16,
          92,
          52,
          1464,
          441,
          283,
          747,
          1870,
          165,
          1941,
          839,
          1655,
          23,
          66,
          37,
          21,
          22,
          78,
          79,
          265,
          1175,
          1305,
          46,
          25,
          46,
          874,
          100,
          930,
          868,
          45,
          1260,
          414,
          392,
          1109,
          639,
          79,
          1665,
          692,
          1392,
          44,
          50,
          467,
          223,
          158,
          1211,
          1575,
          1208,
          43,
          527,
          932,
          71,
          54,
          129,
          1615,
          1034,
          1088,
          721,
          137,
          47,
          1244,
          41,
          1174,
          993,
          100,
          1680,
          98,
          48,
          519,
          715,
          37,
          653,
          1455,
          602,
          26,
          102,
          97,
          207,
          176,
          450,
          433,
          1366,
          1564,
          1001,
          961,
          1518,
          56,
          22,
          400,
          26,
          350,
          1216,
          874,
          40,
          1367,
          264,
          2053,
          1376,
          45,
          976,
          51,
          1264,
          75,
          57,
          140,
          497,
          266,
          2006,
          615,
          1021,
          22,
          133,
          437,
          1013,
          57,
          1038,
          1573,
          28,
          123,
          13,
          132,
          732,
          66,
          1631,
          608,
          1822,
          1282,
          8,
          43,
          1931,
          8,
          103,
          1169,
          395,
          258,
          25,
          185,
          180,
          22,
          44,
          94,
          81,
          798,
          1334,
          38,
          61,
          300,
          88,
          54,
          1782,
          68,
          258,
          31,
          66,
          174,
          28,
          731,
          274,
          1701,
          312,
          414,
          1565,
          29,
          94,
          1338,
          1092,
          1479,
          54,
          568,
          1199,
          873,
          1213,
          731,
          2043,
          1893,
          424,
          575,
          257,
          56,
          542,
          125,
          69,
          40,
          1016,
          907,
          1566,
          1169,
          46,
          1644,
          59,
          17,
          1853,
          1528,
          35,
          141,
          546,
          500,
          61,
          106,
          704,
          424,
          849,
          85,
          199,
          1147,
          54,
          43,
          53,
          521,
          1623,
          45,
          1435,
          32,
          16,
          52,
          1234,
          15,
          415,
          470,
          1438,
          53,
          51,
          679,
          586,
          653,
          468,
          1679,
          50,
          84,
          1049,
          22,
          30,
          1341,
          444,
          1241,
          843,
          172
         ],
         "xaxis": "x",
         "y": [
          58138,
          46344,
          71613,
          26646,
          58293,
          62513,
          55635,
          33454,
          30351,
          5648,
          52247.25135379061,
          7500,
          63033,
          59354,
          17323,
          82800,
          41850,
          37760,
          76995,
          33812,
          37040,
          2447,
          58607,
          65324,
          40689,
          18589,
          53359,
          52247.25135379061,
          38360,
          84618,
          10979,
          38620,
          40548,
          46610,
          68657,
          49389,
          67353,
          23718,
          42429,
          48948,
          80011,
          20559,
          21994,
          52247.25135379061,
          7500,
          79941,
          7500,
          41728,
          52247.25135379061,
          72550,
          65486,
          79143,
          35790,
          82582,
          66373,
          82384,
          70287,
          27938,
          52247.25135379061,
          55954,
          75777,
          66653,
          61823,
          67680,
          70666,
          25721,
          32474,
          88194,
          69096,
          74854,
          66991,
          52247.25135379061,
          65031,
          60631,
          28332,
          40246,
          75251,
          75825,
          26326,
          56046,
          29760,
          26304,
          23559,
          38620,
          81361,
          29440,
          36138,
          50388,
          79593,
          54178,
          52247.25135379061,
          52247.25135379061,
          52247.25135379061,
          42394,
          23626,
          30096,
          47916,
          51813,
          78497,
          50150,
          47823,
          34554,
          85693,
          65846,
          87195,
          24594,
          49096,
          52413,
          38557,
          89058,
          77298,
          68126,
          57288,
          86037,
          43974,
          50785,
          90765,
          36550,
          30753,
          21918,
          56129,
          32557,
          19510,
          30992,
          101970,
          71488,
          79607,
          54348,
          52247.25135379061,
          77376,
          62998,
          61331,
          73448,
          52247.25135379061,
          41551,
          62981,
          9548,
          33762,
          35860,
          36921,
          92859,
          65104,
          86111,
          68352,
          41883,
          59809,
          23957,
          38547,
          35688,
          49605,
          59354,
          65747,
          46344,
          34176,
          61010,
          69372,
          49967,
          60199,
          55375,
          80317,
          30523,
          70356,
          23228,
          74165,
          157243,
          43482,
          62551,
          52332,
          66951,
          26091,
          33456,
          28718,
          50447,
          53537,
          52074,
          80427,
          83837,
          38853,
          38285,
          78497,
          51650,
          16248,
          66835,
          30477,
          28249,
          25271,
          32303,
          61286,
          74068,
          45759,
          24882,
          66973,
          36640,
          38872,
          51148,
          31353,
          69661,
          80067,
          86718,
          46854,
          69142,
          75922,
          63693,
          102160,
          40637,
          18890,
          29604,
          48721,
          44794,
          64497,
          46097,
          77972,
          44377,
          46014,
          70951,
          41443,
          52195,
          83790,
          44551,
          69508,
          45204,
          72460,
          77622,
          30732,
          63887,
          42011,
          51369,
          51537,
          79930,
          34320,
          37070,
          81975,
          38590,
          15033,
          62745,
          22212,
          23661,
          79761,
          7500,
          60182,
          73455,
          64961,
          22804,
          73687,
          61074,
          31686,
          80134,
          75027,
          67546,
          65176,
          31160,
          29938,
          102692,
          26490,
          75702,
          30899,
          63342,
          45989,
          18701,
          40737,
          15287,
          69674,
          44159,
          37717,
          43776,
          38179,
          80124,
          38097,
          72940,
          22070,
          69267,
          31788,
          61905,
          29315,
          33378,
          66313,
          60714,
          77882,
          69867,
          63841,
          24480,
          51369,
          37760,
          65640,
          44319,
          30631,
          75278,
          50898,
          79946,
          35416,
          32414,
          38361,
          82497,
          16626,
          29672,
          55951,
          35388,
          42386,
          68627,
          57912,
          35246,
          58821,
          46377,
          39747,
          23976,
          80950,
          27038,
          77457,
          64100,
          42670,
          12571,
          22574,
          52247.25135379061,
          70893,
          54198,
          28839,
          40321,
          66503,
          30833,
          52247.25135379061,
          64795,
          34421,
          47025,
          64325,
          40464,
          62187,
          14849,
          27255,
          54432,
          29999,
          24072,
          33996,
          66334,
          35178,
          22010,
          62204,
          75693,
          30675,
          83003,
          83532,
          68655,
          41411,
          55212,
          59292,
          27190,
          82623,
          44300,
          84835,
          30372,
          33181,
          71113,
          71952,
          69759,
          72099,
          60000,
          38643,
          50737,
          68462,
          65073,
          46681,
          78618,
          62187,
          28442,
          37717,
          51479,
          54803,
          79530,
          31615,
          72025,
          52614,
          35684,
          48178,
          29548,
          63810,
          38578,
          46098,
          22585,
          30279,
          66426,
          30822,
          33581,
          19986,
          27421,
          35688,
          36143,
          10245,
          43795,
          63381,
          38823,
          83664,
          90300,
          62499,
          74293,
          51012,
          70777,
          68682,
          43824,
          15345,
          23442,
          14515,
          31395,
          75276,
          42373,
          30507,
          55521,
          48006,
          27213,
          65808,
          30351,
          50437,
          23616,
          53858,
          66465,
          46923,
          75072,
          75865,
          19789,
          80134,
          91065,
          49505,
          37401,
          30096,
          18492,
          82584,
          93027,
          48686,
          92910,
          75433,
          10404,
          61314,
          84865,
          42387,
          67309,
          75236,
          30015,
          50943,
          67272,
          51529,
          32011,
          7500,
          28691,
          56223,
          18100,
          30279,
          20130,
          23295,
          42618,
          81246,
          24027,
          55707,
          57959,
          56796,
          36230,
          70829,
          65991,
          38988,
          89572,
          42207,
          50300,
          66664,
          60597,
          70165,
          50520,
          80124,
          33183,
          66582,
          75261,
          31880,
          53790,
          49269,
          61456,
          37406,
          56937,
          38415,
          20518,
          62503,
          41644,
          55842,
          62010,
          41124,
          38961,
          37760,
          32233,
          43057,
          83151,
          78825,
          65104,
          60093,
          14045,
          28457,
          78952,
          46310,
          76005,
          58308,
          55614,
          59432,
          55563,
          78642,
          67911,
          65275,
          27203,
          48330,
          24279,
          64355,
          50943,
          53653,
          65665,
          81217,
          34935,
          61250,
          39665,
          60152,
          48920,
          89120,
          44124,
          81169,
          36443,
          26095,
          71367,
          80184,
          30630,
          73454,
          42691,
          70503,
          25545,
          32880,
          77863,
          50353,
          61839,
          49154,
          47682,
          72679,
          57954,
          65316,
          28567,
          47352,
          44931,
          76982,
          57247,
          22944,
          25315,
          43638,
          42710,
          84169,
          54058,
          24683,
          85620,
          47850,
          19514,
          27159,
          39548,
          21474,
          60504,
          22419,
          81698,
          43462,
          54880,
          79908,
          15315,
          87771,
          33039,
          81741,
          71499,
          62466,
          48799,
          52157,
          66565,
          29298,
          47691,
          38200,
          44989,
          38443,
          38593,
          64413,
          36959,
          61996,
          51287,
          13260,
          47472,
          54603,
          45207,
          40689,
          47821,
          27450,
          39453,
          26850,
          79800,
          61794,
          53863,
          24221,
          39684,
          92163,
          69882,
          33178,
          59973,
          17459,
          23910,
          42169,
          26224,
          31089,
          30081,
          62807,
          72906,
          61467,
          49618,
          21888,
          42429,
          26150,
          30801,
          81168,
          26877,
          45006,
          18978,
          22574,
          48240,
          45837,
          35791,
          162397,
          54162,
          30522,
          54456,
          31632,
          72298,
          36975,
          72635,
          13624,
          84196,
          70971,
          34487,
          28769,
          69084,
          65488,
          62466,
          32218,
          83917,
          46102,
          84574,
          56181,
          63120,
          73691,
          63381,
          76140,
          62859,
          45906,
          77632,
          46463,
          105471,
          55282,
          78710,
          66886,
          98777,
          29103,
          67445,
          50616,
          49431,
          153924,
          61278,
          26490,
          73059,
          46734,
          56253,
          19986,
          58330,
          25965,
          14661,
          18690,
          45068,
          21063,
          29187,
          54690,
          59304,
          59247,
          66731,
          77353,
          52614,
          26751,
          81300,
          70337,
          36145,
          65295,
          68118,
          68743,
          41039,
          38946,
          65777,
          66476,
          86857,
          160803,
          77845,
          69476,
          50611,
          61209,
          42315,
          13084,
          47570,
          61923,
          34824,
          26518,
          45938,
          78468,
          78901,
          71427,
          71022,
          90247,
          41335,
          71952,
          35682,
          43185,
          66375,
          35178,
          25252,
          55250,
          33249,
          58398,
          50272,
          76618,
          87305,
          25851,
          58710,
          45160,
          74806,
          59111,
          18988,
          72190,
          7500,
          44794,
          80395,
          75012,
          56962,
          89891,
          35946,
          53593,
          66373,
          45072,
          89694,
          72025,
          67432,
          70545,
          17487,
          62882,
          64108,
          34941,
          48767,
          38702,
          82224,
          83844,
          17003,
          71163,
          33697,
          63564,
          83443,
          51518,
          58330,
          80952,
          75507,
          63855,
          62220,
          58512,
          40662,
          38829,
          35523,
          79146,
          78285,
          31626,
          75127,
          48726,
          74985,
          67430,
          46891,
          62058,
          72063,
          78939,
          42720,
          33622,
          6835,
          41452,
          40760,
          74250,
          51124,
          72258,
          71466,
          36283,
          20587,
          30467,
          31590,
          20425,
          17144,
          42564,
          43783,
          40780,
          62847,
          82017,
          16813,
          51267,
          46524,
          45183,
          70421,
          60161,
          73926,
          19329,
          61872,
          46984,
          34838,
          82716,
          48192,
          49681,
          56850,
          55267,
          59666,
          72504,
          26872,
          21359,
          73170,
          52750,
          91820,
          65968,
          30772,
          22507,
          65685,
          25804,
          76412,
          22063,
          57091,
          22419,
          87771,
          78353,
          93404,
          37859,
          80995,
          16529,
          55412,
          48789,
          56575,
          25130,
          35441,
          71391,
          49494,
          81702,
          45889,
          56628,
          34026,
          40049,
          34176,
          19419,
          82504,
          81205,
          61618,
          55284,
          49980,
          15072,
          49166,
          65324,
          82347,
          30843,
          46374,
          60474,
          38576,
          55357,
          37758,
          85710,
          23228,
          44602,
          7500,
          38683,
          49514,
          57906,
          43456,
          19485,
          53172,
          30545,
          70123,
          62450,
          21675,
          42395,
          61346,
          80812,
          42835,
          39922,
          86424,
          17117,
          24762,
          35797,
          36627,
          51111,
          86857,
          82072,
          46231,
          42243,
          51195,
          68092,
          31814,
          51390,
          76630,
          26868,
          48948,
          55260,
          64090,
          78331,
          37087,
          21846,
          81320,
          54137,
          66825,
          57100,
          58917,
          85072,
          86429,
          45684,
          47889,
          45921,
          78420,
          75114,
          52278,
          35641,
          95529,
          62820,
          73113,
          84169,
          42607,
          74637,
          46015,
          72354,
          39858,
          34469,
          83033,
          24401,
          77583,
          74116,
          74293,
          68397,
          79632,
          46107,
          64950,
          25443,
          75127,
          32892,
          71796,
          67536,
          55239,
          60554,
          64831,
          56067,
          82025,
          94384,
          14906,
          51563,
          57937,
          68274,
          39771,
          67893,
          27922,
          52190,
          44051,
          42767,
          46106,
          16927,
          59754,
          53700,
          59041,
          54237,
          70647,
          52597,
          41021,
          40233,
          50183,
          54753,
          92955,
          33471,
          34596,
          44010,
          84219,
          40706,
          15716,
          59052,
          80573,
          83715,
          82576,
          56962,
          35704,
          53103,
          46779,
          4861,
          33462,
          63693,
          80763,
          65352,
          82170,
          75759,
          79689,
          35340,
          85683,
          24884,
          42021,
          64449,
          64587,
          34824,
          75437,
          26091,
          52845,
          46086,
          78028,
          95169,
          56337,
          22434,
          36930,
          36130,
          65569,
          83844,
          19514,
          36736,
          77568,
          49187,
          30168,
          34053,
          38196,
          59412,
          70924,
          54165,
          32300,
          20180,
          34961,
          28440,
          64504,
          33564,
          17345,
          56320,
          28647,
          15038,
          32173,
          68316,
          74538,
          91700,
          68695,
          31056,
          79593,
          28071,
          37334,
          46423,
          37126,
          47703,
          61180,
          38998,
          8028,
          76081,
          34728,
          33168,
          33585,
          77037,
          35196,
          44529,
          70924,
          28764,
          69098,
          25959,
          27100,
          70596,
          42557,
          53312,
          72228,
          67605,
          62845,
          65196,
          42000,
          35860,
          65526,
          16860,
          83528,
          64176,
          22304,
          67023,
          32892,
          70713,
          59925,
          39722,
          46610,
          88347,
          87171,
          26907,
          50014,
          41014,
          66294,
          36715,
          79456,
          40479,
          75345,
          54233,
          24163,
          84460,
          43776,
          71691,
          85844,
          39190,
          71367,
          38578,
          57236,
          61825,
          79803,
          80910,
          27590,
          56775,
          83829,
          54210,
          38508,
          53187,
          30023,
          76045,
          50870,
          15315,
          65463,
          66480,
          76773,
          81698,
          54466,
          98777,
          16269,
          71819,
          33569,
          36262,
          22634,
          47025,
          70566,
          31605,
          52034,
          48526,
          46734,
          39552,
          86358,
          46931,
          16581,
          63998,
          67381,
          25930,
          42693,
          85606,
          72903,
          49669,
          36778,
          85696,
          10979,
          49678,
          56129,
          37155,
          21282,
          33419,
          63285,
          21255,
          42162,
          54450,
          57744,
          26576,
          57513,
          68142,
          7500,
          83145,
          54197,
          23091,
          46049,
          56715,
          79410,
          57304,
          44375,
          54450,
          59594,
          80685,
          40344,
          62710,
          48985,
          35322,
          77142,
          81657,
          14421,
          20130,
          74214,
          66726,
          23724,
          47353,
          33444,
          54386,
          28510,
          90638,
          48070,
          43140,
          54959,
          15056,
          26954,
          22327,
          44393,
          62000,
          31497,
          45894,
          78579,
          67369,
          58401,
          62307,
          43641,
          63841,
          46891,
          70091,
          78075,
          59184,
          54809,
          58113,
          51412,
          15287,
          66636,
          50965,
          84618,
          18351,
          40451,
          36317,
          42213,
          65748,
          77044,
          74918,
          56721,
          42160,
          61559,
          33629,
          68682,
          34377,
          8940,
          26228,
          77297,
          40211,
          33438,
          75032,
          61284,
          22518,
          54730,
          38452,
          44421,
          38197,
          41986,
          28427,
          37395,
          64722,
          55249,
          84906,
          28691,
          44213,
          25707,
          59062,
          76624,
          66000,
          27683,
          1730,
          7500,
          40521,
          20427,
          65106,
          69969,
          67433,
          77766,
          74716,
          68118,
          55158,
          62972,
          74190,
          39356,
          76653,
          35860,
          90687,
          73450,
          31454,
          47139,
          83829,
          53378,
          19656,
          45579,
          85485,
          55956,
          64191,
          38808,
          57183,
          23748,
          66303,
          37368,
          40800,
          71847,
          46149,
          78687,
          49118,
          37633,
          39767,
          26997,
          33986,
          57091,
          46831,
          83151,
          52531,
          15759,
          22804,
          43050,
          42997,
          48918,
          60033,
          34043,
          57811,
          78569,
          7500,
          157733,
          94384,
          23148,
          44267,
          71626,
          60894,
          50200,
          81051,
          65169,
          59868,
          65695,
          64857,
          45143,
          74805,
          59060,
          27238,
          47009,
          46094,
          40321,
          37235,
          81843,
          46692,
          77382,
          37774,
          18393,
          72828,
          24711,
          45503,
          6560,
          71604,
          27244,
          48752,
          71434,
          90842,
          88097,
          51948,
          71853,
          35876,
          40049,
          39660,
          50127,
          43263,
          62845,
          18929,
          24367,
          33249,
          26887,
          50150,
          62061,
          85696,
          76542,
          70515,
          18227,
          69139,
          69109,
          69627,
          38136,
          62159,
          80695,
          33316,
          58554,
          17256,
          53034,
          52203,
          59601,
          75154,
          47025,
          37971,
          41335,
          67267,
          57338,
          50523,
          35791,
          50611,
          56242,
          48904,
          56243,
          21355,
          57420,
          52247.25135379061,
          46390,
          54342,
          52247.25135379061,
          52247.25135379061,
          20895,
          92344,
          52247.25135379061,
          26907,
          44964,
          75507,
          53761,
          22682,
          38887,
          41658,
          29791,
          63915,
          39996,
          26759,
          63841,
          51039,
          60544,
          65685,
          37716,
          36864,
          44511,
          36947,
          47352,
          67087,
          57045,
          36957,
          69389,
          80134,
          43142,
          80589,
          34412,
          57537,
          22634,
          51315,
          36026,
          24639,
          34578,
          65704,
          63810,
          54132,
          18690,
          28164,
          34596,
          43269,
          38741,
          31907,
          27100,
          31163,
          92533,
          34853,
          70844,
          31086,
          60544,
          20491,
          42523,
          39922,
          33402,
          36408,
          21645,
          78427,
          82657,
          51876,
          78041,
          52852,
          70038,
          69401,
          46053,
          77343,
          73892,
          40304,
          32727,
          68695,
          43300,
          26290,
          93790,
          38410,
          64866,
          57957,
          46015,
          16531,
          28072,
          49476,
          50725,
          83844,
          41145,
          67419,
          23162,
          34380,
          34704,
          94871,
          65148,
          39898,
          64857,
          59892,
          41020,
          57072,
          60474,
          62807,
          19414,
          19107,
          75484,
          70379,
          79419,
          64014,
          76998,
          49854,
          60585,
          42873,
          87679,
          57867,
          35765,
          65492,
          32952,
          53374,
          71706,
          68487,
          53253,
          31163,
          42014,
          54108,
          49667,
          63206,
          57136,
          46772,
          78931,
          53977,
          84219,
          46098,
          73538,
          79529,
          20981,
          51766,
          55759,
          33039,
          37787,
          27242,
          87188,
          69930,
          37697,
          37401,
          3502,
          58597,
          82032,
          28087,
          74004,
          19740,
          57036,
          53083,
          69283,
          46098,
          23331,
          23331,
          9255,
          67786,
          71969,
          59235,
          31928,
          74881,
          65819,
          51411,
          51983,
          42386,
          30390,
          30983,
          66033,
          37284,
          57530,
          76800,
          63943,
          76081,
          67445,
          37054,
          47175,
          31859,
          27215,
          70179,
          39922,
          49681,
          24645,
          79865,
          44322,
          47958,
          63972,
          75315,
          55517,
          75283,
          82800,
          38998,
          90638,
          27161,
          42014,
          38201,
          45203,
          81574,
          34935,
          60482,
          34633,
          78093,
          82460,
          45903,
          81361,
          35860,
          40442,
          61482,
          34968,
          75794,
          31497,
          74268,
          13724,
          45143,
          52569,
          48432,
          17144,
          36108,
          76445,
          36663,
          53843,
          90226,
          70638,
          44512,
          27116,
          54072,
          71855,
          51250,
          60432,
          65526,
          68655,
          12393,
          64509,
          33955,
          31353,
          55434,
          28359,
          57100,
          69139,
          52973,
          51717,
          18793,
          66664,
          50664,
          54414,
          54549,
          47111,
          41003,
          19444,
          36301,
          73059,
          42731,
          52854,
          22775,
          46681,
          59821,
          50002,
          69755,
          44078,
          30560,
          35924,
          64140,
          56386,
          24594,
          75774,
          39228,
          58494,
          58684,
          57136,
          56551,
          22448,
          82014,
          34213,
          157146,
          25358,
          35544,
          36634,
          62670,
          50334,
          72066,
          50729,
          34916,
          64892,
          43602,
          33996,
          41473,
          63246,
          36732,
          69084,
          77766,
          37929,
          86610,
          80141,
          72635,
          69016,
          20193,
          27573,
          15862,
          49544,
          33228,
          70440,
          38232,
          22554,
          23536,
          49413,
          42231,
          78789,
          56534,
          58350,
          81217,
          49090,
          61787,
          18169,
          24336,
          18222,
          62335,
          42033,
          86580,
          41437,
          73705,
          61064,
          38452,
          18358,
          55012,
          9722,
          38175,
          58656,
          52117,
          64813,
          54222,
          83512,
          77520,
          41154,
          80398,
          18746,
          35196,
          60230,
          22108,
          44392,
          55424,
          17688,
          92491,
          90273,
          82571,
          38513,
          16653,
          42586,
          23529,
          74881,
          71107,
          46910,
          18690,
          37244,
          82427,
          75342,
          70044,
          79146,
          77437,
          54984,
          42403,
          55761,
          37292,
          45576,
          70321,
          58086,
          81795,
          28389,
          66835,
          69901,
          80360,
          63342,
          44989,
          31859,
          51569,
          30372,
          16014,
          41120,
          39763,
          38725,
          77981,
          62905,
          13533,
          59481,
          72117,
          21955,
          67131,
          36802,
          71853,
          28249,
          47808,
          25509,
          51012,
          70596,
          85431,
          42664,
          42586,
          29760,
          28973,
          39435,
          65370,
          20194,
          42473,
          64590,
          71232,
          34600,
          46904,
          49094,
          36075,
          60839,
          77298,
          34026,
          48918,
          82122,
          37697,
          34074,
          28520,
          62535,
          36273,
          63404,
          75774,
          78416,
          75702,
          59385,
          37070,
          44689,
          53977,
          7144,
          18701,
          90369,
          63159,
          37758,
          46757,
          79734,
          63207,
          72071,
          21840,
          58582,
          72282,
          50387,
          32583,
          62568,
          44635,
          33316,
          63967,
          52513,
          25293,
          54111,
          78394,
          80739,
          22669,
          29236,
          44911,
          54693,
          48186,
          54809,
          41580,
          80336,
          47743,
          62972,
          57333,
          32313,
          84953,
          27071,
          68148,
          65735,
          86836,
          4023,
          30093,
          57705,
          25008,
          83257,
          22280,
          72159,
          64260,
          82733,
          74290,
          58217,
          21024,
          70116,
          54006,
          69063,
          11448,
          61825,
          70886,
          69109,
          60208,
          32889,
          34738,
          30538,
          82326,
          26642,
          69932,
          44503,
          60200,
          49638,
          23830,
          33051,
          72905,
          69702,
          70300,
          70643,
          30396,
          50616,
          62772,
          30298,
          52413,
          44155,
          86979,
          76532,
          42081,
          67546,
          88420,
          31158,
          61671,
          69719,
          49160,
          24882,
          90933,
          113734,
          59292,
          45759,
          22148,
          73395,
          29819,
          45688,
          62820,
          60491,
          33235,
          35701,
          31535,
          92556,
          67384,
          80573,
          77870,
          52278,
          57107,
          18929,
          36038,
          20180,
          34230,
          31878,
          70932,
          91249,
          77598,
          80982,
          22701,
          55212,
          70617,
          64849,
          62694,
          61917,
          67472,
          21059,
          29543,
          75903,
          34984,
          54998,
          54356,
          34242,
          25410,
          73356,
          28320,
          23763,
          72570,
          34529,
          70792,
          63211,
          83891,
          36065,
          39898,
          51141,
          56939,
          80872,
          72335,
          61798,
          76842,
          29478,
          46998,
          96843,
          56551,
          70053,
          71670,
          44359,
          40887,
          48877,
          74485,
          64474,
          77226,
          72643,
          85738,
          55686,
          39062,
          34600,
          40794,
          54690,
          4428,
          32632,
          38236,
          36781,
          31385,
          24570,
          25509,
          94642,
          58646,
          53201,
          21994,
          57113,
          51373,
          23477,
          58116,
          72968,
          39791,
          91712,
          94472,
          13672,
          96547,
          79205,
          56559,
          32644,
          67506,
          24206,
          28420,
          22979,
          33279,
          46423,
          30368,
          63684,
          41638,
          68805,
          65814,
          71964,
          39146,
          96876,
          34445,
          68281,
          37284,
          36790,
          27943,
          22263,
          30261,
          28587,
          43815,
          48195,
          77027,
          71322,
          32765,
          29672,
          23272,
          49912,
          7500,
          68117,
          67225,
          17649,
          55914,
          40059,
          60905,
          75330,
          60689,
          38680,
          61416,
          49767,
          83273,
          29009,
          45057,
          37150,
          43020,
          53154,
          65308,
          76467,
          81044,
          32871,
          55801,
          76320,
          36927,
          48794,
          23478,
          71128,
          70179,
          59462,
          52247.25135379061,
          38361,
          52247.25135379061,
          70038,
          42554,
          67445,
          67046,
          42192,
          77610,
          31761,
          34350,
          54591,
          71866,
          25293,
          42000,
          69520,
          64713,
          27889,
          22123,
          52247.25135379061,
          52247.25135379061,
          27803,
          52247.25135379061,
          51651,
          68487,
          52247.25135379061,
          56796,
          87000,
          79823,
          30828,
          34109,
          53367,
          22390,
          71322,
          79244,
          49912,
          48699,
          80144,
          54252,
          81929,
          76068,
          53204,
          67911,
          14796,
          78128,
          14188,
          20425,
          58646,
          72967,
          48150,
          82332,
          58275,
          44953,
          34587,
          43018,
          45736,
          66476,
          27733,
          69805,
          72217,
          25818,
          37509,
          25176,
          43586,
          53230,
          50116,
          84906,
          61286,
          82333,
          65220,
          33590,
          30992,
          72309,
          156924,
          16005,
          65487,
          58692,
          40590,
          20587,
          62637,
          29435,
          19346,
          35788,
          36997,
          23539,
          65333,
          78499,
          29732,
          41275,
          63516,
          42769,
          49572,
          69209,
          17148,
          40590,
          30560,
          32146,
          41713,
          34176,
          58482,
          59686,
          60896,
          62994,
          47320,
          74859,
          15253,
          31560,
          72071,
          91172,
          90000,
          41967,
          69263,
          65706,
          60934,
          71965,
          65210,
          79174,
          81380,
          48432,
          52914,
          38946,
          26067,
          44325,
          42523,
          26487,
          53233,
          67716,
          76234,
          84117,
          65487,
          25224,
          89616,
          40851,
          27469,
          82347,
          73803,
          8820,
          43322,
          55593,
          50501,
          37085,
          16185,
          57731,
          48432,
          73807,
          18929,
          35893,
          61014,
          32144,
          14918,
          45146,
          41769,
          88325,
          38054,
          80617,
          5305,
          36807,
          28427,
          82032,
          22775,
          40101,
          58025,
          75777,
          7500,
          33562,
          57642,
          58554,
          63777,
          57967,
          52247.25135379061,
          24434,
          11012,
          44802,
          26816,
          34421,
          61223,
          64014,
          56981,
          69245,
          52869
         ],
         "yaxis": "y"
        },
        {
         "hovertemplate": "<b>OLS trendline</b><br>Income = 28.0562 * Total_spending + 34969.6<br>R<sup>2</sup>=0.622857<br><br>Total_spending=%{x}<br>Income=%{y} <b>(trend)</b><extra></extra>",
         "legendgroup": "",
         "marker": {
          "color": "#636efa",
          "symbol": "circle"
         },
         "mode": "lines",
         "name": "",
         "showlegend": false,
         "type": "scattergl",
         "x": [
          5,
          6,
          6,
          8,
          8,
          8,
          8,
          9,
          9,
          10,
          10,
          10,
          10,
          10,
          11,
          11,
          11,
          11,
          11,
          12,
          12,
          13,
          13,
          13,
          13,
          13,
          13,
          14,
          14,
          14,
          15,
          15,
          15,
          15,
          15,
          15,
          15,
          15,
          15,
          15,
          16,
          16,
          16,
          16,
          16,
          16,
          16,
          16,
          16,
          16,
          16,
          17,
          17,
          17,
          17,
          17,
          17,
          17,
          17,
          17,
          17,
          17,
          17,
          17,
          18,
          18,
          18,
          18,
          18,
          18,
          18,
          18,
          18,
          18,
          19,
          19,
          19,
          19,
          19,
          20,
          20,
          20,
          20,
          20,
          20,
          20,
          20,
          20,
          20,
          20,
          20,
          20,
          20,
          21,
          21,
          21,
          21,
          21,
          21,
          21,
          21,
          21,
          22,
          22,
          22,
          22,
          22,
          22,
          22,
          22,
          22,
          22,
          22,
          22,
          22,
          22,
          22,
          22,
          22,
          22,
          23,
          23,
          23,
          23,
          23,
          23,
          23,
          23,
          23,
          23,
          23,
          24,
          24,
          24,
          24,
          24,
          24,
          25,
          25,
          25,
          25,
          25,
          25,
          25,
          25,
          25,
          25,
          25,
          25,
          26,
          26,
          26,
          26,
          26,
          26,
          27,
          27,
          27,
          27,
          27,
          28,
          28,
          28,
          28,
          28,
          28,
          28,
          28,
          28,
          29,
          29,
          29,
          29,
          29,
          29,
          29,
          29,
          30,
          30,
          30,
          30,
          30,
          30,
          30,
          30,
          30,
          30,
          30,
          31,
          31,
          31,
          31,
          31,
          31,
          31,
          31,
          31,
          31,
          32,
          32,
          32,
          32,
          32,
          32,
          32,
          32,
          32,
          32,
          32,
          33,
          33,
          33,
          33,
          34,
          34,
          34,
          34,
          34,
          34,
          34,
          34,
          34,
          34,
          34,
          35,
          35,
          35,
          35,
          35,
          35,
          35,
          36,
          36,
          36,
          36,
          36,
          36,
          37,
          37,
          37,
          37,
          37,
          37,
          37,
          37,
          37,
          37,
          37,
          37,
          37,
          37,
          38,
          38,
          38,
          38,
          38,
          38,
          38,
          38,
          38,
          38,
          38,
          38,
          38,
          38,
          39,
          39,
          39,
          39,
          39,
          39,
          39,
          40,
          40,
          40,
          40,
          40,
          40,
          40,
          41,
          41,
          41,
          41,
          41,
          41,
          41,
          41,
          41,
          41,
          41,
          42,
          42,
          42,
          42,
          42,
          42,
          42,
          42,
          42,
          42,
          42,
          43,
          43,
          43,
          43,
          43,
          43,
          43,
          43,
          43,
          43,
          43,
          43,
          43,
          43,
          44,
          44,
          44,
          44,
          44,
          44,
          44,
          44,
          44,
          44,
          44,
          44,
          44,
          44,
          44,
          45,
          45,
          45,
          45,
          45,
          45,
          45,
          45,
          45,
          45,
          45,
          45,
          45,
          46,
          46,
          46,
          46,
          46,
          46,
          46,
          46,
          46,
          46,
          46,
          46,
          46,
          46,
          46,
          46,
          46,
          46,
          46,
          47,
          47,
          47,
          47,
          47,
          47,
          47,
          47,
          47,
          47,
          48,
          48,
          48,
          48,
          48,
          48,
          48,
          48,
          48,
          48,
          48,
          48,
          48,
          48,
          49,
          49,
          49,
          49,
          49,
          49,
          49,
          49,
          49,
          49,
          49,
          50,
          50,
          50,
          50,
          50,
          50,
          50,
          51,
          51,
          51,
          51,
          51,
          51,
          52,
          52,
          52,
          52,
          52,
          52,
          53,
          53,
          53,
          53,
          53,
          53,
          53,
          53,
          54,
          54,
          54,
          54,
          54,
          54,
          54,
          54,
          54,
          54,
          54,
          54,
          54,
          55,
          55,
          55,
          55,
          55,
          55,
          55,
          55,
          55,
          55,
          55,
          55,
          55,
          55,
          55,
          56,
          56,
          56,
          56,
          57,
          57,
          57,
          57,
          57,
          57,
          57,
          57,
          57,
          57,
          57,
          57,
          57,
          57,
          57,
          57,
          58,
          58,
          58,
          58,
          59,
          59,
          59,
          59,
          59,
          59,
          59,
          60,
          60,
          60,
          60,
          60,
          60,
          61,
          61,
          61,
          61,
          61,
          61,
          61,
          61,
          61,
          62,
          62,
          62,
          62,
          62,
          62,
          62,
          62,
          63,
          63,
          63,
          63,
          63,
          63,
          63,
          63,
          63,
          63,
          63,
          63,
          64,
          64,
          64,
          64,
          64,
          64,
          64,
          65,
          65,
          65,
          65,
          65,
          65,
          65,
          65,
          66,
          66,
          66,
          66,
          66,
          66,
          66,
          66,
          67,
          67,
          67,
          67,
          67,
          67,
          67,
          67,
          68,
          68,
          68,
          68,
          68,
          68,
          68,
          68,
          68,
          68,
          69,
          69,
          69,
          69,
          69,
          69,
          69,
          69,
          69,
          70,
          70,
          70,
          70,
          70,
          70,
          70,
          71,
          71,
          71,
          71,
          71,
          71,
          71,
          72,
          72,
          72,
          72,
          72,
          72,
          72,
          72,
          72,
          73,
          73,
          73,
          74,
          74,
          74,
          75,
          75,
          75,
          75,
          75,
          75,
          76,
          76,
          76,
          76,
          76,
          76,
          76,
          77,
          77,
          77,
          77,
          78,
          78,
          78,
          78,
          78,
          78,
          78,
          78,
          79,
          79,
          79,
          79,
          79,
          79,
          80,
          80,
          80,
          80,
          80,
          81,
          81,
          81,
          81,
          81,
          81,
          81,
          81,
          82,
          83,
          83,
          84,
          84,
          84,
          84,
          84,
          84,
          85,
          85,
          85,
          86,
          86,
          86,
          87,
          87,
          88,
          88,
          88,
          88,
          89,
          89,
          89,
          89,
          90,
          90,
          90,
          90,
          91,
          91,
          91,
          91,
          91,
          92,
          92,
          92,
          92,
          92,
          92,
          92,
          93,
          93,
          93,
          93,
          94,
          94,
          94,
          94,
          95,
          95,
          95,
          95,
          96,
          96,
          96,
          96,
          96,
          96,
          96,
          97,
          97,
          98,
          99,
          99,
          99,
          99,
          99,
          100,
          100,
          100,
          100,
          101,
          101,
          101,
          101,
          102,
          102,
          102,
          102,
          102,
          102,
          103,
          103,
          103,
          103,
          103,
          103,
          103,
          106,
          106,
          106,
          106,
          106,
          107,
          107,
          108,
          109,
          109,
          112,
          112,
          112,
          114,
          114,
          114,
          114,
          115,
          116,
          116,
          117,
          119,
          119,
          119,
          120,
          120,
          120,
          120,
          120,
          121,
          121,
          121,
          122,
          122,
          122,
          122,
          122,
          122,
          123,
          124,
          125,
          125,
          125,
          125,
          126,
          127,
          128,
          129,
          129,
          129,
          130,
          131,
          131,
          131,
          131,
          132,
          133,
          133,
          133,
          133,
          134,
          134,
          134,
          135,
          135,
          137,
          137,
          137,
          137,
          137,
          137,
          137,
          138,
          138,
          138,
          139,
          139,
          140,
          140,
          140,
          141,
          143,
          144,
          144,
          145,
          145,
          145,
          146,
          147,
          147,
          148,
          149,
          149,
          151,
          152,
          152,
          152,
          153,
          155,
          155,
          156,
          156,
          156,
          156,
          157,
          158,
          159,
          160,
          160,
          161,
          162,
          162,
          162,
          162,
          163,
          165,
          165,
          165,
          165,
          167,
          167,
          169,
          169,
          170,
          170,
          171,
          172,
          172,
          173,
          174,
          174,
          174,
          174,
          175,
          176,
          177,
          177,
          177,
          178,
          178,
          180,
          180,
          182,
          182,
          183,
          183,
          183,
          184,
          184,
          185,
          185,
          185,
          186,
          186,
          187,
          187,
          187,
          188,
          189,
          189,
          191,
          191,
          192,
          193,
          194,
          195,
          195,
          198,
          198,
          198,
          199,
          199,
          201,
          203,
          205,
          207,
          209,
          209,
          209,
          209,
          210,
          210,
          210,
          211,
          211,
          211,
          211,
          213,
          215,
          215,
          216,
          217,
          218,
          219,
          221,
          222,
          222,
          222,
          223,
          223,
          224,
          225,
          227,
          227,
          227,
          231,
          231,
          231,
          232,
          233,
          233,
          235,
          235,
          235,
          235,
          236,
          236,
          237,
          237,
          240,
          240,
          241,
          241,
          242,
          244,
          244,
          246,
          251,
          252,
          252,
          253,
          254,
          255,
          257,
          257,
          257,
          258,
          258,
          259,
          260,
          263,
          263,
          263,
          263,
          264,
          264,
          264,
          265,
          265,
          265,
          265,
          266,
          266,
          266,
          267,
          268,
          268,
          269,
          269,
          269,
          270,
          270,
          270,
          270,
          270,
          271,
          272,
          273,
          274,
          274,
          275,
          275,
          275,
          275,
          277,
          278,
          279,
          279,
          279,
          279,
          282,
          283,
          284,
          285,
          289,
          289,
          290,
          292,
          293,
          294,
          296,
          296,
          297,
          299,
          299,
          300,
          301,
          302,
          304,
          305,
          306,
          306,
          309,
          310,
          310,
          310,
          311,
          311,
          311,
          311,
          312,
          312,
          312,
          313,
          315,
          315,
          315,
          316,
          316,
          317,
          317,
          317,
          318,
          318,
          318,
          318,
          319,
          319,
          320,
          322,
          322,
          324,
          324,
          325,
          326,
          326,
          330,
          331,
          331,
          332,
          334,
          335,
          339,
          341,
          343,
          343,
          347,
          348,
          350,
          350,
          351,
          353,
          354,
          357,
          358,
          358,
          359,
          361,
          362,
          363,
          365,
          367,
          367,
          368,
          369,
          369,
          369,
          369,
          371,
          372,
          373,
          373,
          377,
          377,
          380,
          382,
          382,
          384,
          385,
          388,
          390,
          392,
          393,
          393,
          393,
          395,
          395,
          396,
          396,
          396,
          397,
          397,
          397,
          398,
          400,
          401,
          401,
          401,
          401,
          401,
          404,
          404,
          404,
          405,
          405,
          405,
          406,
          406,
          407,
          409,
          410,
          410,
          411,
          411,
          411,
          411,
          413,
          414,
          414,
          414,
          415,
          415,
          415,
          416,
          416,
          417,
          418,
          421,
          422,
          424,
          424,
          424,
          424,
          424,
          425,
          425,
          426,
          428,
          429,
          431,
          433,
          433,
          433,
          434,
          434,
          436,
          436,
          436,
          437,
          438,
          441,
          441,
          442,
          443,
          443,
          444,
          444,
          444,
          444,
          446,
          446,
          447,
          448,
          449,
          449,
          450,
          450,
          450,
          454,
          455,
          458,
          458,
          459,
          460,
          460,
          461,
          461,
          461,
          463,
          463,
          467,
          467,
          467,
          467,
          467,
          467,
          468,
          470,
          470,
          473,
          473,
          475,
          480,
          482,
          484,
          485,
          486,
          486,
          486,
          488,
          490,
          491,
          492,
          493,
          493,
          493,
          494,
          495,
          496,
          496,
          497,
          497,
          497,
          499,
          500,
          502,
          504,
          506,
          506,
          506,
          507,
          507,
          507,
          507,
          515,
          518,
          518,
          519,
          521,
          521,
          523,
          525,
          526,
          527,
          528,
          529,
          530,
          530,
          534,
          535,
          541,
          542,
          542,
          542,
          544,
          544,
          545,
          545,
          546,
          546,
          551,
          556,
          557,
          559,
          561,
          561,
          562,
          562,
          563,
          564,
          564,
          564,
          568,
          570,
          573,
          573,
          574,
          575,
          576,
          576,
          576,
          576,
          577,
          577,
          578,
          581,
          586,
          586,
          586,
          587,
          587,
          590,
          594,
          595,
          596,
          597,
          599,
          601,
          602,
          603,
          605,
          606,
          606,
          606,
          606,
          606,
          608,
          608,
          608,
          610,
          611,
          612,
          612,
          612,
          614,
          615,
          622,
          629,
          630,
          632,
          633,
          634,
          635,
          636,
          636,
          637,
          637,
          637,
          638,
          639,
          641,
          641,
          642,
          653,
          653,
          653,
          653,
          654,
          655,
          656,
          656,
          660,
          660,
          660,
          661,
          661,
          662,
          662,
          663,
          664,
          664,
          670,
          677,
          679,
          680,
          680,
          682,
          683,
          684,
          684,
          684,
          685,
          685,
          688,
          689,
          690,
          691,
          692,
          692,
          693,
          694,
          694,
          702,
          704,
          704,
          708,
          710,
          711,
          714,
          715,
          716,
          721,
          724,
          725,
          725,
          725,
          726,
          727,
          727,
          728,
          728,
          729,
          730,
          730,
          731,
          731,
          732,
          732,
          733,
          733,
          734,
          734,
          735,
          736,
          745,
          746,
          746,
          747,
          747,
          747,
          749,
          751,
          756,
          757,
          758,
          758,
          761,
          763,
          764,
          766,
          767,
          769,
          769,
          770,
          772,
          775,
          776,
          777,
          777,
          778,
          778,
          779,
          787,
          789,
          789,
          792,
          792,
          793,
          793,
          794,
          794,
          795,
          795,
          795,
          797,
          797,
          797,
          798,
          800,
          801,
          802,
          805,
          805,
          809,
          811,
          811,
          813,
          813,
          815,
          816,
          817,
          818,
          819,
          819,
          820,
          820,
          823,
          823,
          823,
          825,
          825,
          825,
          832,
          833,
          833,
          834,
          835,
          835,
          836,
          839,
          841,
          843,
          844,
          845,
          849,
          850,
          854,
          858,
          859,
          859,
          860,
          860,
          860,
          861,
          863,
          868,
          868,
          868,
          869,
          871,
          873,
          874,
          874,
          877,
          877,
          879,
          882,
          882,
          882,
          882,
          884,
          889,
          889,
          890,
          892,
          893,
          894,
          895,
          895,
          899,
          900,
          900,
          901,
          902,
          902,
          902,
          902,
          902,
          903,
          904,
          906,
          906,
          907,
          907,
          907,
          908,
          908,
          908,
          909,
          910,
          913,
          914,
          915,
          916,
          917,
          925,
          926,
          926,
          928,
          928,
          928,
          928,
          928,
          929,
          930,
          930,
          932,
          936,
          937,
          938,
          939,
          939,
          940,
          943,
          943,
          945,
          946,
          946,
          948,
          953,
          957,
          957,
          957,
          960,
          960,
          960,
          961,
          963,
          964,
          964,
          965,
          966,
          967,
          968,
          968,
          969,
          969,
          971,
          971,
          972,
          973,
          973,
          974,
          976,
          976,
          976,
          976,
          976,
          978,
          978,
          981,
          981,
          981,
          981,
          982,
          984,
          985,
          988,
          989,
          990,
          990,
          990,
          992,
          993,
          995,
          995,
          999,
          1001,
          1001,
          1001,
          1001,
          1003,
          1004,
          1004,
          1005,
          1005,
          1006,
          1008,
          1008,
          1009,
          1012,
          1013,
          1016,
          1019,
          1020,
          1020,
          1021,
          1021,
          1024,
          1026,
          1027,
          1027,
          1028,
          1029,
          1029,
          1033,
          1033,
          1033,
          1033,
          1034,
          1034,
          1034,
          1038,
          1039,
          1040,
          1042,
          1043,
          1044,
          1045,
          1047,
          1048,
          1048,
          1049,
          1049,
          1052,
          1052,
          1053,
          1053,
          1060,
          1062,
          1062,
          1064,
          1064,
          1064,
          1065,
          1065,
          1066,
          1067,
          1068,
          1071,
          1072,
          1073,
          1073,
          1076,
          1078,
          1079,
          1080,
          1082,
          1084,
          1085,
          1086,
          1088,
          1089,
          1091,
          1091,
          1092,
          1092,
          1092,
          1093,
          1095,
          1095,
          1097,
          1097,
          1099,
          1101,
          1101,
          1101,
          1102,
          1102,
          1103,
          1103,
          1104,
          1105,
          1106,
          1109,
          1112,
          1113,
          1115,
          1117,
          1117,
          1120,
          1120,
          1121,
          1123,
          1125,
          1127,
          1127,
          1128,
          1130,
          1131,
          1134,
          1135,
          1135,
          1138,
          1139,
          1141,
          1143,
          1143,
          1146,
          1147,
          1148,
          1149,
          1149,
          1149,
          1149,
          1150,
          1150,
          1151,
          1152,
          1152,
          1155,
          1156,
          1156,
          1157,
          1157,
          1157,
          1158,
          1159,
          1161,
          1161,
          1165,
          1167,
          1168,
          1168,
          1169,
          1169,
          1169,
          1171,
          1173,
          1173,
          1174,
          1174,
          1174,
          1175,
          1178,
          1178,
          1179,
          1179,
          1179,
          1180,
          1180,
          1182,
          1182,
          1185,
          1187,
          1188,
          1188,
          1189,
          1190,
          1191,
          1192,
          1192,
          1193,
          1194,
          1196,
          1196,
          1198,
          1198,
          1198,
          1198,
          1198,
          1199,
          1208,
          1210,
          1211,
          1211,
          1213,
          1213,
          1215,
          1215,
          1216,
          1217,
          1220,
          1226,
          1226,
          1228,
          1229,
          1230,
          1230,
          1231,
          1232,
          1234,
          1234,
          1237,
          1240,
          1241,
          1241,
          1242,
          1244,
          1244,
          1245,
          1250,
          1250,
          1250,
          1253,
          1253,
          1258,
          1260,
          1263,
          1264,
          1269,
          1270,
          1272,
          1274,
          1277,
          1280,
          1281,
          1282,
          1282,
          1283,
          1286,
          1288,
          1289,
          1289,
          1291,
          1293,
          1295,
          1298,
          1305,
          1305,
          1307,
          1307,
          1313,
          1313,
          1314,
          1315,
          1315,
          1315,
          1318,
          1319,
          1319,
          1319,
          1323,
          1323,
          1327,
          1331,
          1334,
          1334,
          1335,
          1336,
          1336,
          1338,
          1338,
          1338,
          1338,
          1341,
          1345,
          1346,
          1348,
          1348,
          1363,
          1363,
          1364,
          1365,
          1366,
          1366,
          1366,
          1366,
          1367,
          1370,
          1371,
          1371,
          1371,
          1374,
          1375,
          1376,
          1376,
          1377,
          1378,
          1379,
          1380,
          1381,
          1382,
          1382,
          1383,
          1383,
          1385,
          1388,
          1390,
          1392,
          1395,
          1396,
          1400,
          1401,
          1401,
          1410,
          1415,
          1416,
          1423,
          1424,
          1427,
          1428,
          1428,
          1429,
          1435,
          1435,
          1438,
          1438,
          1440,
          1440,
          1442,
          1443,
          1443,
          1443,
          1445,
          1449,
          1453,
          1453,
          1455,
          1456,
          1459,
          1461,
          1461,
          1464,
          1471,
          1472,
          1474,
          1477,
          1477,
          1478,
          1478,
          1478,
          1479,
          1482,
          1482,
          1483,
          1485,
          1490,
          1493,
          1495,
          1495,
          1497,
          1497,
          1501,
          1502,
          1504,
          1507,
          1507,
          1508,
          1511,
          1511,
          1512,
          1513,
          1515,
          1518,
          1525,
          1526,
          1526,
          1528,
          1529,
          1529,
          1531,
          1533,
          1536,
          1536,
          1538,
          1538,
          1540,
          1540,
          1544,
          1555,
          1555,
          1562,
          1564,
          1564,
          1564,
          1565,
          1566,
          1572,
          1572,
          1573,
          1574,
          1574,
          1574,
          1574,
          1574,
          1575,
          1576,
          1580,
          1581,
          1586,
          1586,
          1587,
          1588,
          1588,
          1596,
          1597,
          1598,
          1598,
          1600,
          1600,
          1603,
          1608,
          1611,
          1612,
          1615,
          1615,
          1616,
          1617,
          1617,
          1621,
          1623,
          1627,
          1631,
          1631,
          1631,
          1633,
          1633,
          1635,
          1638,
          1638,
          1643,
          1644,
          1650,
          1650,
          1651,
          1655,
          1658,
          1658,
          1662,
          1662,
          1665,
          1670,
          1672,
          1672,
          1674,
          1676,
          1677,
          1677,
          1678,
          1679,
          1680,
          1682,
          1685,
          1686,
          1688,
          1690,
          1690,
          1691,
          1693,
          1695,
          1701,
          1702,
          1706,
          1711,
          1717,
          1722,
          1722,
          1722,
          1724,
          1724,
          1727,
          1727,
          1730,
          1730,
          1734,
          1735,
          1736,
          1738,
          1743,
          1750,
          1753,
          1754,
          1757,
          1761,
          1766,
          1772,
          1778,
          1779,
          1782,
          1782,
          1789,
          1792,
          1795,
          1797,
          1798,
          1804,
          1804,
          1808,
          1812,
          1815,
          1816,
          1820,
          1822,
          1825,
          1826,
          1828,
          1829,
          1833,
          1835,
          1853,
          1853,
          1853,
          1862,
          1862,
          1867,
          1869,
          1870,
          1890,
          1893,
          1895,
          1899,
          1901,
          1902,
          1908,
          1910,
          1910,
          1918,
          1919,
          1919,
          1919,
          1921,
          1923,
          1923,
          1924,
          1930,
          1931,
          1932,
          1941,
          1947,
          1956,
          1957,
          1957,
          1957,
          1958,
          1958,
          1968,
          1990,
          1991,
          2006,
          2008,
          2008,
          2009,
          2013,
          2018,
          2034,
          2043,
          2047,
          2052,
          2053,
          2059,
          2069,
          2074,
          2077,
          2086,
          2087,
          2088,
          2089,
          2091,
          2092,
          2092,
          2114,
          2114,
          2116,
          2119,
          2126,
          2126,
          2130,
          2153,
          2157,
          2194,
          2209,
          2211,
          2217,
          2231,
          2252,
          2257,
          2279,
          2283,
          2302,
          2302,
          2346,
          2349,
          2352,
          2440,
          2486,
          2524,
          2525,
          2525
         ],
         "xaxis": "x",
         "y": [
          35109.89634076,
          35137.9525563971,
          35137.9525563971,
          35194.0649876713,
          35194.0649876713,
          35194.0649876713,
          35194.0649876713,
          35222.121203308394,
          35222.121203308394,
          35250.177418945495,
          35250.177418945495,
          35250.177418945495,
          35250.177418945495,
          35250.177418945495,
          35278.2336345826,
          35278.2336345826,
          35278.2336345826,
          35278.2336345826,
          35278.2336345826,
          35306.28985021969,
          35306.28985021969,
          35334.34606585679,
          35334.34606585679,
          35334.34606585679,
          35334.34606585679,
          35334.34606585679,
          35334.34606585679,
          35362.402281493894,
          35362.402281493894,
          35362.402281493894,
          35390.458497130996,
          35390.458497130996,
          35390.458497130996,
          35390.458497130996,
          35390.458497130996,
          35390.458497130996,
          35390.458497130996,
          35390.458497130996,
          35390.458497130996,
          35390.458497130996,
          35418.51471276809,
          35418.51471276809,
          35418.51471276809,
          35418.51471276809,
          35418.51471276809,
          35418.51471276809,
          35418.51471276809,
          35418.51471276809,
          35418.51471276809,
          35418.51471276809,
          35418.51471276809,
          35446.57092840519,
          35446.57092840519,
          35446.57092840519,
          35446.57092840519,
          35446.57092840519,
          35446.57092840519,
          35446.57092840519,
          35446.57092840519,
          35446.57092840519,
          35446.57092840519,
          35446.57092840519,
          35446.57092840519,
          35446.57092840519,
          35474.62714404229,
          35474.62714404229,
          35474.62714404229,
          35474.62714404229,
          35474.62714404229,
          35474.62714404229,
          35474.62714404229,
          35474.62714404229,
          35474.62714404229,
          35474.62714404229,
          35502.68335967939,
          35502.68335967939,
          35502.68335967939,
          35502.68335967939,
          35502.68335967939,
          35530.73957531649,
          35530.73957531649,
          35530.73957531649,
          35530.73957531649,
          35530.73957531649,
          35530.73957531649,
          35530.73957531649,
          35530.73957531649,
          35530.73957531649,
          35530.73957531649,
          35530.73957531649,
          35530.73957531649,
          35530.73957531649,
          35530.73957531649,
          35558.79579095359,
          35558.79579095359,
          35558.79579095359,
          35558.79579095359,
          35558.79579095359,
          35558.79579095359,
          35558.79579095359,
          35558.79579095359,
          35558.79579095359,
          35586.85200659069,
          35586.85200659069,
          35586.85200659069,
          35586.85200659069,
          35586.85200659069,
          35586.85200659069,
          35586.85200659069,
          35586.85200659069,
          35586.85200659069,
          35586.85200659069,
          35586.85200659069,
          35586.85200659069,
          35586.85200659069,
          35586.85200659069,
          35586.85200659069,
          35586.85200659069,
          35586.85200659069,
          35586.85200659069,
          35614.90822222779,
          35614.90822222779,
          35614.90822222779,
          35614.90822222779,
          35614.90822222779,
          35614.90822222779,
          35614.90822222779,
          35614.90822222779,
          35614.90822222779,
          35614.90822222779,
          35614.90822222779,
          35642.96443786489,
          35642.96443786489,
          35642.96443786489,
          35642.96443786489,
          35642.96443786489,
          35642.96443786489,
          35671.02065350199,
          35671.02065350199,
          35671.02065350199,
          35671.02065350199,
          35671.02065350199,
          35671.02065350199,
          35671.02065350199,
          35671.02065350199,
          35671.02065350199,
          35671.02065350199,
          35671.02065350199,
          35671.02065350199,
          35699.076869139084,
          35699.076869139084,
          35699.076869139084,
          35699.076869139084,
          35699.076869139084,
          35699.076869139084,
          35727.133084776186,
          35727.133084776186,
          35727.133084776186,
          35727.133084776186,
          35727.133084776186,
          35755.18930041329,
          35755.18930041329,
          35755.18930041329,
          35755.18930041329,
          35755.18930041329,
          35755.18930041329,
          35755.18930041329,
          35755.18930041329,
          35755.18930041329,
          35783.24551605039,
          35783.24551605039,
          35783.24551605039,
          35783.24551605039,
          35783.24551605039,
          35783.24551605039,
          35783.24551605039,
          35783.24551605039,
          35811.30173168748,
          35811.30173168748,
          35811.30173168748,
          35811.30173168748,
          35811.30173168748,
          35811.30173168748,
          35811.30173168748,
          35811.30173168748,
          35811.30173168748,
          35811.30173168748,
          35811.30173168748,
          35839.357947324585,
          35839.357947324585,
          35839.357947324585,
          35839.357947324585,
          35839.357947324585,
          35839.357947324585,
          35839.357947324585,
          35839.357947324585,
          35839.357947324585,
          35839.357947324585,
          35867.414162961686,
          35867.414162961686,
          35867.414162961686,
          35867.414162961686,
          35867.414162961686,
          35867.414162961686,
          35867.414162961686,
          35867.414162961686,
          35867.414162961686,
          35867.414162961686,
          35867.414162961686,
          35895.47037859878,
          35895.47037859878,
          35895.47037859878,
          35895.47037859878,
          35923.52659423588,
          35923.52659423588,
          35923.52659423588,
          35923.52659423588,
          35923.52659423588,
          35923.52659423588,
          35923.52659423588,
          35923.52659423588,
          35923.52659423588,
          35923.52659423588,
          35923.52659423588,
          35951.58280987298,
          35951.58280987298,
          35951.58280987298,
          35951.58280987298,
          35951.58280987298,
          35951.58280987298,
          35951.58280987298,
          35979.63902551008,
          35979.63902551008,
          35979.63902551008,
          35979.63902551008,
          35979.63902551008,
          35979.63902551008,
          36007.69524114718,
          36007.69524114718,
          36007.69524114718,
          36007.69524114718,
          36007.69524114718,
          36007.69524114718,
          36007.69524114718,
          36007.69524114718,
          36007.69524114718,
          36007.69524114718,
          36007.69524114718,
          36007.69524114718,
          36007.69524114718,
          36007.69524114718,
          36035.75145678428,
          36035.75145678428,
          36035.75145678428,
          36035.75145678428,
          36035.75145678428,
          36035.75145678428,
          36035.75145678428,
          36035.75145678428,
          36035.75145678428,
          36035.75145678428,
          36035.75145678428,
          36035.75145678428,
          36035.75145678428,
          36035.75145678428,
          36063.80767242138,
          36063.80767242138,
          36063.80767242138,
          36063.80767242138,
          36063.80767242138,
          36063.80767242138,
          36063.80767242138,
          36091.86388805848,
          36091.86388805848,
          36091.86388805848,
          36091.86388805848,
          36091.86388805848,
          36091.86388805848,
          36091.86388805848,
          36119.92010369558,
          36119.92010369558,
          36119.92010369558,
          36119.92010369558,
          36119.92010369558,
          36119.92010369558,
          36119.92010369558,
          36119.92010369558,
          36119.92010369558,
          36119.92010369558,
          36119.92010369558,
          36147.97631933268,
          36147.97631933268,
          36147.97631933268,
          36147.97631933268,
          36147.97631933268,
          36147.97631933268,
          36147.97631933268,
          36147.97631933268,
          36147.97631933268,
          36147.97631933268,
          36147.97631933268,
          36176.032534969774,
          36176.032534969774,
          36176.032534969774,
          36176.032534969774,
          36176.032534969774,
          36176.032534969774,
          36176.032534969774,
          36176.032534969774,
          36176.032534969774,
          36176.032534969774,
          36176.032534969774,
          36176.032534969774,
          36176.032534969774,
          36176.032534969774,
          36204.088750606876,
          36204.088750606876,
          36204.088750606876,
          36204.088750606876,
          36204.088750606876,
          36204.088750606876,
          36204.088750606876,
          36204.088750606876,
          36204.088750606876,
          36204.088750606876,
          36204.088750606876,
          36204.088750606876,
          36204.088750606876,
          36204.088750606876,
          36204.088750606876,
          36232.14496624398,
          36232.14496624398,
          36232.14496624398,
          36232.14496624398,
          36232.14496624398,
          36232.14496624398,
          36232.14496624398,
          36232.14496624398,
          36232.14496624398,
          36232.14496624398,
          36232.14496624398,
          36232.14496624398,
          36232.14496624398,
          36260.20118188108,
          36260.20118188108,
          36260.20118188108,
          36260.20118188108,
          36260.20118188108,
          36260.20118188108,
          36260.20118188108,
          36260.20118188108,
          36260.20118188108,
          36260.20118188108,
          36260.20118188108,
          36260.20118188108,
          36260.20118188108,
          36260.20118188108,
          36260.20118188108,
          36260.20118188108,
          36260.20118188108,
          36260.20118188108,
          36260.20118188108,
          36288.25739751817,
          36288.25739751817,
          36288.25739751817,
          36288.25739751817,
          36288.25739751817,
          36288.25739751817,
          36288.25739751817,
          36288.25739751817,
          36288.25739751817,
          36288.25739751817,
          36316.313613155275,
          36316.313613155275,
          36316.313613155275,
          36316.313613155275,
          36316.313613155275,
          36316.313613155275,
          36316.313613155275,
          36316.313613155275,
          36316.313613155275,
          36316.313613155275,
          36316.313613155275,
          36316.313613155275,
          36316.313613155275,
          36316.313613155275,
          36344.369828792376,
          36344.369828792376,
          36344.369828792376,
          36344.369828792376,
          36344.369828792376,
          36344.369828792376,
          36344.369828792376,
          36344.369828792376,
          36344.369828792376,
          36344.369828792376,
          36344.369828792376,
          36372.42604442947,
          36372.42604442947,
          36372.42604442947,
          36372.42604442947,
          36372.42604442947,
          36372.42604442947,
          36372.42604442947,
          36400.48226006657,
          36400.48226006657,
          36400.48226006657,
          36400.48226006657,
          36400.48226006657,
          36400.48226006657,
          36428.53847570367,
          36428.53847570367,
          36428.53847570367,
          36428.53847570367,
          36428.53847570367,
          36428.53847570367,
          36456.594691340775,
          36456.594691340775,
          36456.594691340775,
          36456.594691340775,
          36456.594691340775,
          36456.594691340775,
          36456.594691340775,
          36456.594691340775,
          36484.65090697787,
          36484.65090697787,
          36484.65090697787,
          36484.65090697787,
          36484.65090697787,
          36484.65090697787,
          36484.65090697787,
          36484.65090697787,
          36484.65090697787,
          36484.65090697787,
          36484.65090697787,
          36484.65090697787,
          36484.65090697787,
          36512.70712261497,
          36512.70712261497,
          36512.70712261497,
          36512.70712261497,
          36512.70712261497,
          36512.70712261497,
          36512.70712261497,
          36512.70712261497,
          36512.70712261497,
          36512.70712261497,
          36512.70712261497,
          36512.70712261497,
          36512.70712261497,
          36512.70712261497,
          36512.70712261497,
          36540.76333825207,
          36540.76333825207,
          36540.76333825207,
          36540.76333825207,
          36568.81955388917,
          36568.81955388917,
          36568.81955388917,
          36568.81955388917,
          36568.81955388917,
          36568.81955388917,
          36568.81955388917,
          36568.81955388917,
          36568.81955388917,
          36568.81955388917,
          36568.81955388917,
          36568.81955388917,
          36568.81955388917,
          36568.81955388917,
          36568.81955388917,
          36568.81955388917,
          36596.87576952627,
          36596.87576952627,
          36596.87576952627,
          36596.87576952627,
          36624.93198516337,
          36624.93198516337,
          36624.93198516337,
          36624.93198516337,
          36624.93198516337,
          36624.93198516337,
          36624.93198516337,
          36652.988200800464,
          36652.988200800464,
          36652.988200800464,
          36652.988200800464,
          36652.988200800464,
          36652.988200800464,
          36681.044416437566,
          36681.044416437566,
          36681.044416437566,
          36681.044416437566,
          36681.044416437566,
          36681.044416437566,
          36681.044416437566,
          36681.044416437566,
          36681.044416437566,
          36709.10063207467,
          36709.10063207467,
          36709.10063207467,
          36709.10063207467,
          36709.10063207467,
          36709.10063207467,
          36709.10063207467,
          36709.10063207467,
          36737.15684771177,
          36737.15684771177,
          36737.15684771177,
          36737.15684771177,
          36737.15684771177,
          36737.15684771177,
          36737.15684771177,
          36737.15684771177,
          36737.15684771177,
          36737.15684771177,
          36737.15684771177,
          36737.15684771177,
          36765.21306334886,
          36765.21306334886,
          36765.21306334886,
          36765.21306334886,
          36765.21306334886,
          36765.21306334886,
          36765.21306334886,
          36793.269278985965,
          36793.269278985965,
          36793.269278985965,
          36793.269278985965,
          36793.269278985965,
          36793.269278985965,
          36793.269278985965,
          36793.269278985965,
          36821.325494623066,
          36821.325494623066,
          36821.325494623066,
          36821.325494623066,
          36821.325494623066,
          36821.325494623066,
          36821.325494623066,
          36821.325494623066,
          36849.38171026016,
          36849.38171026016,
          36849.38171026016,
          36849.38171026016,
          36849.38171026016,
          36849.38171026016,
          36849.38171026016,
          36849.38171026016,
          36877.43792589726,
          36877.43792589726,
          36877.43792589726,
          36877.43792589726,
          36877.43792589726,
          36877.43792589726,
          36877.43792589726,
          36877.43792589726,
          36877.43792589726,
          36877.43792589726,
          36905.494141534364,
          36905.494141534364,
          36905.494141534364,
          36905.494141534364,
          36905.494141534364,
          36905.494141534364,
          36905.494141534364,
          36905.494141534364,
          36905.494141534364,
          36933.550357171465,
          36933.550357171465,
          36933.550357171465,
          36933.550357171465,
          36933.550357171465,
          36933.550357171465,
          36933.550357171465,
          36961.60657280856,
          36961.60657280856,
          36961.60657280856,
          36961.60657280856,
          36961.60657280856,
          36961.60657280856,
          36961.60657280856,
          36989.66278844566,
          36989.66278844566,
          36989.66278844566,
          36989.66278844566,
          36989.66278844566,
          36989.66278844566,
          36989.66278844566,
          36989.66278844566,
          36989.66278844566,
          37017.71900408276,
          37017.71900408276,
          37017.71900408276,
          37045.77521971986,
          37045.77521971986,
          37045.77521971986,
          37073.83143535696,
          37073.83143535696,
          37073.83143535696,
          37073.83143535696,
          37073.83143535696,
          37073.83143535696,
          37101.88765099406,
          37101.88765099406,
          37101.88765099406,
          37101.88765099406,
          37101.88765099406,
          37101.88765099406,
          37101.88765099406,
          37129.94386663116,
          37129.94386663116,
          37129.94386663116,
          37129.94386663116,
          37158.000082268256,
          37158.000082268256,
          37158.000082268256,
          37158.000082268256,
          37158.000082268256,
          37158.000082268256,
          37158.000082268256,
          37158.000082268256,
          37186.05629790536,
          37186.05629790536,
          37186.05629790536,
          37186.05629790536,
          37186.05629790536,
          37186.05629790536,
          37214.11251354246,
          37214.11251354246,
          37214.11251354246,
          37214.11251354246,
          37214.11251354246,
          37242.16872917955,
          37242.16872917955,
          37242.16872917955,
          37242.16872917955,
          37242.16872917955,
          37242.16872917955,
          37242.16872917955,
          37242.16872917955,
          37270.224944816655,
          37298.28116045376,
          37298.28116045376,
          37326.33737609086,
          37326.33737609086,
          37326.33737609086,
          37326.33737609086,
          37326.33737609086,
          37326.33737609086,
          37354.39359172795,
          37354.39359172795,
          37354.39359172795,
          37382.449807365054,
          37382.449807365054,
          37382.449807365054,
          37410.506023002155,
          37410.506023002155,
          37438.56223863925,
          37438.56223863925,
          37438.56223863925,
          37438.56223863925,
          37466.61845427635,
          37466.61845427635,
          37466.61845427635,
          37466.61845427635,
          37494.67466991345,
          37494.67466991345,
          37494.67466991345,
          37494.67466991345,
          37522.73088555055,
          37522.73088555055,
          37522.73088555055,
          37522.73088555055,
          37522.73088555055,
          37550.78710118765,
          37550.78710118765,
          37550.78710118765,
          37550.78710118765,
          37550.78710118765,
          37550.78710118765,
          37550.78710118765,
          37578.84331682475,
          37578.84331682475,
          37578.84331682475,
          37578.84331682475,
          37606.89953246185,
          37606.89953246185,
          37606.89953246185,
          37606.89953246185,
          37634.955748098946,
          37634.955748098946,
          37634.955748098946,
          37634.955748098946,
          37663.01196373605,
          37663.01196373605,
          37663.01196373605,
          37663.01196373605,
          37663.01196373605,
          37663.01196373605,
          37663.01196373605,
          37691.06817937315,
          37691.06817937315,
          37719.12439501024,
          37747.180610647345,
          37747.180610647345,
          37747.180610647345,
          37747.180610647345,
          37747.180610647345,
          37775.23682628445,
          37775.23682628445,
          37775.23682628445,
          37775.23682628445,
          37803.29304192154,
          37803.29304192154,
          37803.29304192154,
          37803.29304192154,
          37831.34925755864,
          37831.34925755864,
          37831.34925755864,
          37831.34925755864,
          37831.34925755864,
          37831.34925755864,
          37859.405473195744,
          37859.405473195744,
          37859.405473195744,
          37859.405473195744,
          37859.405473195744,
          37859.405473195744,
          37859.405473195744,
          37943.57412010704,
          37943.57412010704,
          37943.57412010704,
          37943.57412010704,
          37943.57412010704,
          37971.63033574414,
          37971.63033574414,
          37999.68655138124,
          38027.74276701834,
          38027.74276701834,
          38111.911413929636,
          38111.911413929636,
          38111.911413929636,
          38168.02384520384,
          38168.02384520384,
          38168.02384520384,
          38168.02384520384,
          38196.08006084093,
          38224.136276478035,
          38224.136276478035,
          38252.19249211514,
          38308.30492338933,
          38308.30492338933,
          38308.30492338933,
          38336.361139026434,
          38336.361139026434,
          38336.361139026434,
          38336.361139026434,
          38336.361139026434,
          38364.417354663536,
          38364.417354663536,
          38364.417354663536,
          38392.47357030063,
          38392.47357030063,
          38392.47357030063,
          38392.47357030063,
          38392.47357030063,
          38392.47357030063,
          38420.52978593773,
          38448.58600157483,
          38476.642217211935,
          38476.642217211935,
          38476.642217211935,
          38476.642217211935,
          38504.69843284903,
          38532.75464848613,
          38560.81086412323,
          38588.867079760326,
          38588.867079760326,
          38588.867079760326,
          38616.92329539743,
          38644.97951103453,
          38644.97951103453,
          38644.97951103453,
          38644.97951103453,
          38673.035726671624,
          38701.091942308725,
          38701.091942308725,
          38701.091942308725,
          38701.091942308725,
          38729.14815794583,
          38729.14815794583,
          38729.14815794583,
          38757.20437358293,
          38757.20437358293,
          38813.316804857124,
          38813.316804857124,
          38813.316804857124,
          38813.316804857124,
          38813.316804857124,
          38813.316804857124,
          38813.316804857124,
          38841.373020494226,
          38841.373020494226,
          38841.373020494226,
          38869.42923613132,
          38869.42923613132,
          38897.48545176842,
          38897.48545176842,
          38897.48545176842,
          38925.54166740552,
          38981.65409867972,
          39009.71031431682,
          39009.71031431682,
          39037.76652995392,
          39037.76652995392,
          39037.76652995392,
          39065.82274559102,
          39093.87896122812,
          39093.87896122812,
          39121.93517686522,
          39149.991392502314,
          39149.991392502314,
          39206.10382377652,
          39234.16003941362,
          39234.16003941362,
          39234.16003941362,
          39262.21625505071,
          39318.328686324916,
          39318.328686324916,
          39346.38490196201,
          39346.38490196201,
          39346.38490196201,
          39346.38490196201,
          39374.44111759911,
          39402.49733323621,
          39430.553548873315,
          39458.60976451041,
          39458.60976451041,
          39486.66598014751,
          39514.72219578461,
          39514.72219578461,
          39514.72219578461,
          39514.72219578461,
          39542.77841142171,
          39598.89084269591,
          39598.89084269591,
          39598.89084269591,
          39598.89084269591,
          39655.003273970106,
          39655.003273970106,
          39711.11570524431,
          39711.11570524431,
          39739.1719208814,
          39739.1719208814,
          39767.228136518504,
          39795.284352155606,
          39795.284352155606,
          39823.34056779271,
          39851.3967834298,
          39851.3967834298,
          39851.3967834298,
          39851.3967834298,
          39879.4529990669,
          39907.509214704005,
          39935.5654303411,
          39935.5654303411,
          39935.5654303411,
          39963.6216459782,
          39963.6216459782,
          40019.734077252404,
          40019.734077252404,
          40075.8465085266,
          40075.8465085266,
          40103.9027241637,
          40103.9027241637,
          40103.9027241637,
          40131.958939800796,
          40131.958939800796,
          40160.0151554379,
          40160.0151554379,
          40160.0151554379,
          40188.071371075,
          40188.071371075,
          40216.12758671209,
          40216.12758671209,
          40216.12758671209,
          40244.183802349195,
          40272.240017986296,
          40272.240017986296,
          40328.35244926049,
          40328.35244926049,
          40356.40866489759,
          40384.464880534695,
          40412.52109617179,
          40440.57731180889,
          40440.57731180889,
          40524.74595872019,
          40524.74595872019,
          40524.74595872019,
          40552.80217435729,
          40552.80217435729,
          40608.914605631486,
          40665.02703690569,
          40721.139468179885,
          40777.25189945409,
          40833.364330728284,
          40833.364330728284,
          40833.364330728284,
          40833.364330728284,
          40861.420546365385,
          40861.420546365385,
          40861.420546365385,
          40889.47676200248,
          40889.47676200248,
          40889.47676200248,
          40889.47676200248,
          40945.58919327668,
          41001.70162455088,
          41001.70162455088,
          41029.75784018798,
          41057.81405582508,
          41085.870271462176,
          41113.92648709928,
          41170.03891837348,
          41198.095134010575,
          41198.095134010575,
          41198.095134010575,
          41226.15134964768,
          41226.15134964768,
          41254.20756528478,
          41282.26378092187,
          41338.376212196075,
          41338.376212196075,
          41338.376212196075,
          41450.60107474447,
          41450.60107474447,
          41450.60107474447,
          41478.65729038157,
          41506.71350601867,
          41506.71350601867,
          41562.825937292866,
          41562.825937292866,
          41562.825937292866,
          41562.825937292866,
          41590.88215292997,
          41590.88215292997,
          41618.93836856707,
          41618.93836856707,
          41703.10701547837,
          41703.10701547837,
          41731.16323111547,
          41731.16323111547,
          41759.21944675256,
          41815.331878026765,
          41815.331878026765,
          41871.44430930096,
          42011.72538748646,
          42039.781603123556,
          42039.781603123556,
          42067.83781876066,
          42095.89403439776,
          42123.95025003486,
          42180.06268130906,
          42180.06268130906,
          42180.06268130906,
          42208.11889694616,
          42208.11889694616,
          42236.17511258325,
          42264.231328220354,
          42348.39997513165,
          42348.39997513165,
          42348.39997513165,
          42348.39997513165,
          42376.45619076875,
          42376.45619076875,
          42376.45619076875,
          42404.512406405855,
          42404.512406405855,
          42404.512406405855,
          42404.512406405855,
          42432.56862204295,
          42432.56862204295,
          42432.56862204295,
          42460.62483768005,
          42488.68105331715,
          42488.68105331715,
          42516.73726895425,
          42516.73726895425,
          42516.73726895425,
          42544.79348459135,
          42544.79348459135,
          42544.79348459135,
          42544.79348459135,
          42544.79348459135,
          42572.84970022845,
          42600.90591586555,
          42628.962131502645,
          42657.01834713975,
          42657.01834713975,
          42685.07456277685,
          42685.07456277685,
          42685.07456277685,
          42685.07456277685,
          42741.186994051044,
          42769.243209688146,
          42797.29942532524,
          42797.29942532524,
          42797.29942532524,
          42797.29942532524,
          42881.468072236545,
          42909.52428787364,
          42937.58050351074,
          42965.63671914784,
          43077.86158169624,
          43077.86158169624,
          43105.917797333335,
          43162.03022860754,
          43190.08644424463,
          43218.142659881734,
          43274.25509115594,
          43274.25509115594,
          43302.31130679303,
          43358.423738067235,
          43358.423738067235,
          43386.47995370433,
          43414.53616934143,
          43442.59238497853,
          43498.70481625273,
          43526.76103188983,
          43554.81724752693,
          43554.81724752693,
          43638.98589443823,
          43667.04211007533,
          43667.04211007533,
          43667.04211007533,
          43695.098325712424,
          43695.098325712424,
          43695.098325712424,
          43695.098325712424,
          43723.154541349526,
          43723.154541349526,
          43723.154541349526,
          43751.21075698662,
          43807.32318826082,
          43807.32318826082,
          43807.32318826082,
          43835.379403897925,
          43835.379403897925,
          43863.43561953503,
          43863.43561953503,
          43863.43561953503,
          43891.49183517212,
          43891.49183517212,
          43891.49183517212,
          43891.49183517212,
          43919.54805080922,
          43919.54805080922,
          43947.60426644632,
          44003.71669772052,
          44003.71669772052,
          44059.82912899472,
          44059.82912899472,
          44087.88534463182,
          44115.94156026892,
          44115.94156026892,
          44228.16642281732,
          44256.22263845441,
          44256.22263845441,
          44284.27885409151,
          44340.39128536571,
          44368.44750100281,
          44480.67236355121,
          44536.784794825406,
          44592.89722609961,
          44592.89722609961,
          44705.12208864801,
          44733.1783042851,
          44789.290735559305,
          44789.290735559305,
          44817.34695119641,
          44873.4593824706,
          44901.515598107704,
          44985.684245019,
          45013.7404606561,
          45013.7404606561,
          45041.7966762932,
          45097.90910756739,
          45125.965323204495,
          45154.021538841596,
          45210.1339701158,
          45266.246401389995,
          45266.246401389995,
          45294.30261702709,
          45322.35883266419,
          45322.35883266419,
          45322.35883266419,
          45322.35883266419,
          45378.471263938394,
          45406.527479575496,
          45434.58369521259,
          45434.58369521259,
          45546.80855776099,
          45546.80855776099,
          45630.97720467229,
          45687.08963594648,
          45687.08963594648,
          45743.202067220685,
          45771.25828285779,
          45855.426929769084,
          45911.53936104328,
          45967.65179231748,
          45995.70800795458,
          45995.70800795458,
          45995.70800795458,
          46051.82043922878,
          46051.82043922878,
          46079.876654865875,
          46079.876654865875,
          46079.876654865875,
          46107.93287050298,
          46107.93287050298,
          46107.93287050298,
          46135.98908614008,
          46192.101517414274,
          46220.157733051376,
          46220.157733051376,
          46220.157733051376,
          46220.157733051376,
          46220.157733051376,
          46304.32637996267,
          46304.32637996267,
          46304.32637996267,
          46332.382595599775,
          46332.382595599775,
          46332.382595599775,
          46360.438811236876,
          46360.438811236876,
          46388.49502687397,
          46444.607458148166,
          46472.66367378527,
          46472.66367378527,
          46500.71988942237,
          46500.71988942237,
          46500.71988942237,
          46500.71988942237,
          46556.83232069657,
          46584.88853633367,
          46584.88853633367,
          46584.88853633367,
          46612.94475197077,
          46612.94475197077,
          46612.94475197077,
          46641.00096760786,
          46641.00096760786,
          46669.057183244964,
          46697.113398882066,
          46781.28204579336,
          46809.338261430465,
          46865.45069270466,
          46865.45069270466,
          46865.45069270466,
          46865.45069270466,
          46865.45069270466,
          46893.50690834176,
          46893.50690834176,
          46921.56312397886,
          46977.67555525306,
          47005.73177089016,
          47061.84420216436,
          47117.95663343856,
          47117.95663343856,
          47117.95663343856,
          47146.012849075654,
          47146.012849075654,
          47202.12528034986,
          47202.12528034986,
          47202.12528034986,
          47230.18149598695,
          47258.23771162405,
          47342.40635853535,
          47342.40635853535,
          47370.46257417245,
          47398.518789809554,
          47398.518789809554,
          47426.57500544665,
          47426.57500544665,
          47426.57500544665,
          47426.57500544665,
          47482.68743672085,
          47482.68743672085,
          47510.74365235795,
          47538.79986799505,
          47566.85608363215,
          47566.85608363215,
          47594.91229926924,
          47594.91229926924,
          47594.91229926924,
          47707.13716181765,
          47735.19337745474,
          47819.36202436604,
          47819.36202436604,
          47847.41824000314,
          47875.474455640244,
          47875.474455640244,
          47903.530671277345,
          47903.530671277345,
          47903.530671277345,
          47959.64310255154,
          47959.64310255154,
          48071.86796509994,
          48071.86796509994,
          48071.86796509994,
          48071.86796509994,
          48071.86796509994,
          48071.86796509994,
          48099.924180737034,
          48156.03661201124,
          48156.03661201124,
          48240.205258922535,
          48240.205258922535,
          48296.31769019673,
          48436.59876838223,
          48492.71119965643,
          48548.82363093063,
          48576.879846567725,
          48604.936062204826,
          48604.936062204826,
          48604.936062204826,
          48661.04849347903,
          48717.160924753225,
          48745.21714039033,
          48773.27335602742,
          48801.32957166452,
          48801.32957166452,
          48801.32957166452,
          48829.385787301624,
          48857.442002938726,
          48885.49821857582,
          48885.49821857582,
          48913.55443421292,
          48913.55443421292,
          48913.55443421292,
          48969.66686548712,
          48997.72308112422,
          49053.83551239842,
          49109.94794367262,
          49166.060374946814,
          49166.060374946814,
          49166.060374946814,
          49194.116590583915,
          49194.116590583915,
          49194.116590583915,
          49194.116590583915,
          49418.56631568071,
          49502.73496259201,
          49502.73496259201,
          49530.791178229105,
          49586.90360950331,
          49586.90360950331,
          49643.016040777504,
          49699.12847205171,
          49727.1846876888,
          49755.2409033259,
          49783.297118963004,
          49811.353334600106,
          49839.4095502372,
          49839.4095502372,
          49951.6344127856,
          49979.6906284227,
          50148.027922245295,
          50176.0841378824,
          50176.0841378824,
          50176.0841378824,
          50232.19656915659,
          50232.19656915659,
          50260.252784793694,
          50260.252784793694,
          50288.30900043079,
          50288.30900043079,
          50428.59007861629,
          50568.87115680179,
          50596.927372438884,
          50653.03980371309,
          50709.15223498728,
          50709.15223498728,
          50737.208450624385,
          50737.208450624385,
          50765.264666261486,
          50793.32088189858,
          50793.32088189858,
          50793.32088189858,
          50905.54574444698,
          50961.65817572118,
          51045.82682263248,
          51045.82682263248,
          51073.883038269574,
          51101.939253906676,
          51129.99546954378,
          51129.99546954378,
          51129.99546954378,
          51129.99546954378,
          51158.05168518088,
          51158.05168518088,
          51186.10790081797,
          51270.27654772927,
          51410.55762591477,
          51410.55762591477,
          51410.55762591477,
          51438.613841551865,
          51438.613841551865,
          51522.78248846317,
          51635.00735101156,
          51663.06356664866,
          51691.119782285765,
          51719.17599792287,
          51775.28842919706,
          51831.40086047126,
          51859.45707610836,
          51887.51329174546,
          51943.625723019664,
          51971.68193865676,
          51971.68193865676,
          51971.68193865676,
          51971.68193865676,
          51971.68193865676,
          52027.794369930954,
          52027.794369930954,
          52027.794369930954,
          52083.90680120516,
          52111.96301684226,
          52140.01923247936,
          52140.01923247936,
          52140.01923247936,
          52196.13166375355,
          52224.18787939065,
          52420.58138885035,
          52616.97489831004,
          52645.031113947145,
          52701.14354522135,
          52729.19976085844,
          52757.255976495544,
          52785.31219213264,
          52813.36840776974,
          52813.36840776974,
          52841.42462340684,
          52841.42462340684,
          52841.42462340684,
          52869.48083904394,
          52897.537054681045,
          52953.64948595524,
          52953.64948595524,
          52981.705701592335,
          53290.32407360044,
          53290.32407360044,
          53290.32407360044,
          53290.32407360044,
          53318.38028923753,
          53346.436504874626,
          53374.49272051173,
          53374.49272051173,
          53486.71758306013,
          53486.71758306013,
          53486.71758306013,
          53514.77379869723,
          53514.77379869723,
          53542.83001433432,
          53542.83001433432,
          53570.886229971424,
          53598.942445608525,
          53598.942445608525,
          53767.27973943112,
          53963.67324889082,
          54019.78568016502,
          54047.84189580212,
          54047.84189580212,
          54103.95432707632,
          54132.01054271341,
          54160.06675835051,
          54160.06675835051,
          54160.06675835051,
          54188.122973987614,
          54188.122973987614,
          54272.29162089891,
          54300.34783653601,
          54328.40405217311,
          54356.46026781021,
          54384.51648344731,
          54384.51648344731,
          54412.57269908441,
          54440.628914721514,
          54440.628914721514,
          54665.078639818305,
          54721.1910710925,
          54721.1910710925,
          54833.41593364091,
          54889.528364915095,
          54917.5845805522,
          55001.7532274635,
          55029.809443100596,
          55057.8656587377,
          55198.1467369232,
          55282.31538383449,
          55310.37159947159,
          55310.37159947159,
          55310.37159947159,
          55338.42781510869,
          55366.48403074579,
          55366.48403074579,
          55394.540246382894,
          55394.540246382894,
          55422.59646201999,
          55450.65267765709,
          55450.65267765709,
          55478.708893294184,
          55478.708893294184,
          55506.765108931286,
          55506.765108931286,
          55534.82132456839,
          55534.82132456839,
          55562.87754020549,
          55562.87754020549,
          55590.93375584259,
          55618.989971479685,
          55871.49591221358,
          55899.55212785068,
          55899.55212785068,
          55927.60834348778,
          55927.60834348778,
          55927.60834348778,
          55983.72077476198,
          56039.83320603617,
          56180.11428422168,
          56208.170499858774,
          56236.22671549587,
          56236.22671549587,
          56320.39536240717,
          56376.50779368137,
          56404.56400931847,
          56460.676440592666,
          56488.73265622977,
          56544.84508750397,
          56544.84508750397,
          56572.901303141065,
          56629.01373441526,
          56713.182381326566,
          56741.23859696367,
          56769.29481260076,
          56769.29481260076,
          56797.35102823786,
          56797.35102823786,
          56825.40724387496,
          57049.856968971755,
          57105.96940024596,
          57105.96940024596,
          57190.13804715725,
          57190.13804715725,
          57218.19426279435,
          57218.19426279435,
          57246.25047843145,
          57246.25047843145,
          57274.30669406855,
          57274.30669406855,
          57274.30669406855,
          57330.419125342756,
          57330.419125342756,
          57330.419125342756,
          57358.47534097985,
          57414.587772254046,
          57442.64398789115,
          57470.70020352825,
          57554.86885043955,
          57554.86885043955,
          57667.093712987946,
          57723.20614426214,
          57723.20614426214,
          57779.31857553634,
          57779.31857553634,
          57835.43100681054,
          57863.48722244764,
          57891.543438084744,
          57919.59965372184,
          57947.65586935894,
          57947.65586935894,
          57975.712084996034,
          57975.712084996034,
          58059.88073190734,
          58059.88073190734,
          58059.88073190734,
          58115.993163181534,
          58115.993163181534,
          58115.993163181534,
          58312.38667264123,
          58340.44288827833,
          58340.44288827833,
          58368.49910391543,
          58396.55531955253,
          58396.55531955253,
          58424.61153518963,
          58508.78018210093,
          58564.89261337512,
          58621.005044649326,
          58649.06126028643,
          58677.11747592353,
          58789.34233847192,
          58817.39855410902,
          58929.623416657414,
          59041.84827920582,
          59069.904494842915,
          59069.904494842915,
          59097.960710480016,
          59097.960710480016,
          59097.960710480016,
          59126.01692611711,
          59182.12935739131,
          59322.41043557681,
          59322.41043557681,
          59322.41043557681,
          59350.46665121391,
          59406.57908248811,
          59462.69151376231,
          59490.74772939941,
          59490.74772939941,
          59574.916376310706,
          59574.916376310706,
          59631.02880758491,
          59715.1974544962,
          59715.1974544962,
          59715.1974544962,
          59715.1974544962,
          59771.3098857704,
          59911.590963955896,
          59911.590963955896,
          59939.647179593,
          59995.7596108672,
          60023.8158265043,
          60051.8720421414,
          60079.92825777849,
          60079.92825777849,
          60192.1531203269,
          60220.20933596399,
          60220.20933596399,
          60248.26555160109,
          60276.32176723819,
          60276.32176723819,
          60276.32176723819,
          60276.32176723819,
          60276.32176723819,
          60304.37798287529,
          60332.43419851239,
          60388.54662978659,
          60388.54662978659,
          60416.60284542369,
          60416.60284542369,
          60416.60284542369,
          60444.65906106079,
          60444.65906106079,
          60444.65906106079,
          60472.71527669788,
          60500.771492334985,
          60584.94013924629,
          60612.996354883384,
          60641.052570520485,
          60669.10878615758,
          60697.16500179468,
          60921.61472689148,
          60949.67094252858,
          60949.67094252858,
          61005.78337380278,
          61005.78337380278,
          61005.78337380278,
          61005.78337380278,
          61005.78337380278,
          61033.83958943987,
          61061.89580507697,
          61061.89580507697,
          61118.008236351176,
          61230.23309889957,
          61258.28931453667,
          61286.34553017377,
          61314.40174581087,
          61314.40174581087,
          61342.45796144797,
          61426.62660835926,
          61426.62660835926,
          61482.73903963347,
          61510.79525527057,
          61510.79525527057,
          61566.907686544764,
          61707.188764730265,
          61819.413627278656,
          61819.413627278656,
          61819.413627278656,
          61903.58227418996,
          61903.58227418996,
          61903.58227418996,
          61931.63848982706,
          61987.75092110126,
          62015.80713673835,
          62015.80713673835,
          62043.863352375454,
          62071.919568012556,
          62099.97578364966,
          62128.03199928676,
          62128.03199928676,
          62156.08821492385,
          62156.08821492385,
          62212.20064619805,
          62212.20064619805,
          62240.25686183515,
          62268.31307747225,
          62268.31307747225,
          62296.369293109354,
          62352.48172438355,
          62352.48172438355,
          62352.48172438355,
          62352.48172438355,
          62352.48172438355,
          62408.594155657745,
          62408.594155657745,
          62492.76280256905,
          62492.76280256905,
          62492.76280256905,
          62492.76280256905,
          62520.81901820615,
          62576.93144948034,
          62604.98766511744,
          62689.15631202875,
          62717.21252766584,
          62745.26874330294,
          62745.26874330294,
          62745.26874330294,
          62801.38117457714,
          62829.43739021424,
          62885.54982148844,
          62885.54982148844,
          62997.774684036835,
          63053.88711531104,
          63053.88711531104,
          63053.88711531104,
          63053.88711531104,
          63109.99954658523,
          63138.055762222335,
          63138.055762222335,
          63166.11197785943,
          63166.11197785943,
          63194.16819349653,
          63250.280624770734,
          63250.280624770734,
          63278.336840407836,
          63362.505487319126,
          63390.56170295623,
          63474.73034986753,
          63558.89899677882,
          63586.95521241592,
          63586.95521241592,
          63615.011428053025,
          63615.011428053025,
          63699.18007496432,
          63755.29250623852,
          63783.34872187562,
          63783.34872187562,
          63811.40493751272,
          63839.46115314982,
          63839.46115314982,
          63951.686015698215,
          63951.686015698215,
          63951.686015698215,
          63951.686015698215,
          63979.742231335316,
          63979.742231335316,
          63979.742231335316,
          64091.967093883715,
          64120.02330952081,
          64148.07952515791,
          64204.191956432114,
          64232.248172069216,
          64260.30438770631,
          64288.36060334341,
          64344.47303461761,
          64372.52925025471,
          64372.52925025471,
          64400.58546589181,
          64400.58546589181,
          64484.75411280311,
          64484.75411280311,
          64512.8103284402,
          64512.8103284402,
          64709.2038378999,
          64765.3162691741,
          64765.3162691741,
          64821.428700448305,
          64821.428700448305,
          64821.428700448305,
          64849.4849160854,
          64849.4849160854,
          64877.54113172249,
          64905.597347359595,
          64933.6535629967,
          65017.822209908,
          65045.878425545096,
          65073.93464118219,
          65073.93464118219,
          65158.103288093494,
          65214.21571936769,
          65242.27193500479,
          65270.328150641886,
          65326.44058191609,
          65382.55301319029,
          65410.60922882739,
          65438.66544446449,
          65494.777875738684,
          65522.834091375786,
          65578.94652264999,
          65578.94652264999,
          65607.00273828709,
          65607.00273828709,
          65607.00273828709,
          65635.05895392419,
          65691.17138519838,
          65691.17138519838,
          65747.28381647258,
          65747.28381647258,
          65803.39624774677,
          65859.50867902098,
          65859.50867902098,
          65859.50867902098,
          65887.56489465808,
          65887.56489465808,
          65915.62111029518,
          65915.62111029518,
          65943.67732593228,
          65971.73354156938,
          65999.78975720648,
          66083.95840411777,
          66168.12705102908,
          66196.18326666616,
          66252.29569794037,
          66308.40812921457,
          66308.40812921457,
          66392.57677612588,
          66392.57677612588,
          66420.63299176296,
          66476.74542303717,
          66532.85785431137,
          66588.97028558556,
          66588.97028558556,
          66617.02650122266,
          66673.13893249686,
          66701.19514813396,
          66785.36379504527,
          66813.42001068236,
          66813.42001068236,
          66897.58865759366,
          66925.64487323076,
          66981.75730450495,
          67037.86973577915,
          67037.86973577915,
          67122.03838269046,
          67150.09459832756,
          67178.15081396466,
          67206.20702960175,
          67206.20702960175,
          67206.20702960175,
          67206.20702960175,
          67234.26324523885,
          67234.26324523885,
          67262.31946087595,
          67290.37567651305,
          67290.37567651305,
          67374.54432342434,
          67402.60053906144,
          67402.60053906144,
          67430.65675469855,
          67430.65675469855,
          67430.65675469855,
          67458.71297033565,
          67486.76918597275,
          67542.88161724695,
          67542.88161724695,
          67655.10647979534,
          67711.21891106953,
          67739.27512670663,
          67739.27512670663,
          67767.33134234374,
          67767.33134234374,
          67767.33134234374,
          67823.44377361794,
          67879.55620489214,
          67879.55620489214,
          67907.61242052924,
          67907.61242052924,
          67907.61242052924,
          67935.66863616635,
          68019.83728307764,
          68019.83728307764,
          68047.89349871474,
          68047.89349871474,
          68047.89349871474,
          68075.94971435182,
          68075.94971435182,
          68132.06214562603,
          68132.06214562603,
          68216.23079253733,
          68272.34322381153,
          68300.39943944864,
          68300.39943944864,
          68328.45565508574,
          68356.51187072284,
          68384.56808635993,
          68412.62430199703,
          68412.62430199703,
          68440.68051763413,
          68468.73673327122,
          68524.84916454542,
          68524.84916454542,
          68580.96159581962,
          68580.96159581962,
          68580.96159581962,
          68580.96159581962,
          68580.96159581962,
          68609.01781145672,
          68861.52375219061,
          68917.63618346481,
          68945.69239910191,
          68945.69239910191,
          69001.80483037612,
          69001.80483037612,
          69057.91726165032,
          69057.91726165032,
          69085.97347728742,
          69114.02969292452,
          69198.19833983581,
          69366.53563365841,
          69366.53563365841,
          69422.64806493261,
          69450.70428056971,
          69478.76049620681,
          69478.76049620681,
          69506.81671184392,
          69534.872927481,
          69590.9853587552,
          69590.9853587552,
          69675.1540056665,
          69759.3226525778,
          69787.3788682149,
          69787.3788682149,
          69815.435083852,
          69871.5475151262,
          69871.5475151262,
          69899.6037307633,
          70039.88480894879,
          70039.88480894879,
          70039.88480894879,
          70124.05345586009,
          70124.05345586009,
          70264.3345340456,
          70320.44696531979,
          70404.61561223108,
          70432.67182786818,
          70572.95290605369,
          70601.00912169079,
          70657.12155296499,
          70713.23398423918,
          70797.40263115047,
          70881.57127806178,
          70909.62749369888,
          70937.68370933598,
          70937.68370933598,
          70965.73992497308,
          71049.90857188437,
          71106.02100315857,
          71134.07721879568,
          71134.07721879568,
          71190.18965006986,
          71246.30208134407,
          71302.41451261827,
          71386.58315952957,
          71582.97666898926,
          71582.97666898926,
          71639.08910026346,
          71639.08910026346,
          71807.42639408607,
          71807.42639408607,
          71835.48260972316,
          71863.53882536026,
          71863.53882536026,
          71863.53882536026,
          71947.70747227155,
          71975.76368790865,
          71975.76368790865,
          71975.76368790865,
          72087.98855045706,
          72087.98855045706,
          72200.21341300546,
          72312.43827555384,
          72396.60692246514,
          72396.60692246514,
          72424.66313810225,
          72452.71935373935,
          72452.71935373935,
          72508.83178501355,
          72508.83178501355,
          72508.83178501355,
          72508.83178501355,
          72593.00043192484,
          72705.22529447323,
          72733.28151011033,
          72789.39394138454,
          72789.39394138454,
          73210.23717594103,
          73210.23717594103,
          73238.29339157813,
          73266.34960721523,
          73294.40582285234,
          73294.40582285234,
          73294.40582285234,
          73294.40582285234,
          73322.46203848944,
          73406.63068540073,
          73434.68690103783,
          73434.68690103783,
          73434.68690103783,
          73518.85554794912,
          73546.91176358622,
          73574.96797922332,
          73574.96797922332,
          73603.02419486042,
          73631.08041049753,
          73659.13662613463,
          73687.19284177173,
          73715.24905740883,
          73743.30527304592,
          73743.30527304592,
          73771.36148868302,
          73771.36148868302,
          73827.47391995722,
          73911.64256686851,
          73967.75499814271,
          74023.86742941692,
          74108.03607632822,
          74136.09229196531,
          74248.3171545137,
          74276.3733701508,
          74276.3733701508,
          74528.8793108847,
          74669.1603890702,
          74697.2166047073,
          74893.610114167,
          74921.6663298041,
          75005.83497671538,
          75033.89119235249,
          75033.89119235249,
          75061.94740798959,
          75230.2847018122,
          75230.2847018122,
          75314.45334872349,
          75314.45334872349,
          75370.56577999769,
          75370.56577999769,
          75426.67821127188,
          75454.73442690898,
          75454.73442690898,
          75454.73442690898,
          75510.84685818318,
          75623.07172073159,
          75735.29658327998,
          75735.29658327998,
          75791.40901455417,
          75819.46523019127,
          75903.63387710258,
          75959.74630837678,
          75959.74630837678,
          76043.91495528808,
          76240.30846474777,
          76268.36468038487,
          76324.47711165907,
          76408.64575857038,
          76408.64575857038,
          76436.70197420746,
          76436.70197420746,
          76436.70197420746,
          76464.75818984456,
          76548.92683675585,
          76548.92683675585,
          76576.98305239296,
          76633.09548366716,
          76773.37656185267,
          76857.54520876396,
          76913.65764003815,
          76913.65764003815,
          76969.77007131235,
          76969.77007131235,
          77081.99493386075,
          77110.05114949786,
          77166.16358077206,
          77250.33222768335,
          77250.33222768335,
          77278.38844332045,
          77362.55709023174,
          77362.55709023174,
          77390.61330586884,
          77418.66952150594,
          77474.78195278015,
          77558.95059969145,
          77755.34410915113,
          77783.40032478824,
          77783.40032478824,
          77839.51275606244,
          77867.56897169954,
          77867.56897169954,
          77923.68140297374,
          77979.79383424793,
          78063.96248115924,
          78063.96248115924,
          78120.07491243343,
          78120.07491243343,
          78176.18734370763,
          78176.18734370763,
          78288.41220625603,
          78597.03057826412,
          78597.03057826412,
          78793.42408772382,
          78849.53651899801,
          78849.53651899801,
          78849.53651899801,
          78877.59273463511,
          78905.64895027221,
          79073.98624409482,
          79073.98624409482,
          79102.04245973192,
          79130.09867536901,
          79130.09867536901,
          79130.09867536901,
          79130.09867536901,
          79130.09867536901,
          79158.15489100611,
          79186.21110664321,
          79298.4359691916,
          79326.4921848287,
          79466.77326301421,
          79466.77326301421,
          79494.82947865131,
          79522.8856942884,
          79522.8856942884,
          79747.3354193852,
          79775.3916350223,
          79803.4478506594,
          79803.4478506594,
          79859.5602819336,
          79859.5602819336,
          79943.7289288449,
          80084.01000703039,
          80168.1786539417,
          80196.2348695788,
          80280.40351649009,
          80280.40351649009,
          80308.45973212719,
          80336.51594776429,
          80336.51594776429,
          80448.74081031268,
          80504.85324158688,
          80617.07810413529,
          80729.30296668368,
          80729.30296668368,
          80729.30296668368,
          80785.41539795787,
          80785.41539795787,
          80841.52782923207,
          80925.69647614338,
          80925.69647614338,
          81065.97755432887,
          81094.03376996597,
          81262.37106378857,
          81262.37106378857,
          81290.42727942567,
          81402.65214197407,
          81486.82078888536,
          81486.82078888536,
          81599.04565143376,
          81599.04565143376,
          81683.21429834506,
          81823.49537653055,
          81879.60780780476,
          81879.60780780476,
          81935.72023907895,
          81991.83267035315,
          82019.88888599025,
          82019.88888599025,
          82047.94510162735,
          82076.00131726445,
          82104.05753290156,
          82160.16996417576,
          82244.33861108705,
          82272.39482672415,
          82328.50725799834,
          82384.61968927254,
          82384.61968927254,
          82412.67590490964,
          82468.78833618385,
          82524.90076745805,
          82693.23806128063,
          82721.29427691773,
          82833.51913946614,
          82973.80021765163,
          83142.13751147423,
          83282.41858965973,
          83282.41858965973,
          83282.41858965973,
          83338.53102093394,
          83338.53102093394,
          83422.69966784523,
          83422.69966784523,
          83506.86831475652,
          83506.86831475652,
          83619.09317730492,
          83647.14939294202,
          83675.20560857913,
          83731.31803985333,
          83871.59911803881,
          84067.99262749852,
          84152.16127440981,
          84180.21749004691,
          84264.3861369582,
          84376.6109995066,
          84516.8920776921,
          84685.2293715147,
          84853.5666653373,
          84881.6228809744,
          84965.7915278857,
          84965.7915278857,
          85162.18503734539,
          85246.3536842567,
          85330.52233116799,
          85386.63476244218,
          85414.69097807928,
          85583.02827190189,
          85583.02827190189,
          85695.25313445028,
          85807.47799699867,
          85891.64664390997,
          85919.70285954708,
          86031.92772209548,
          86088.04015336967,
          86172.20880028096,
          86200.26501591806,
          86256.37744719227,
          86284.43366282937,
          86396.65852537777,
          86452.77095665196,
          86957.78283811975,
          86957.78283811975,
          86957.78283811975,
          87210.28877885365,
          87210.28877885365,
          87350.56985703914,
          87406.68228831334,
          87434.73850395044,
          87995.86281669243,
          88080.03146360372,
          88136.14389487793,
          88248.36875742633,
          88304.48118870053,
          88332.53740433764,
          88500.87469816022,
          88556.98712943442,
          88556.98712943442,
          88781.43685453122,
          88809.49307016832,
          88809.49307016832,
          88809.49307016832,
          88865.60550144251,
          88921.71793271671,
          88921.71793271671,
          88949.77414835381,
          89118.1114421764,
          89146.16765781351,
          89174.22387345061,
          89426.72981418451,
          89595.06710800709,
          89847.573048741,
          89875.6292643781,
          89875.6292643781,
          89875.6292643781,
          89903.68548001519,
          89903.68548001519,
          90184.2476363862,
          90801.48438040237,
          90829.54059603947,
          91250.38383059597,
          91306.49626187017,
          91306.49626187017,
          91334.55247750727,
          91446.77734005566,
          91587.05841824115,
          92035.95786843475,
          92288.46380916864,
          92400.68867171704,
          92540.96974990255,
          92569.02596553965,
          92737.36325936223,
          93017.92541573323,
          93158.20649391873,
          93242.37514083003,
          93494.88108156392,
          93522.93729720102,
          93550.99351283812,
          93579.04972847522,
          93635.16215974942,
          93663.21837538652,
          93663.21837538652,
          94280.4551194027,
          94280.4551194027,
          94336.5675506769,
          94420.73619758821,
          94617.12970704789,
          94617.12970704789,
          94729.3545695963,
          95374.64752924957,
          95486.87239179798,
          96524.95237037065,
          96945.79560492715,
          97001.90803620135,
          97170.24533002396,
          97563.03234894335,
          98152.21287732242,
          98292.49395550793,
          98909.73069952411,
          99021.95556207252,
          99555.0236591774,
          99555.0236591774,
          100789.49714720977,
          100873.66579412107,
          100957.83444103238,
          103426.78141709713,
          104717.3673364037,
          105783.50353061348,
          105811.55974625057,
          105811.55974625057
         ],
         "yaxis": "y"
        }
       ],
       "layout": {
        "legend": {
         "tracegroupgap": 0
        },
        "template": {
         "data": {
          "bar": [
           {
            "error_x": {
             "color": "#2a3f5f"
            },
            "error_y": {
             "color": "#2a3f5f"
            },
            "marker": {
             "line": {
              "color": "#E5ECF6",
              "width": 0.5
             },
             "pattern": {
              "fillmode": "overlay",
              "size": 10,
              "solidity": 0.2
             }
            },
            "type": "bar"
           }
          ],
          "barpolar": [
           {
            "marker": {
             "line": {
              "color": "#E5ECF6",
              "width": 0.5
             },
             "pattern": {
              "fillmode": "overlay",
              "size": 10,
              "solidity": 0.2
             }
            },
            "type": "barpolar"
           }
          ],
          "carpet": [
           {
            "aaxis": {
             "endlinecolor": "#2a3f5f",
             "gridcolor": "white",
             "linecolor": "white",
             "minorgridcolor": "white",
             "startlinecolor": "#2a3f5f"
            },
            "baxis": {
             "endlinecolor": "#2a3f5f",
             "gridcolor": "white",
             "linecolor": "white",
             "minorgridcolor": "white",
             "startlinecolor": "#2a3f5f"
            },
            "type": "carpet"
           }
          ],
          "choropleth": [
           {
            "colorbar": {
             "outlinewidth": 0,
             "ticks": ""
            },
            "type": "choropleth"
           }
          ],
          "contour": [
           {
            "colorbar": {
             "outlinewidth": 0,
             "ticks": ""
            },
            "colorscale": [
             [
              0,
              "#0d0887"
             ],
             [
              0.1111111111111111,
              "#46039f"
             ],
             [
              0.2222222222222222,
              "#7201a8"
             ],
             [
              0.3333333333333333,
              "#9c179e"
             ],
             [
              0.4444444444444444,
              "#bd3786"
             ],
             [
              0.5555555555555556,
              "#d8576b"
             ],
             [
              0.6666666666666666,
              "#ed7953"
             ],
             [
              0.7777777777777778,
              "#fb9f3a"
             ],
             [
              0.8888888888888888,
              "#fdca26"
             ],
             [
              1,
              "#f0f921"
             ]
            ],
            "type": "contour"
           }
          ],
          "contourcarpet": [
           {
            "colorbar": {
             "outlinewidth": 0,
             "ticks": ""
            },
            "type": "contourcarpet"
           }
          ],
          "heatmap": [
           {
            "colorbar": {
             "outlinewidth": 0,
             "ticks": ""
            },
            "colorscale": [
             [
              0,
              "#0d0887"
             ],
             [
              0.1111111111111111,
              "#46039f"
             ],
             [
              0.2222222222222222,
              "#7201a8"
             ],
             [
              0.3333333333333333,
              "#9c179e"
             ],
             [
              0.4444444444444444,
              "#bd3786"
             ],
             [
              0.5555555555555556,
              "#d8576b"
             ],
             [
              0.6666666666666666,
              "#ed7953"
             ],
             [
              0.7777777777777778,
              "#fb9f3a"
             ],
             [
              0.8888888888888888,
              "#fdca26"
             ],
             [
              1,
              "#f0f921"
             ]
            ],
            "type": "heatmap"
           }
          ],
          "heatmapgl": [
           {
            "colorbar": {
             "outlinewidth": 0,
             "ticks": ""
            },
            "colorscale": [
             [
              0,
              "#0d0887"
             ],
             [
              0.1111111111111111,
              "#46039f"
             ],
             [
              0.2222222222222222,
              "#7201a8"
             ],
             [
              0.3333333333333333,
              "#9c179e"
             ],
             [
              0.4444444444444444,
              "#bd3786"
             ],
             [
              0.5555555555555556,
              "#d8576b"
             ],
             [
              0.6666666666666666,
              "#ed7953"
             ],
             [
              0.7777777777777778,
              "#fb9f3a"
             ],
             [
              0.8888888888888888,
              "#fdca26"
             ],
             [
              1,
              "#f0f921"
             ]
            ],
            "type": "heatmapgl"
           }
          ],
          "histogram": [
           {
            "marker": {
             "pattern": {
              "fillmode": "overlay",
              "size": 10,
              "solidity": 0.2
             }
            },
            "type": "histogram"
           }
          ],
          "histogram2d": [
           {
            "colorbar": {
             "outlinewidth": 0,
             "ticks": ""
            },
            "colorscale": [
             [
              0,
              "#0d0887"
             ],
             [
              0.1111111111111111,
              "#46039f"
             ],
             [
              0.2222222222222222,
              "#7201a8"
             ],
             [
              0.3333333333333333,
              "#9c179e"
             ],
             [
              0.4444444444444444,
              "#bd3786"
             ],
             [
              0.5555555555555556,
              "#d8576b"
             ],
             [
              0.6666666666666666,
              "#ed7953"
             ],
             [
              0.7777777777777778,
              "#fb9f3a"
             ],
             [
              0.8888888888888888,
              "#fdca26"
             ],
             [
              1,
              "#f0f921"
             ]
            ],
            "type": "histogram2d"
           }
          ],
          "histogram2dcontour": [
           {
            "colorbar": {
             "outlinewidth": 0,
             "ticks": ""
            },
            "colorscale": [
             [
              0,
              "#0d0887"
             ],
             [
              0.1111111111111111,
              "#46039f"
             ],
             [
              0.2222222222222222,
              "#7201a8"
             ],
             [
              0.3333333333333333,
              "#9c179e"
             ],
             [
              0.4444444444444444,
              "#bd3786"
             ],
             [
              0.5555555555555556,
              "#d8576b"
             ],
             [
              0.6666666666666666,
              "#ed7953"
             ],
             [
              0.7777777777777778,
              "#fb9f3a"
             ],
             [
              0.8888888888888888,
              "#fdca26"
             ],
             [
              1,
              "#f0f921"
             ]
            ],
            "type": "histogram2dcontour"
           }
          ],
          "mesh3d": [
           {
            "colorbar": {
             "outlinewidth": 0,
             "ticks": ""
            },
            "type": "mesh3d"
           }
          ],
          "parcoords": [
           {
            "line": {
             "colorbar": {
              "outlinewidth": 0,
              "ticks": ""
             }
            },
            "type": "parcoords"
           }
          ],
          "pie": [
           {
            "automargin": true,
            "type": "pie"
           }
          ],
          "scatter": [
           {
            "marker": {
             "colorbar": {
              "outlinewidth": 0,
              "ticks": ""
             }
            },
            "type": "scatter"
           }
          ],
          "scatter3d": [
           {
            "line": {
             "colorbar": {
              "outlinewidth": 0,
              "ticks": ""
             }
            },
            "marker": {
             "colorbar": {
              "outlinewidth": 0,
              "ticks": ""
             }
            },
            "type": "scatter3d"
           }
          ],
          "scattercarpet": [
           {
            "marker": {
             "colorbar": {
              "outlinewidth": 0,
              "ticks": ""
             }
            },
            "type": "scattercarpet"
           }
          ],
          "scattergeo": [
           {
            "marker": {
             "colorbar": {
              "outlinewidth": 0,
              "ticks": ""
             }
            },
            "type": "scattergeo"
           }
          ],
          "scattergl": [
           {
            "marker": {
             "colorbar": {
              "outlinewidth": 0,
              "ticks": ""
             }
            },
            "type": "scattergl"
           }
          ],
          "scattermapbox": [
           {
            "marker": {
             "colorbar": {
              "outlinewidth": 0,
              "ticks": ""
             }
            },
            "type": "scattermapbox"
           }
          ],
          "scatterpolar": [
           {
            "marker": {
             "colorbar": {
              "outlinewidth": 0,
              "ticks": ""
             }
            },
            "type": "scatterpolar"
           }
          ],
          "scatterpolargl": [
           {
            "marker": {
             "colorbar": {
              "outlinewidth": 0,
              "ticks": ""
             }
            },
            "type": "scatterpolargl"
           }
          ],
          "scatterternary": [
           {
            "marker": {
             "colorbar": {
              "outlinewidth": 0,
              "ticks": ""
             }
            },
            "type": "scatterternary"
           }
          ],
          "surface": [
           {
            "colorbar": {
             "outlinewidth": 0,
             "ticks": ""
            },
            "colorscale": [
             [
              0,
              "#0d0887"
             ],
             [
              0.1111111111111111,
              "#46039f"
             ],
             [
              0.2222222222222222,
              "#7201a8"
             ],
             [
              0.3333333333333333,
              "#9c179e"
             ],
             [
              0.4444444444444444,
              "#bd3786"
             ],
             [
              0.5555555555555556,
              "#d8576b"
             ],
             [
              0.6666666666666666,
              "#ed7953"
             ],
             [
              0.7777777777777778,
              "#fb9f3a"
             ],
             [
              0.8888888888888888,
              "#fdca26"
             ],
             [
              1,
              "#f0f921"
             ]
            ],
            "type": "surface"
           }
          ],
          "table": [
           {
            "cells": {
             "fill": {
              "color": "#EBF0F8"
             },
             "line": {
              "color": "white"
             }
            },
            "header": {
             "fill": {
              "color": "#C8D4E3"
             },
             "line": {
              "color": "white"
             }
            },
            "type": "table"
           }
          ]
         },
         "layout": {
          "annotationdefaults": {
           "arrowcolor": "#2a3f5f",
           "arrowhead": 0,
           "arrowwidth": 1
          },
          "autotypenumbers": "strict",
          "coloraxis": {
           "colorbar": {
            "outlinewidth": 0,
            "ticks": ""
           }
          },
          "colorscale": {
           "diverging": [
            [
             0,
             "#8e0152"
            ],
            [
             0.1,
             "#c51b7d"
            ],
            [
             0.2,
             "#de77ae"
            ],
            [
             0.3,
             "#f1b6da"
            ],
            [
             0.4,
             "#fde0ef"
            ],
            [
             0.5,
             "#f7f7f7"
            ],
            [
             0.6,
             "#e6f5d0"
            ],
            [
             0.7,
             "#b8e186"
            ],
            [
             0.8,
             "#7fbc41"
            ],
            [
             0.9,
             "#4d9221"
            ],
            [
             1,
             "#276419"
            ]
           ],
           "sequential": [
            [
             0,
             "#0d0887"
            ],
            [
             0.1111111111111111,
             "#46039f"
            ],
            [
             0.2222222222222222,
             "#7201a8"
            ],
            [
             0.3333333333333333,
             "#9c179e"
            ],
            [
             0.4444444444444444,
             "#bd3786"
            ],
            [
             0.5555555555555556,
             "#d8576b"
            ],
            [
             0.6666666666666666,
             "#ed7953"
            ],
            [
             0.7777777777777778,
             "#fb9f3a"
            ],
            [
             0.8888888888888888,
             "#fdca26"
            ],
            [
             1,
             "#f0f921"
            ]
           ],
           "sequentialminus": [
            [
             0,
             "#0d0887"
            ],
            [
             0.1111111111111111,
             "#46039f"
            ],
            [
             0.2222222222222222,
             "#7201a8"
            ],
            [
             0.3333333333333333,
             "#9c179e"
            ],
            [
             0.4444444444444444,
             "#bd3786"
            ],
            [
             0.5555555555555556,
             "#d8576b"
            ],
            [
             0.6666666666666666,
             "#ed7953"
            ],
            [
             0.7777777777777778,
             "#fb9f3a"
            ],
            [
             0.8888888888888888,
             "#fdca26"
            ],
            [
             1,
             "#f0f921"
            ]
           ]
          },
          "colorway": [
           "#636efa",
           "#EF553B",
           "#00cc96",
           "#ab63fa",
           "#FFA15A",
           "#19d3f3",
           "#FF6692",
           "#B6E880",
           "#FF97FF",
           "#FECB52"
          ],
          "font": {
           "color": "#2a3f5f"
          },
          "geo": {
           "bgcolor": "white",
           "lakecolor": "white",
           "landcolor": "#E5ECF6",
           "showlakes": true,
           "showland": true,
           "subunitcolor": "white"
          },
          "hoverlabel": {
           "align": "left"
          },
          "hovermode": "closest",
          "mapbox": {
           "style": "light"
          },
          "paper_bgcolor": "white",
          "plot_bgcolor": "#E5ECF6",
          "polar": {
           "angularaxis": {
            "gridcolor": "white",
            "linecolor": "white",
            "ticks": ""
           },
           "bgcolor": "#E5ECF6",
           "radialaxis": {
            "gridcolor": "white",
            "linecolor": "white",
            "ticks": ""
           }
          },
          "scene": {
           "xaxis": {
            "backgroundcolor": "#E5ECF6",
            "gridcolor": "white",
            "gridwidth": 2,
            "linecolor": "white",
            "showbackground": true,
            "ticks": "",
            "zerolinecolor": "white"
           },
           "yaxis": {
            "backgroundcolor": "#E5ECF6",
            "gridcolor": "white",
            "gridwidth": 2,
            "linecolor": "white",
            "showbackground": true,
            "ticks": "",
            "zerolinecolor": "white"
           },
           "zaxis": {
            "backgroundcolor": "#E5ECF6",
            "gridcolor": "white",
            "gridwidth": 2,
            "linecolor": "white",
            "showbackground": true,
            "ticks": "",
            "zerolinecolor": "white"
           }
          },
          "shapedefaults": {
           "line": {
            "color": "#2a3f5f"
           }
          },
          "ternary": {
           "aaxis": {
            "gridcolor": "white",
            "linecolor": "white",
            "ticks": ""
           },
           "baxis": {
            "gridcolor": "white",
            "linecolor": "white",
            "ticks": ""
           },
           "bgcolor": "#E5ECF6",
           "caxis": {
            "gridcolor": "white",
            "linecolor": "white",
            "ticks": ""
           }
          },
          "title": {
           "x": 0.05
          },
          "xaxis": {
           "automargin": true,
           "gridcolor": "white",
           "linecolor": "white",
           "ticks": "",
           "title": {
            "standoff": 15
           },
           "zerolinecolor": "white",
           "zerolinewidth": 2
          },
          "yaxis": {
           "automargin": true,
           "gridcolor": "white",
           "linecolor": "white",
           "ticks": "",
           "title": {
            "standoff": 15
           },
           "zerolinecolor": "white",
           "zerolinewidth": 2
          }
         }
        },
        "title": {
         "text": "Correlation Total Spending and Annual Income"
        },
        "xaxis": {
         "anchor": "y",
         "domain": [
          0,
          1
         ],
         "title": {
          "text": "Total_spending"
         }
        },
        "yaxis": {
         "anchor": "x",
         "domain": [
          0,
          1
         ],
         "title": {
          "text": "Income"
         }
        }
       }
      }
     },
     "metadata": {},
     "output_type": "display_data"
    }
   ],
   "source": [
    "#df = px.data.tips()\n",
    "fig = px.scatter(data, x=\"Total_spending\", y=\"Income\",title= \"Correlation Total Spending and Annual Income\", trendline= 'ols')\n",
    "fig.show()"
   ]
  },
  {
   "cell_type": "markdown",
   "metadata": {},
   "source": [
    "Total_spending seems to be positively correlated with the income level"
   ]
  },
  {
   "cell_type": "markdown",
   "metadata": {},
   "source": [
    "###  c. education distribution by marital status\n"
   ]
  },
  {
   "cell_type": "code",
   "execution_count": 20,
   "metadata": {
    "scrolled": true
   },
   "outputs": [
    {
     "name": "stdout",
     "output_type": "stream",
     "text": [
      "   Marital_Status   Education  Counts\n",
      "0        Divorced    2n Cycle      28\n",
      "1        Divorced       Basic       2\n",
      "2        Divorced  Graduation     154\n",
      "3        Divorced      Master      49\n",
      "4        Divorced         PhD      76\n",
      "5         Married    2n Cycle     138\n",
      "6         Married       Basic      34\n",
      "7         Married  Graduation     718\n",
      "8         Married      Master     244\n",
      "9         Married         PhD     309\n",
      "10         Single    2n Cycle      37\n",
      "11         Single       Basic      18\n",
      "12         Single  Graduation     254\n",
      "13         Single      Master      77\n",
      "14         Single         PhD     101\n"
     ]
    },
    {
     "data": {
      "application/vnd.plotly.v1+json": {
       "config": {
        "plotlyServerURL": "https://plot.ly"
       },
       "data": [
        {
         "alignmentgroup": "True",
         "hovertemplate": "Education=%{text}<br>Marital_Status=%{x}<br>Counts=%{y}<extra></extra>",
         "legendgroup": "2n Cycle",
         "marker": {
          "color": "#636efa",
          "pattern": {
           "shape": ""
          }
         },
         "name": "2n Cycle",
         "offsetgroup": "2n Cycle",
         "orientation": "v",
         "showlegend": true,
         "text": [
          "2n Cycle",
          "2n Cycle",
          "2n Cycle"
         ],
         "textposition": "auto",
         "type": "bar",
         "x": [
          "Divorced",
          "Married",
          "Single"
         ],
         "xaxis": "x",
         "y": [
          28,
          138,
          37
         ],
         "yaxis": "y"
        },
        {
         "alignmentgroup": "True",
         "hovertemplate": "Education=%{text}<br>Marital_Status=%{x}<br>Counts=%{y}<extra></extra>",
         "legendgroup": "Basic",
         "marker": {
          "color": "#EF553B",
          "pattern": {
           "shape": ""
          }
         },
         "name": "Basic",
         "offsetgroup": "Basic",
         "orientation": "v",
         "showlegend": true,
         "text": [
          "Basic",
          "Basic",
          "Basic"
         ],
         "textposition": "auto",
         "type": "bar",
         "x": [
          "Divorced",
          "Married",
          "Single"
         ],
         "xaxis": "x",
         "y": [
          2,
          34,
          18
         ],
         "yaxis": "y"
        },
        {
         "alignmentgroup": "True",
         "hovertemplate": "Education=%{text}<br>Marital_Status=%{x}<br>Counts=%{y}<extra></extra>",
         "legendgroup": "Graduation",
         "marker": {
          "color": "#00cc96",
          "pattern": {
           "shape": ""
          }
         },
         "name": "Graduation",
         "offsetgroup": "Graduation",
         "orientation": "v",
         "showlegend": true,
         "text": [
          "Graduation",
          "Graduation",
          "Graduation"
         ],
         "textposition": "auto",
         "type": "bar",
         "x": [
          "Divorced",
          "Married",
          "Single"
         ],
         "xaxis": "x",
         "y": [
          154,
          718,
          254
         ],
         "yaxis": "y"
        },
        {
         "alignmentgroup": "True",
         "hovertemplate": "Education=%{text}<br>Marital_Status=%{x}<br>Counts=%{y}<extra></extra>",
         "legendgroup": "Master",
         "marker": {
          "color": "#ab63fa",
          "pattern": {
           "shape": ""
          }
         },
         "name": "Master",
         "offsetgroup": "Master",
         "orientation": "v",
         "showlegend": true,
         "text": [
          "Master",
          "Master",
          "Master"
         ],
         "textposition": "auto",
         "type": "bar",
         "x": [
          "Divorced",
          "Married",
          "Single"
         ],
         "xaxis": "x",
         "y": [
          49,
          244,
          77
         ],
         "yaxis": "y"
        },
        {
         "alignmentgroup": "True",
         "hovertemplate": "Education=%{text}<br>Marital_Status=%{x}<br>Counts=%{y}<extra></extra>",
         "legendgroup": "PhD",
         "marker": {
          "color": "#FFA15A",
          "pattern": {
           "shape": ""
          }
         },
         "name": "PhD",
         "offsetgroup": "PhD",
         "orientation": "v",
         "showlegend": true,
         "text": [
          "PhD",
          "PhD",
          "PhD"
         ],
         "textposition": "auto",
         "type": "bar",
         "x": [
          "Divorced",
          "Married",
          "Single"
         ],
         "xaxis": "x",
         "y": [
          76,
          309,
          101
         ],
         "yaxis": "y"
        }
       ],
       "layout": {
        "barmode": "relative",
        "legend": {
         "title": {
          "text": "Education"
         },
         "tracegroupgap": 0
        },
        "margin": {
         "t": 60
        },
        "template": {
         "data": {
          "bar": [
           {
            "error_x": {
             "color": "#2a3f5f"
            },
            "error_y": {
             "color": "#2a3f5f"
            },
            "marker": {
             "line": {
              "color": "#E5ECF6",
              "width": 0.5
             },
             "pattern": {
              "fillmode": "overlay",
              "size": 10,
              "solidity": 0.2
             }
            },
            "type": "bar"
           }
          ],
          "barpolar": [
           {
            "marker": {
             "line": {
              "color": "#E5ECF6",
              "width": 0.5
             },
             "pattern": {
              "fillmode": "overlay",
              "size": 10,
              "solidity": 0.2
             }
            },
            "type": "barpolar"
           }
          ],
          "carpet": [
           {
            "aaxis": {
             "endlinecolor": "#2a3f5f",
             "gridcolor": "white",
             "linecolor": "white",
             "minorgridcolor": "white",
             "startlinecolor": "#2a3f5f"
            },
            "baxis": {
             "endlinecolor": "#2a3f5f",
             "gridcolor": "white",
             "linecolor": "white",
             "minorgridcolor": "white",
             "startlinecolor": "#2a3f5f"
            },
            "type": "carpet"
           }
          ],
          "choropleth": [
           {
            "colorbar": {
             "outlinewidth": 0,
             "ticks": ""
            },
            "type": "choropleth"
           }
          ],
          "contour": [
           {
            "colorbar": {
             "outlinewidth": 0,
             "ticks": ""
            },
            "colorscale": [
             [
              0,
              "#0d0887"
             ],
             [
              0.1111111111111111,
              "#46039f"
             ],
             [
              0.2222222222222222,
              "#7201a8"
             ],
             [
              0.3333333333333333,
              "#9c179e"
             ],
             [
              0.4444444444444444,
              "#bd3786"
             ],
             [
              0.5555555555555556,
              "#d8576b"
             ],
             [
              0.6666666666666666,
              "#ed7953"
             ],
             [
              0.7777777777777778,
              "#fb9f3a"
             ],
             [
              0.8888888888888888,
              "#fdca26"
             ],
             [
              1,
              "#f0f921"
             ]
            ],
            "type": "contour"
           }
          ],
          "contourcarpet": [
           {
            "colorbar": {
             "outlinewidth": 0,
             "ticks": ""
            },
            "type": "contourcarpet"
           }
          ],
          "heatmap": [
           {
            "colorbar": {
             "outlinewidth": 0,
             "ticks": ""
            },
            "colorscale": [
             [
              0,
              "#0d0887"
             ],
             [
              0.1111111111111111,
              "#46039f"
             ],
             [
              0.2222222222222222,
              "#7201a8"
             ],
             [
              0.3333333333333333,
              "#9c179e"
             ],
             [
              0.4444444444444444,
              "#bd3786"
             ],
             [
              0.5555555555555556,
              "#d8576b"
             ],
             [
              0.6666666666666666,
              "#ed7953"
             ],
             [
              0.7777777777777778,
              "#fb9f3a"
             ],
             [
              0.8888888888888888,
              "#fdca26"
             ],
             [
              1,
              "#f0f921"
             ]
            ],
            "type": "heatmap"
           }
          ],
          "heatmapgl": [
           {
            "colorbar": {
             "outlinewidth": 0,
             "ticks": ""
            },
            "colorscale": [
             [
              0,
              "#0d0887"
             ],
             [
              0.1111111111111111,
              "#46039f"
             ],
             [
              0.2222222222222222,
              "#7201a8"
             ],
             [
              0.3333333333333333,
              "#9c179e"
             ],
             [
              0.4444444444444444,
              "#bd3786"
             ],
             [
              0.5555555555555556,
              "#d8576b"
             ],
             [
              0.6666666666666666,
              "#ed7953"
             ],
             [
              0.7777777777777778,
              "#fb9f3a"
             ],
             [
              0.8888888888888888,
              "#fdca26"
             ],
             [
              1,
              "#f0f921"
             ]
            ],
            "type": "heatmapgl"
           }
          ],
          "histogram": [
           {
            "marker": {
             "pattern": {
              "fillmode": "overlay",
              "size": 10,
              "solidity": 0.2
             }
            },
            "type": "histogram"
           }
          ],
          "histogram2d": [
           {
            "colorbar": {
             "outlinewidth": 0,
             "ticks": ""
            },
            "colorscale": [
             [
              0,
              "#0d0887"
             ],
             [
              0.1111111111111111,
              "#46039f"
             ],
             [
              0.2222222222222222,
              "#7201a8"
             ],
             [
              0.3333333333333333,
              "#9c179e"
             ],
             [
              0.4444444444444444,
              "#bd3786"
             ],
             [
              0.5555555555555556,
              "#d8576b"
             ],
             [
              0.6666666666666666,
              "#ed7953"
             ],
             [
              0.7777777777777778,
              "#fb9f3a"
             ],
             [
              0.8888888888888888,
              "#fdca26"
             ],
             [
              1,
              "#f0f921"
             ]
            ],
            "type": "histogram2d"
           }
          ],
          "histogram2dcontour": [
           {
            "colorbar": {
             "outlinewidth": 0,
             "ticks": ""
            },
            "colorscale": [
             [
              0,
              "#0d0887"
             ],
             [
              0.1111111111111111,
              "#46039f"
             ],
             [
              0.2222222222222222,
              "#7201a8"
             ],
             [
              0.3333333333333333,
              "#9c179e"
             ],
             [
              0.4444444444444444,
              "#bd3786"
             ],
             [
              0.5555555555555556,
              "#d8576b"
             ],
             [
              0.6666666666666666,
              "#ed7953"
             ],
             [
              0.7777777777777778,
              "#fb9f3a"
             ],
             [
              0.8888888888888888,
              "#fdca26"
             ],
             [
              1,
              "#f0f921"
             ]
            ],
            "type": "histogram2dcontour"
           }
          ],
          "mesh3d": [
           {
            "colorbar": {
             "outlinewidth": 0,
             "ticks": ""
            },
            "type": "mesh3d"
           }
          ],
          "parcoords": [
           {
            "line": {
             "colorbar": {
              "outlinewidth": 0,
              "ticks": ""
             }
            },
            "type": "parcoords"
           }
          ],
          "pie": [
           {
            "automargin": true,
            "type": "pie"
           }
          ],
          "scatter": [
           {
            "marker": {
             "colorbar": {
              "outlinewidth": 0,
              "ticks": ""
             }
            },
            "type": "scatter"
           }
          ],
          "scatter3d": [
           {
            "line": {
             "colorbar": {
              "outlinewidth": 0,
              "ticks": ""
             }
            },
            "marker": {
             "colorbar": {
              "outlinewidth": 0,
              "ticks": ""
             }
            },
            "type": "scatter3d"
           }
          ],
          "scattercarpet": [
           {
            "marker": {
             "colorbar": {
              "outlinewidth": 0,
              "ticks": ""
             }
            },
            "type": "scattercarpet"
           }
          ],
          "scattergeo": [
           {
            "marker": {
             "colorbar": {
              "outlinewidth": 0,
              "ticks": ""
             }
            },
            "type": "scattergeo"
           }
          ],
          "scattergl": [
           {
            "marker": {
             "colorbar": {
              "outlinewidth": 0,
              "ticks": ""
             }
            },
            "type": "scattergl"
           }
          ],
          "scattermapbox": [
           {
            "marker": {
             "colorbar": {
              "outlinewidth": 0,
              "ticks": ""
             }
            },
            "type": "scattermapbox"
           }
          ],
          "scatterpolar": [
           {
            "marker": {
             "colorbar": {
              "outlinewidth": 0,
              "ticks": ""
             }
            },
            "type": "scatterpolar"
           }
          ],
          "scatterpolargl": [
           {
            "marker": {
             "colorbar": {
              "outlinewidth": 0,
              "ticks": ""
             }
            },
            "type": "scatterpolargl"
           }
          ],
          "scatterternary": [
           {
            "marker": {
             "colorbar": {
              "outlinewidth": 0,
              "ticks": ""
             }
            },
            "type": "scatterternary"
           }
          ],
          "surface": [
           {
            "colorbar": {
             "outlinewidth": 0,
             "ticks": ""
            },
            "colorscale": [
             [
              0,
              "#0d0887"
             ],
             [
              0.1111111111111111,
              "#46039f"
             ],
             [
              0.2222222222222222,
              "#7201a8"
             ],
             [
              0.3333333333333333,
              "#9c179e"
             ],
             [
              0.4444444444444444,
              "#bd3786"
             ],
             [
              0.5555555555555556,
              "#d8576b"
             ],
             [
              0.6666666666666666,
              "#ed7953"
             ],
             [
              0.7777777777777778,
              "#fb9f3a"
             ],
             [
              0.8888888888888888,
              "#fdca26"
             ],
             [
              1,
              "#f0f921"
             ]
            ],
            "type": "surface"
           }
          ],
          "table": [
           {
            "cells": {
             "fill": {
              "color": "#EBF0F8"
             },
             "line": {
              "color": "white"
             }
            },
            "header": {
             "fill": {
              "color": "#C8D4E3"
             },
             "line": {
              "color": "white"
             }
            },
            "type": "table"
           }
          ]
         },
         "layout": {
          "annotationdefaults": {
           "arrowcolor": "#2a3f5f",
           "arrowhead": 0,
           "arrowwidth": 1
          },
          "autotypenumbers": "strict",
          "coloraxis": {
           "colorbar": {
            "outlinewidth": 0,
            "ticks": ""
           }
          },
          "colorscale": {
           "diverging": [
            [
             0,
             "#8e0152"
            ],
            [
             0.1,
             "#c51b7d"
            ],
            [
             0.2,
             "#de77ae"
            ],
            [
             0.3,
             "#f1b6da"
            ],
            [
             0.4,
             "#fde0ef"
            ],
            [
             0.5,
             "#f7f7f7"
            ],
            [
             0.6,
             "#e6f5d0"
            ],
            [
             0.7,
             "#b8e186"
            ],
            [
             0.8,
             "#7fbc41"
            ],
            [
             0.9,
             "#4d9221"
            ],
            [
             1,
             "#276419"
            ]
           ],
           "sequential": [
            [
             0,
             "#0d0887"
            ],
            [
             0.1111111111111111,
             "#46039f"
            ],
            [
             0.2222222222222222,
             "#7201a8"
            ],
            [
             0.3333333333333333,
             "#9c179e"
            ],
            [
             0.4444444444444444,
             "#bd3786"
            ],
            [
             0.5555555555555556,
             "#d8576b"
            ],
            [
             0.6666666666666666,
             "#ed7953"
            ],
            [
             0.7777777777777778,
             "#fb9f3a"
            ],
            [
             0.8888888888888888,
             "#fdca26"
            ],
            [
             1,
             "#f0f921"
            ]
           ],
           "sequentialminus": [
            [
             0,
             "#0d0887"
            ],
            [
             0.1111111111111111,
             "#46039f"
            ],
            [
             0.2222222222222222,
             "#7201a8"
            ],
            [
             0.3333333333333333,
             "#9c179e"
            ],
            [
             0.4444444444444444,
             "#bd3786"
            ],
            [
             0.5555555555555556,
             "#d8576b"
            ],
            [
             0.6666666666666666,
             "#ed7953"
            ],
            [
             0.7777777777777778,
             "#fb9f3a"
            ],
            [
             0.8888888888888888,
             "#fdca26"
            ],
            [
             1,
             "#f0f921"
            ]
           ]
          },
          "colorway": [
           "#636efa",
           "#EF553B",
           "#00cc96",
           "#ab63fa",
           "#FFA15A",
           "#19d3f3",
           "#FF6692",
           "#B6E880",
           "#FF97FF",
           "#FECB52"
          ],
          "font": {
           "color": "#2a3f5f"
          },
          "geo": {
           "bgcolor": "white",
           "lakecolor": "white",
           "landcolor": "#E5ECF6",
           "showlakes": true,
           "showland": true,
           "subunitcolor": "white"
          },
          "hoverlabel": {
           "align": "left"
          },
          "hovermode": "closest",
          "mapbox": {
           "style": "light"
          },
          "paper_bgcolor": "white",
          "plot_bgcolor": "#E5ECF6",
          "polar": {
           "angularaxis": {
            "gridcolor": "white",
            "linecolor": "white",
            "ticks": ""
           },
           "bgcolor": "#E5ECF6",
           "radialaxis": {
            "gridcolor": "white",
            "linecolor": "white",
            "ticks": ""
           }
          },
          "scene": {
           "xaxis": {
            "backgroundcolor": "#E5ECF6",
            "gridcolor": "white",
            "gridwidth": 2,
            "linecolor": "white",
            "showbackground": true,
            "ticks": "",
            "zerolinecolor": "white"
           },
           "yaxis": {
            "backgroundcolor": "#E5ECF6",
            "gridcolor": "white",
            "gridwidth": 2,
            "linecolor": "white",
            "showbackground": true,
            "ticks": "",
            "zerolinecolor": "white"
           },
           "zaxis": {
            "backgroundcolor": "#E5ECF6",
            "gridcolor": "white",
            "gridwidth": 2,
            "linecolor": "white",
            "showbackground": true,
            "ticks": "",
            "zerolinecolor": "white"
           }
          },
          "shapedefaults": {
           "line": {
            "color": "#2a3f5f"
           }
          },
          "ternary": {
           "aaxis": {
            "gridcolor": "white",
            "linecolor": "white",
            "ticks": ""
           },
           "baxis": {
            "gridcolor": "white",
            "linecolor": "white",
            "ticks": ""
           },
           "bgcolor": "#E5ECF6",
           "caxis": {
            "gridcolor": "white",
            "linecolor": "white",
            "ticks": ""
           }
          },
          "title": {
           "x": 0.05
          },
          "xaxis": {
           "automargin": true,
           "gridcolor": "white",
           "linecolor": "white",
           "ticks": "",
           "title": {
            "standoff": 15
           },
           "zerolinecolor": "white",
           "zerolinewidth": 2
          },
          "yaxis": {
           "automargin": true,
           "gridcolor": "white",
           "linecolor": "white",
           "ticks": "",
           "title": {
            "standoff": 15
           },
           "zerolinecolor": "white",
           "zerolinewidth": 2
          }
         }
        },
        "xaxis": {
         "anchor": "y",
         "domain": [
          0,
          1
         ],
         "title": {
          "text": "Marital_Status"
         }
        },
        "yaxis": {
         "anchor": "x",
         "domain": [
          0,
          1
         ],
         "title": {
          "text": "Counts"
         }
        }
       }
      }
     },
     "metadata": {},
     "output_type": "display_data"
    }
   ],
   "source": [
    "edubymar= data.groupby(['Marital_Status','Education']).size().reset_index()\n",
    "edubymar.rename(columns = {0:'Counts'}, inplace = True)\n",
    "print(edubymar)\n",
    "\n",
    "fig = px.bar(edubymar, x=\"Marital_Status\", y=\"Counts\", color=\"Education\", text=\"Education\")\n",
    "fig.show()"
   ]
  },
  {
   "cell_type": "markdown",
   "metadata": {},
   "source": []
  },
  {
   "cell_type": "markdown",
   "metadata": {},
   "source": [
    "###  d. Percentage of total Sales from Products\n"
   ]
  },
  {
   "cell_type": "code",
   "execution_count": 21,
   "metadata": {},
   "outputs": [
    {
     "data": {
      "text/html": [
       "<div>\n",
       "<style scoped>\n",
       "    .dataframe tbody tr th:only-of-type {\n",
       "        vertical-align: middle;\n",
       "    }\n",
       "\n",
       "    .dataframe tbody tr th {\n",
       "        vertical-align: top;\n",
       "    }\n",
       "\n",
       "    .dataframe thead th {\n",
       "        text-align: right;\n",
       "    }\n",
       "</style>\n",
       "<table border=\"1\" class=\"dataframe\">\n",
       "  <thead>\n",
       "    <tr style=\"text-align: right;\">\n",
       "      <th></th>\n",
       "      <th>Product</th>\n",
       "      <th>Sales</th>\n",
       "    </tr>\n",
       "  </thead>\n",
       "  <tbody>\n",
       "    <tr>\n",
       "      <th>0</th>\n",
       "      <td>MntWines</td>\n",
       "      <td>680807</td>\n",
       "    </tr>\n",
       "    <tr>\n",
       "      <th>2</th>\n",
       "      <td>MntMeatProducts</td>\n",
       "      <td>373950</td>\n",
       "    </tr>\n",
       "    <tr>\n",
       "      <th>5</th>\n",
       "      <td>MntGoldProds</td>\n",
       "      <td>98597</td>\n",
       "    </tr>\n",
       "    <tr>\n",
       "      <th>3</th>\n",
       "      <td>MntFishProducts</td>\n",
       "      <td>84049</td>\n",
       "    </tr>\n",
       "    <tr>\n",
       "      <th>4</th>\n",
       "      <td>MntSweetProducts</td>\n",
       "      <td>60620</td>\n",
       "    </tr>\n",
       "    <tr>\n",
       "      <th>1</th>\n",
       "      <td>MntFruits</td>\n",
       "      <td>58903</td>\n",
       "    </tr>\n",
       "  </tbody>\n",
       "</table>\n",
       "</div>"
      ],
      "text/plain": [
       "            Product   Sales\n",
       "0          MntWines  680807\n",
       "2   MntMeatProducts  373950\n",
       "5      MntGoldProds   98597\n",
       "3   MntFishProducts   84049\n",
       "4  MntSweetProducts   60620\n",
       "1         MntFruits   58903"
      ]
     },
     "execution_count": 21,
     "metadata": {},
     "output_type": "execute_result"
    }
   ],
   "source": [
    "products=['MntWines', 'MntFruits', 'MntMeatProducts', 'MntFishProducts', 'MntSweetProducts', 'MntGoldProds']\n",
    "# Total_Sales= data['Total_spending'].sum()\n",
    "product_sales=[]\n",
    "\n",
    "for i in products:\n",
    "    sales= data[i].sum()\n",
    "    product_sales.append(sales)\n",
    "\n",
    "Prod_sales= pd.DataFrame({'Product':products, 'Sales':product_sales})\n",
    "Prod_sales.sort_values('Sales',ascending= False)\n"
   ]
  },
  {
   "cell_type": "code",
   "execution_count": 22,
   "metadata": {},
   "outputs": [
    {
     "data": {
      "application/vnd.plotly.v1+json": {
       "config": {
        "plotlyServerURL": "https://plot.ly"
       },
       "data": [
        {
         "domain": {
          "x": [
           0,
           1
          ],
          "y": [
           0,
           1
          ]
         },
         "hole": 0.65,
         "hovertemplate": "Total Sales($): %{value}",
         "labels": [
          "MntWines",
          "MntFruits",
          "MntMeatProducts",
          "MntFishProducts",
          "MntSweetProducts",
          "MntGoldProds"
         ],
         "legendgroup": "",
         "marker": {
          "colors": [
           "#dd4124",
           "#009473",
           "#336b87",
           "#b4b4b4"
          ],
          "line": {
           "color": "white",
           "width": 2
          }
         },
         "name": "",
         "showlegend": true,
         "textinfo": "percent+label",
         "textposition": "inside",
         "type": "pie",
         "values": [
          680807,
          58903,
          373950,
          84049,
          60620,
          98597
         ]
        }
       ],
       "layout": {
        "annotations": [
         {
          "font": {
           "color": "black",
           "family": "monospace",
           "size": 14
          },
          "showarrow": false,
          "text": "Percentage of total Sales from Products",
          "x": 0.5,
          "y": 0.5
         }
        ],
        "height": 700,
        "legend": {
         "tracegroupgap": 0
        },
        "margin": {
         "t": 60
        },
        "showlegend": false,
        "template": {
         "data": {
          "bar": [
           {
            "error_x": {
             "color": "#2a3f5f"
            },
            "error_y": {
             "color": "#2a3f5f"
            },
            "marker": {
             "line": {
              "color": "#E5ECF6",
              "width": 0.5
             },
             "pattern": {
              "fillmode": "overlay",
              "size": 10,
              "solidity": 0.2
             }
            },
            "type": "bar"
           }
          ],
          "barpolar": [
           {
            "marker": {
             "line": {
              "color": "#E5ECF6",
              "width": 0.5
             },
             "pattern": {
              "fillmode": "overlay",
              "size": 10,
              "solidity": 0.2
             }
            },
            "type": "barpolar"
           }
          ],
          "carpet": [
           {
            "aaxis": {
             "endlinecolor": "#2a3f5f",
             "gridcolor": "white",
             "linecolor": "white",
             "minorgridcolor": "white",
             "startlinecolor": "#2a3f5f"
            },
            "baxis": {
             "endlinecolor": "#2a3f5f",
             "gridcolor": "white",
             "linecolor": "white",
             "minorgridcolor": "white",
             "startlinecolor": "#2a3f5f"
            },
            "type": "carpet"
           }
          ],
          "choropleth": [
           {
            "colorbar": {
             "outlinewidth": 0,
             "ticks": ""
            },
            "type": "choropleth"
           }
          ],
          "contour": [
           {
            "colorbar": {
             "outlinewidth": 0,
             "ticks": ""
            },
            "colorscale": [
             [
              0,
              "#0d0887"
             ],
             [
              0.1111111111111111,
              "#46039f"
             ],
             [
              0.2222222222222222,
              "#7201a8"
             ],
             [
              0.3333333333333333,
              "#9c179e"
             ],
             [
              0.4444444444444444,
              "#bd3786"
             ],
             [
              0.5555555555555556,
              "#d8576b"
             ],
             [
              0.6666666666666666,
              "#ed7953"
             ],
             [
              0.7777777777777778,
              "#fb9f3a"
             ],
             [
              0.8888888888888888,
              "#fdca26"
             ],
             [
              1,
              "#f0f921"
             ]
            ],
            "type": "contour"
           }
          ],
          "contourcarpet": [
           {
            "colorbar": {
             "outlinewidth": 0,
             "ticks": ""
            },
            "type": "contourcarpet"
           }
          ],
          "heatmap": [
           {
            "colorbar": {
             "outlinewidth": 0,
             "ticks": ""
            },
            "colorscale": [
             [
              0,
              "#0d0887"
             ],
             [
              0.1111111111111111,
              "#46039f"
             ],
             [
              0.2222222222222222,
              "#7201a8"
             ],
             [
              0.3333333333333333,
              "#9c179e"
             ],
             [
              0.4444444444444444,
              "#bd3786"
             ],
             [
              0.5555555555555556,
              "#d8576b"
             ],
             [
              0.6666666666666666,
              "#ed7953"
             ],
             [
              0.7777777777777778,
              "#fb9f3a"
             ],
             [
              0.8888888888888888,
              "#fdca26"
             ],
             [
              1,
              "#f0f921"
             ]
            ],
            "type": "heatmap"
           }
          ],
          "heatmapgl": [
           {
            "colorbar": {
             "outlinewidth": 0,
             "ticks": ""
            },
            "colorscale": [
             [
              0,
              "#0d0887"
             ],
             [
              0.1111111111111111,
              "#46039f"
             ],
             [
              0.2222222222222222,
              "#7201a8"
             ],
             [
              0.3333333333333333,
              "#9c179e"
             ],
             [
              0.4444444444444444,
              "#bd3786"
             ],
             [
              0.5555555555555556,
              "#d8576b"
             ],
             [
              0.6666666666666666,
              "#ed7953"
             ],
             [
              0.7777777777777778,
              "#fb9f3a"
             ],
             [
              0.8888888888888888,
              "#fdca26"
             ],
             [
              1,
              "#f0f921"
             ]
            ],
            "type": "heatmapgl"
           }
          ],
          "histogram": [
           {
            "marker": {
             "pattern": {
              "fillmode": "overlay",
              "size": 10,
              "solidity": 0.2
             }
            },
            "type": "histogram"
           }
          ],
          "histogram2d": [
           {
            "colorbar": {
             "outlinewidth": 0,
             "ticks": ""
            },
            "colorscale": [
             [
              0,
              "#0d0887"
             ],
             [
              0.1111111111111111,
              "#46039f"
             ],
             [
              0.2222222222222222,
              "#7201a8"
             ],
             [
              0.3333333333333333,
              "#9c179e"
             ],
             [
              0.4444444444444444,
              "#bd3786"
             ],
             [
              0.5555555555555556,
              "#d8576b"
             ],
             [
              0.6666666666666666,
              "#ed7953"
             ],
             [
              0.7777777777777778,
              "#fb9f3a"
             ],
             [
              0.8888888888888888,
              "#fdca26"
             ],
             [
              1,
              "#f0f921"
             ]
            ],
            "type": "histogram2d"
           }
          ],
          "histogram2dcontour": [
           {
            "colorbar": {
             "outlinewidth": 0,
             "ticks": ""
            },
            "colorscale": [
             [
              0,
              "#0d0887"
             ],
             [
              0.1111111111111111,
              "#46039f"
             ],
             [
              0.2222222222222222,
              "#7201a8"
             ],
             [
              0.3333333333333333,
              "#9c179e"
             ],
             [
              0.4444444444444444,
              "#bd3786"
             ],
             [
              0.5555555555555556,
              "#d8576b"
             ],
             [
              0.6666666666666666,
              "#ed7953"
             ],
             [
              0.7777777777777778,
              "#fb9f3a"
             ],
             [
              0.8888888888888888,
              "#fdca26"
             ],
             [
              1,
              "#f0f921"
             ]
            ],
            "type": "histogram2dcontour"
           }
          ],
          "mesh3d": [
           {
            "colorbar": {
             "outlinewidth": 0,
             "ticks": ""
            },
            "type": "mesh3d"
           }
          ],
          "parcoords": [
           {
            "line": {
             "colorbar": {
              "outlinewidth": 0,
              "ticks": ""
             }
            },
            "type": "parcoords"
           }
          ],
          "pie": [
           {
            "automargin": true,
            "type": "pie"
           }
          ],
          "scatter": [
           {
            "marker": {
             "colorbar": {
              "outlinewidth": 0,
              "ticks": ""
             }
            },
            "type": "scatter"
           }
          ],
          "scatter3d": [
           {
            "line": {
             "colorbar": {
              "outlinewidth": 0,
              "ticks": ""
             }
            },
            "marker": {
             "colorbar": {
              "outlinewidth": 0,
              "ticks": ""
             }
            },
            "type": "scatter3d"
           }
          ],
          "scattercarpet": [
           {
            "marker": {
             "colorbar": {
              "outlinewidth": 0,
              "ticks": ""
             }
            },
            "type": "scattercarpet"
           }
          ],
          "scattergeo": [
           {
            "marker": {
             "colorbar": {
              "outlinewidth": 0,
              "ticks": ""
             }
            },
            "type": "scattergeo"
           }
          ],
          "scattergl": [
           {
            "marker": {
             "colorbar": {
              "outlinewidth": 0,
              "ticks": ""
             }
            },
            "type": "scattergl"
           }
          ],
          "scattermapbox": [
           {
            "marker": {
             "colorbar": {
              "outlinewidth": 0,
              "ticks": ""
             }
            },
            "type": "scattermapbox"
           }
          ],
          "scatterpolar": [
           {
            "marker": {
             "colorbar": {
              "outlinewidth": 0,
              "ticks": ""
             }
            },
            "type": "scatterpolar"
           }
          ],
          "scatterpolargl": [
           {
            "marker": {
             "colorbar": {
              "outlinewidth": 0,
              "ticks": ""
             }
            },
            "type": "scatterpolargl"
           }
          ],
          "scatterternary": [
           {
            "marker": {
             "colorbar": {
              "outlinewidth": 0,
              "ticks": ""
             }
            },
            "type": "scatterternary"
           }
          ],
          "surface": [
           {
            "colorbar": {
             "outlinewidth": 0,
             "ticks": ""
            },
            "colorscale": [
             [
              0,
              "#0d0887"
             ],
             [
              0.1111111111111111,
              "#46039f"
             ],
             [
              0.2222222222222222,
              "#7201a8"
             ],
             [
              0.3333333333333333,
              "#9c179e"
             ],
             [
              0.4444444444444444,
              "#bd3786"
             ],
             [
              0.5555555555555556,
              "#d8576b"
             ],
             [
              0.6666666666666666,
              "#ed7953"
             ],
             [
              0.7777777777777778,
              "#fb9f3a"
             ],
             [
              0.8888888888888888,
              "#fdca26"
             ],
             [
              1,
              "#f0f921"
             ]
            ],
            "type": "surface"
           }
          ],
          "table": [
           {
            "cells": {
             "fill": {
              "color": "#EBF0F8"
             },
             "line": {
              "color": "white"
             }
            },
            "header": {
             "fill": {
              "color": "#C8D4E3"
             },
             "line": {
              "color": "white"
             }
            },
            "type": "table"
           }
          ]
         },
         "layout": {
          "annotationdefaults": {
           "arrowcolor": "#2a3f5f",
           "arrowhead": 0,
           "arrowwidth": 1
          },
          "autotypenumbers": "strict",
          "coloraxis": {
           "colorbar": {
            "outlinewidth": 0,
            "ticks": ""
           }
          },
          "colorscale": {
           "diverging": [
            [
             0,
             "#8e0152"
            ],
            [
             0.1,
             "#c51b7d"
            ],
            [
             0.2,
             "#de77ae"
            ],
            [
             0.3,
             "#f1b6da"
            ],
            [
             0.4,
             "#fde0ef"
            ],
            [
             0.5,
             "#f7f7f7"
            ],
            [
             0.6,
             "#e6f5d0"
            ],
            [
             0.7,
             "#b8e186"
            ],
            [
             0.8,
             "#7fbc41"
            ],
            [
             0.9,
             "#4d9221"
            ],
            [
             1,
             "#276419"
            ]
           ],
           "sequential": [
            [
             0,
             "#0d0887"
            ],
            [
             0.1111111111111111,
             "#46039f"
            ],
            [
             0.2222222222222222,
             "#7201a8"
            ],
            [
             0.3333333333333333,
             "#9c179e"
            ],
            [
             0.4444444444444444,
             "#bd3786"
            ],
            [
             0.5555555555555556,
             "#d8576b"
            ],
            [
             0.6666666666666666,
             "#ed7953"
            ],
            [
             0.7777777777777778,
             "#fb9f3a"
            ],
            [
             0.8888888888888888,
             "#fdca26"
            ],
            [
             1,
             "#f0f921"
            ]
           ],
           "sequentialminus": [
            [
             0,
             "#0d0887"
            ],
            [
             0.1111111111111111,
             "#46039f"
            ],
            [
             0.2222222222222222,
             "#7201a8"
            ],
            [
             0.3333333333333333,
             "#9c179e"
            ],
            [
             0.4444444444444444,
             "#bd3786"
            ],
            [
             0.5555555555555556,
             "#d8576b"
            ],
            [
             0.6666666666666666,
             "#ed7953"
            ],
            [
             0.7777777777777778,
             "#fb9f3a"
            ],
            [
             0.8888888888888888,
             "#fdca26"
            ],
            [
             1,
             "#f0f921"
            ]
           ]
          },
          "colorway": [
           "#636efa",
           "#EF553B",
           "#00cc96",
           "#ab63fa",
           "#FFA15A",
           "#19d3f3",
           "#FF6692",
           "#B6E880",
           "#FF97FF",
           "#FECB52"
          ],
          "font": {
           "color": "#2a3f5f"
          },
          "geo": {
           "bgcolor": "white",
           "lakecolor": "white",
           "landcolor": "#E5ECF6",
           "showlakes": true,
           "showland": true,
           "subunitcolor": "white"
          },
          "hoverlabel": {
           "align": "left"
          },
          "hovermode": "closest",
          "mapbox": {
           "style": "light"
          },
          "paper_bgcolor": "white",
          "plot_bgcolor": "#E5ECF6",
          "polar": {
           "angularaxis": {
            "gridcolor": "white",
            "linecolor": "white",
            "ticks": ""
           },
           "bgcolor": "#E5ECF6",
           "radialaxis": {
            "gridcolor": "white",
            "linecolor": "white",
            "ticks": ""
           }
          },
          "scene": {
           "xaxis": {
            "backgroundcolor": "#E5ECF6",
            "gridcolor": "white",
            "gridwidth": 2,
            "linecolor": "white",
            "showbackground": true,
            "ticks": "",
            "zerolinecolor": "white"
           },
           "yaxis": {
            "backgroundcolor": "#E5ECF6",
            "gridcolor": "white",
            "gridwidth": 2,
            "linecolor": "white",
            "showbackground": true,
            "ticks": "",
            "zerolinecolor": "white"
           },
           "zaxis": {
            "backgroundcolor": "#E5ECF6",
            "gridcolor": "white",
            "gridwidth": 2,
            "linecolor": "white",
            "showbackground": true,
            "ticks": "",
            "zerolinecolor": "white"
           }
          },
          "shapedefaults": {
           "line": {
            "color": "#2a3f5f"
           }
          },
          "ternary": {
           "aaxis": {
            "gridcolor": "white",
            "linecolor": "white",
            "ticks": ""
           },
           "baxis": {
            "gridcolor": "white",
            "linecolor": "white",
            "ticks": ""
           },
           "bgcolor": "#E5ECF6",
           "caxis": {
            "gridcolor": "white",
            "linecolor": "white",
            "ticks": ""
           }
          },
          "title": {
           "x": 0.05
          },
          "xaxis": {
           "automargin": true,
           "gridcolor": "white",
           "linecolor": "white",
           "ticks": "",
           "title": {
            "standoff": 15
           },
           "zerolinecolor": "white",
           "zerolinewidth": 2
          },
          "yaxis": {
           "automargin": true,
           "gridcolor": "white",
           "linecolor": "white",
           "ticks": "",
           "title": {
            "standoff": 15
           },
           "zerolinecolor": "white",
           "zerolinewidth": 2
          }
         }
        },
        "width": 700
       }
      }
     },
     "metadata": {},
     "output_type": "display_data"
    }
   ],
   "source": [
    "fig = px.pie(Prod_sales, values = 'Sales', names = 'Product', width = 700, height = 700)\n",
    "fig.update_traces(textposition = 'inside', \n",
    "                  textinfo = 'percent + label', \n",
    "                  hole = 0.65, \n",
    "                  marker = dict(colors = ['#dd4124','#009473', '#336b87', '#b4b4b4'], line = dict(color = 'white', width = 2)),\n",
    "                  hovertemplate = 'Total Sales($): %{value}')\n",
    "\n",
    "fig.update_layout(annotations = [dict(text = 'Percentage of total Sales from Products', \n",
    "                                      x = 0.5, y = 0.5, font_size = 14, showarrow = False, \n",
    "                                      font_family = 'monospace',\n",
    "                                      font_color = 'black')],\n",
    "                  showlegend = False)\n",
    "                  \n",
    "fig.show()"
   ]
  },
  {
   "cell_type": "markdown",
   "metadata": {},
   "source": [
    "In the graph above we can conclude that the largest sales are in wine products (50% of total sales)."
   ]
  },
  {
   "cell_type": "markdown",
   "metadata": {},
   "source": [
    "### e. Percentage of Total puchase by channel"
   ]
  },
  {
   "cell_type": "code",
   "execution_count": 23,
   "metadata": {},
   "outputs": [
    {
     "data": {
      "text/html": [
       "<div>\n",
       "<style scoped>\n",
       "    .dataframe tbody tr th:only-of-type {\n",
       "        vertical-align: middle;\n",
       "    }\n",
       "\n",
       "    .dataframe tbody tr th {\n",
       "        vertical-align: top;\n",
       "    }\n",
       "\n",
       "    .dataframe thead th {\n",
       "        text-align: right;\n",
       "    }\n",
       "</style>\n",
       "<table border=\"1\" class=\"dataframe\">\n",
       "  <thead>\n",
       "    <tr style=\"text-align: right;\">\n",
       "      <th></th>\n",
       "      <th>Channel</th>\n",
       "      <th>Count_Purchase</th>\n",
       "    </tr>\n",
       "  </thead>\n",
       "  <tbody>\n",
       "    <tr>\n",
       "      <th>1</th>\n",
       "      <td>NumStorePurchases</td>\n",
       "      <td>12967</td>\n",
       "    </tr>\n",
       "    <tr>\n",
       "      <th>2</th>\n",
       "      <td>NumWebPurchases</td>\n",
       "      <td>9147</td>\n",
       "    </tr>\n",
       "    <tr>\n",
       "      <th>0</th>\n",
       "      <td>NumCatalogPurchases</td>\n",
       "      <td>5962</td>\n",
       "    </tr>\n",
       "  </tbody>\n",
       "</table>\n",
       "</div>"
      ],
      "text/plain": [
       "               Channel  Count_Purchase\n",
       "1    NumStorePurchases           12967\n",
       "2      NumWebPurchases            9147\n",
       "0  NumCatalogPurchases            5962"
      ]
     },
     "execution_count": 23,
     "metadata": {},
     "output_type": "execute_result"
    }
   ],
   "source": [
    "Channel=['NumCatalogPurchases', 'NumStorePurchases', 'NumWebPurchases']\n",
    "ch_count= []\n",
    "for i in Channel:\n",
    "    count= data[i].sum()\n",
    "    ch_count.append(count)\n",
    "\n",
    "Dist_Purchase= pd.DataFrame({'Channel': Channel, 'Count_Purchase': ch_count})\n",
    "Dist_Purchase.sort_values('Count_Purchase', ascending= False)"
   ]
  },
  {
   "cell_type": "code",
   "execution_count": 24,
   "metadata": {},
   "outputs": [
    {
     "data": {
      "application/vnd.plotly.v1+json": {
       "config": {
        "plotlyServerURL": "https://plot.ly"
       },
       "data": [
        {
         "domain": {
          "x": [
           0,
           1
          ],
          "y": [
           0,
           1
          ]
         },
         "hole": 0.65,
         "hovertemplate": "Count of Purchase): %{value}",
         "labels": [
          "NumCatalogPurchases",
          "NumStorePurchases",
          "NumWebPurchases"
         ],
         "legendgroup": "",
         "marker": {
          "colors": [
           "#dd4124",
           "#009473",
           "#336b87",
           "#b4b4b4"
          ],
          "line": {
           "color": "white",
           "width": 2
          }
         },
         "name": "",
         "showlegend": true,
         "textinfo": "percent+label",
         "textposition": "inside",
         "type": "pie",
         "values": [
          5962,
          12967,
          9147
         ]
        }
       ],
       "layout": {
        "annotations": [
         {
          "font": {
           "color": "black",
           "family": "monospace",
           "size": 14
          },
          "showarrow": false,
          "text": "Percentage of Total puchase by channel",
          "x": 0.5,
          "y": 0.5
         }
        ],
        "height": 700,
        "legend": {
         "tracegroupgap": 0
        },
        "margin": {
         "t": 60
        },
        "showlegend": false,
        "template": {
         "data": {
          "bar": [
           {
            "error_x": {
             "color": "#2a3f5f"
            },
            "error_y": {
             "color": "#2a3f5f"
            },
            "marker": {
             "line": {
              "color": "#E5ECF6",
              "width": 0.5
             },
             "pattern": {
              "fillmode": "overlay",
              "size": 10,
              "solidity": 0.2
             }
            },
            "type": "bar"
           }
          ],
          "barpolar": [
           {
            "marker": {
             "line": {
              "color": "#E5ECF6",
              "width": 0.5
             },
             "pattern": {
              "fillmode": "overlay",
              "size": 10,
              "solidity": 0.2
             }
            },
            "type": "barpolar"
           }
          ],
          "carpet": [
           {
            "aaxis": {
             "endlinecolor": "#2a3f5f",
             "gridcolor": "white",
             "linecolor": "white",
             "minorgridcolor": "white",
             "startlinecolor": "#2a3f5f"
            },
            "baxis": {
             "endlinecolor": "#2a3f5f",
             "gridcolor": "white",
             "linecolor": "white",
             "minorgridcolor": "white",
             "startlinecolor": "#2a3f5f"
            },
            "type": "carpet"
           }
          ],
          "choropleth": [
           {
            "colorbar": {
             "outlinewidth": 0,
             "ticks": ""
            },
            "type": "choropleth"
           }
          ],
          "contour": [
           {
            "colorbar": {
             "outlinewidth": 0,
             "ticks": ""
            },
            "colorscale": [
             [
              0,
              "#0d0887"
             ],
             [
              0.1111111111111111,
              "#46039f"
             ],
             [
              0.2222222222222222,
              "#7201a8"
             ],
             [
              0.3333333333333333,
              "#9c179e"
             ],
             [
              0.4444444444444444,
              "#bd3786"
             ],
             [
              0.5555555555555556,
              "#d8576b"
             ],
             [
              0.6666666666666666,
              "#ed7953"
             ],
             [
              0.7777777777777778,
              "#fb9f3a"
             ],
             [
              0.8888888888888888,
              "#fdca26"
             ],
             [
              1,
              "#f0f921"
             ]
            ],
            "type": "contour"
           }
          ],
          "contourcarpet": [
           {
            "colorbar": {
             "outlinewidth": 0,
             "ticks": ""
            },
            "type": "contourcarpet"
           }
          ],
          "heatmap": [
           {
            "colorbar": {
             "outlinewidth": 0,
             "ticks": ""
            },
            "colorscale": [
             [
              0,
              "#0d0887"
             ],
             [
              0.1111111111111111,
              "#46039f"
             ],
             [
              0.2222222222222222,
              "#7201a8"
             ],
             [
              0.3333333333333333,
              "#9c179e"
             ],
             [
              0.4444444444444444,
              "#bd3786"
             ],
             [
              0.5555555555555556,
              "#d8576b"
             ],
             [
              0.6666666666666666,
              "#ed7953"
             ],
             [
              0.7777777777777778,
              "#fb9f3a"
             ],
             [
              0.8888888888888888,
              "#fdca26"
             ],
             [
              1,
              "#f0f921"
             ]
            ],
            "type": "heatmap"
           }
          ],
          "heatmapgl": [
           {
            "colorbar": {
             "outlinewidth": 0,
             "ticks": ""
            },
            "colorscale": [
             [
              0,
              "#0d0887"
             ],
             [
              0.1111111111111111,
              "#46039f"
             ],
             [
              0.2222222222222222,
              "#7201a8"
             ],
             [
              0.3333333333333333,
              "#9c179e"
             ],
             [
              0.4444444444444444,
              "#bd3786"
             ],
             [
              0.5555555555555556,
              "#d8576b"
             ],
             [
              0.6666666666666666,
              "#ed7953"
             ],
             [
              0.7777777777777778,
              "#fb9f3a"
             ],
             [
              0.8888888888888888,
              "#fdca26"
             ],
             [
              1,
              "#f0f921"
             ]
            ],
            "type": "heatmapgl"
           }
          ],
          "histogram": [
           {
            "marker": {
             "pattern": {
              "fillmode": "overlay",
              "size": 10,
              "solidity": 0.2
             }
            },
            "type": "histogram"
           }
          ],
          "histogram2d": [
           {
            "colorbar": {
             "outlinewidth": 0,
             "ticks": ""
            },
            "colorscale": [
             [
              0,
              "#0d0887"
             ],
             [
              0.1111111111111111,
              "#46039f"
             ],
             [
              0.2222222222222222,
              "#7201a8"
             ],
             [
              0.3333333333333333,
              "#9c179e"
             ],
             [
              0.4444444444444444,
              "#bd3786"
             ],
             [
              0.5555555555555556,
              "#d8576b"
             ],
             [
              0.6666666666666666,
              "#ed7953"
             ],
             [
              0.7777777777777778,
              "#fb9f3a"
             ],
             [
              0.8888888888888888,
              "#fdca26"
             ],
             [
              1,
              "#f0f921"
             ]
            ],
            "type": "histogram2d"
           }
          ],
          "histogram2dcontour": [
           {
            "colorbar": {
             "outlinewidth": 0,
             "ticks": ""
            },
            "colorscale": [
             [
              0,
              "#0d0887"
             ],
             [
              0.1111111111111111,
              "#46039f"
             ],
             [
              0.2222222222222222,
              "#7201a8"
             ],
             [
              0.3333333333333333,
              "#9c179e"
             ],
             [
              0.4444444444444444,
              "#bd3786"
             ],
             [
              0.5555555555555556,
              "#d8576b"
             ],
             [
              0.6666666666666666,
              "#ed7953"
             ],
             [
              0.7777777777777778,
              "#fb9f3a"
             ],
             [
              0.8888888888888888,
              "#fdca26"
             ],
             [
              1,
              "#f0f921"
             ]
            ],
            "type": "histogram2dcontour"
           }
          ],
          "mesh3d": [
           {
            "colorbar": {
             "outlinewidth": 0,
             "ticks": ""
            },
            "type": "mesh3d"
           }
          ],
          "parcoords": [
           {
            "line": {
             "colorbar": {
              "outlinewidth": 0,
              "ticks": ""
             }
            },
            "type": "parcoords"
           }
          ],
          "pie": [
           {
            "automargin": true,
            "type": "pie"
           }
          ],
          "scatter": [
           {
            "marker": {
             "colorbar": {
              "outlinewidth": 0,
              "ticks": ""
             }
            },
            "type": "scatter"
           }
          ],
          "scatter3d": [
           {
            "line": {
             "colorbar": {
              "outlinewidth": 0,
              "ticks": ""
             }
            },
            "marker": {
             "colorbar": {
              "outlinewidth": 0,
              "ticks": ""
             }
            },
            "type": "scatter3d"
           }
          ],
          "scattercarpet": [
           {
            "marker": {
             "colorbar": {
              "outlinewidth": 0,
              "ticks": ""
             }
            },
            "type": "scattercarpet"
           }
          ],
          "scattergeo": [
           {
            "marker": {
             "colorbar": {
              "outlinewidth": 0,
              "ticks": ""
             }
            },
            "type": "scattergeo"
           }
          ],
          "scattergl": [
           {
            "marker": {
             "colorbar": {
              "outlinewidth": 0,
              "ticks": ""
             }
            },
            "type": "scattergl"
           }
          ],
          "scattermapbox": [
           {
            "marker": {
             "colorbar": {
              "outlinewidth": 0,
              "ticks": ""
             }
            },
            "type": "scattermapbox"
           }
          ],
          "scatterpolar": [
           {
            "marker": {
             "colorbar": {
              "outlinewidth": 0,
              "ticks": ""
             }
            },
            "type": "scatterpolar"
           }
          ],
          "scatterpolargl": [
           {
            "marker": {
             "colorbar": {
              "outlinewidth": 0,
              "ticks": ""
             }
            },
            "type": "scatterpolargl"
           }
          ],
          "scatterternary": [
           {
            "marker": {
             "colorbar": {
              "outlinewidth": 0,
              "ticks": ""
             }
            },
            "type": "scatterternary"
           }
          ],
          "surface": [
           {
            "colorbar": {
             "outlinewidth": 0,
             "ticks": ""
            },
            "colorscale": [
             [
              0,
              "#0d0887"
             ],
             [
              0.1111111111111111,
              "#46039f"
             ],
             [
              0.2222222222222222,
              "#7201a8"
             ],
             [
              0.3333333333333333,
              "#9c179e"
             ],
             [
              0.4444444444444444,
              "#bd3786"
             ],
             [
              0.5555555555555556,
              "#d8576b"
             ],
             [
              0.6666666666666666,
              "#ed7953"
             ],
             [
              0.7777777777777778,
              "#fb9f3a"
             ],
             [
              0.8888888888888888,
              "#fdca26"
             ],
             [
              1,
              "#f0f921"
             ]
            ],
            "type": "surface"
           }
          ],
          "table": [
           {
            "cells": {
             "fill": {
              "color": "#EBF0F8"
             },
             "line": {
              "color": "white"
             }
            },
            "header": {
             "fill": {
              "color": "#C8D4E3"
             },
             "line": {
              "color": "white"
             }
            },
            "type": "table"
           }
          ]
         },
         "layout": {
          "annotationdefaults": {
           "arrowcolor": "#2a3f5f",
           "arrowhead": 0,
           "arrowwidth": 1
          },
          "autotypenumbers": "strict",
          "coloraxis": {
           "colorbar": {
            "outlinewidth": 0,
            "ticks": ""
           }
          },
          "colorscale": {
           "diverging": [
            [
             0,
             "#8e0152"
            ],
            [
             0.1,
             "#c51b7d"
            ],
            [
             0.2,
             "#de77ae"
            ],
            [
             0.3,
             "#f1b6da"
            ],
            [
             0.4,
             "#fde0ef"
            ],
            [
             0.5,
             "#f7f7f7"
            ],
            [
             0.6,
             "#e6f5d0"
            ],
            [
             0.7,
             "#b8e186"
            ],
            [
             0.8,
             "#7fbc41"
            ],
            [
             0.9,
             "#4d9221"
            ],
            [
             1,
             "#276419"
            ]
           ],
           "sequential": [
            [
             0,
             "#0d0887"
            ],
            [
             0.1111111111111111,
             "#46039f"
            ],
            [
             0.2222222222222222,
             "#7201a8"
            ],
            [
             0.3333333333333333,
             "#9c179e"
            ],
            [
             0.4444444444444444,
             "#bd3786"
            ],
            [
             0.5555555555555556,
             "#d8576b"
            ],
            [
             0.6666666666666666,
             "#ed7953"
            ],
            [
             0.7777777777777778,
             "#fb9f3a"
            ],
            [
             0.8888888888888888,
             "#fdca26"
            ],
            [
             1,
             "#f0f921"
            ]
           ],
           "sequentialminus": [
            [
             0,
             "#0d0887"
            ],
            [
             0.1111111111111111,
             "#46039f"
            ],
            [
             0.2222222222222222,
             "#7201a8"
            ],
            [
             0.3333333333333333,
             "#9c179e"
            ],
            [
             0.4444444444444444,
             "#bd3786"
            ],
            [
             0.5555555555555556,
             "#d8576b"
            ],
            [
             0.6666666666666666,
             "#ed7953"
            ],
            [
             0.7777777777777778,
             "#fb9f3a"
            ],
            [
             0.8888888888888888,
             "#fdca26"
            ],
            [
             1,
             "#f0f921"
            ]
           ]
          },
          "colorway": [
           "#636efa",
           "#EF553B",
           "#00cc96",
           "#ab63fa",
           "#FFA15A",
           "#19d3f3",
           "#FF6692",
           "#B6E880",
           "#FF97FF",
           "#FECB52"
          ],
          "font": {
           "color": "#2a3f5f"
          },
          "geo": {
           "bgcolor": "white",
           "lakecolor": "white",
           "landcolor": "#E5ECF6",
           "showlakes": true,
           "showland": true,
           "subunitcolor": "white"
          },
          "hoverlabel": {
           "align": "left"
          },
          "hovermode": "closest",
          "mapbox": {
           "style": "light"
          },
          "paper_bgcolor": "white",
          "plot_bgcolor": "#E5ECF6",
          "polar": {
           "angularaxis": {
            "gridcolor": "white",
            "linecolor": "white",
            "ticks": ""
           },
           "bgcolor": "#E5ECF6",
           "radialaxis": {
            "gridcolor": "white",
            "linecolor": "white",
            "ticks": ""
           }
          },
          "scene": {
           "xaxis": {
            "backgroundcolor": "#E5ECF6",
            "gridcolor": "white",
            "gridwidth": 2,
            "linecolor": "white",
            "showbackground": true,
            "ticks": "",
            "zerolinecolor": "white"
           },
           "yaxis": {
            "backgroundcolor": "#E5ECF6",
            "gridcolor": "white",
            "gridwidth": 2,
            "linecolor": "white",
            "showbackground": true,
            "ticks": "",
            "zerolinecolor": "white"
           },
           "zaxis": {
            "backgroundcolor": "#E5ECF6",
            "gridcolor": "white",
            "gridwidth": 2,
            "linecolor": "white",
            "showbackground": true,
            "ticks": "",
            "zerolinecolor": "white"
           }
          },
          "shapedefaults": {
           "line": {
            "color": "#2a3f5f"
           }
          },
          "ternary": {
           "aaxis": {
            "gridcolor": "white",
            "linecolor": "white",
            "ticks": ""
           },
           "baxis": {
            "gridcolor": "white",
            "linecolor": "white",
            "ticks": ""
           },
           "bgcolor": "#E5ECF6",
           "caxis": {
            "gridcolor": "white",
            "linecolor": "white",
            "ticks": ""
           }
          },
          "title": {
           "x": 0.05
          },
          "xaxis": {
           "automargin": true,
           "gridcolor": "white",
           "linecolor": "white",
           "ticks": "",
           "title": {
            "standoff": 15
           },
           "zerolinecolor": "white",
           "zerolinewidth": 2
          },
          "yaxis": {
           "automargin": true,
           "gridcolor": "white",
           "linecolor": "white",
           "ticks": "",
           "title": {
            "standoff": 15
           },
           "zerolinecolor": "white",
           "zerolinewidth": 2
          }
         }
        },
        "width": 700
       }
      }
     },
     "metadata": {},
     "output_type": "display_data"
    }
   ],
   "source": [
    "fig = px.pie(Dist_Purchase, values = 'Count_Purchase', names = 'Channel', width = 700, height = 700)\n",
    "fig.update_traces(textposition = 'inside', \n",
    "                  textinfo = 'percent + label', \n",
    "                  hole = 0.65, \n",
    "                  marker = dict(colors = ['#dd4124','#009473', '#336b87', '#b4b4b4'], line = dict(color = 'white', width = 2)),\n",
    "                  hovertemplate = 'Count of Purchase): %{value}')\n",
    "\n",
    "fig.update_layout(annotations = [dict(text = 'Percentage of Total puchase by channel', \n",
    "                                      x = 0.5, y = 0.5, font_size = 14, showarrow = False, \n",
    "                                      font_family = 'monospace',\n",
    "                                      font_color = 'black')],\n",
    "                  showlegend = False)"
   ]
  },
  {
   "cell_type": "markdown",
   "metadata": {},
   "source": [
    "Of the three sales channels, sales through the Store channel have a large portion, followed by the web channel."
   ]
  },
  {
   "cell_type": "markdown",
   "metadata": {},
   "source": [
    "### f. Which month has more effective campaign"
   ]
  },
  {
   "cell_type": "code",
   "execution_count": 25,
   "metadata": {},
   "outputs": [
    {
     "name": "stderr",
     "output_type": "stream",
     "text": [
      "C:\\Users\\Rija\\AppData\\Local\\Temp/ipykernel_8396/2572762628.py:2: SettingWithCopyWarning:\n",
      "\n",
      "\n",
      "A value is trying to be set on a copy of a slice from a DataFrame.\n",
      "Try using .loc[row_indexer,col_indexer] = value instead\n",
      "\n",
      "See the caveats in the documentation: https://pandas.pydata.org/pandas-docs/stable/user_guide/indexing.html#returning-a-view-versus-a-copy\n",
      "\n"
     ]
    },
    {
     "data": {
      "text/plain": [
       "8     222\n",
       "5     216\n",
       "10    212\n",
       "3     211\n",
       "1     197\n",
       "9     193\n",
       "11    187\n",
       "4     182\n",
       "2     178\n",
       "12    175\n",
       "6     165\n",
       "7     101\n",
       "Name: Month_enroll, dtype: int64"
      ]
     },
     "execution_count": 25,
     "metadata": {},
     "output_type": "execute_result"
    }
   ],
   "source": [
    "#create variable for month\n",
    "data['Month_enroll']= data['Dt_Customer'].dt.month\n",
    "data['Month_enroll'].value_counts()"
   ]
  },
  {
   "cell_type": "code",
   "execution_count": 27,
   "metadata": {},
   "outputs": [
    {
     "data": {
      "application/vnd.plotly.v1+json": {
       "config": {
        "plotlyServerURL": "https://plot.ly"
       },
       "data": [
        {
         "alignmentgroup": "True",
         "hovertemplate": "Month_enroll=%{x}<br>ID=%{y}<extra></extra>",
         "legendgroup": "",
         "marker": {
          "color": "#636efa",
          "pattern": {
           "shape": ""
          }
         },
         "name": "",
         "offsetgroup": "",
         "orientation": "v",
         "showlegend": false,
         "textposition": "auto",
         "type": "bar",
         "x": [
          1,
          2,
          3,
          4,
          5,
          6,
          7,
          8,
          9,
          10,
          11,
          12
         ],
         "xaxis": "x",
         "y": [
          197,
          178,
          211,
          182,
          216,
          165,
          101,
          222,
          193,
          212,
          187,
          175
         ],
         "yaxis": "y"
        }
       ],
       "layout": {
        "barmode": "relative",
        "legend": {
         "tracegroupgap": 0
        },
        "template": {
         "data": {
          "bar": [
           {
            "error_x": {
             "color": "#2a3f5f"
            },
            "error_y": {
             "color": "#2a3f5f"
            },
            "marker": {
             "line": {
              "color": "#E5ECF6",
              "width": 0.5
             },
             "pattern": {
              "fillmode": "overlay",
              "size": 10,
              "solidity": 0.2
             }
            },
            "type": "bar"
           }
          ],
          "barpolar": [
           {
            "marker": {
             "line": {
              "color": "#E5ECF6",
              "width": 0.5
             },
             "pattern": {
              "fillmode": "overlay",
              "size": 10,
              "solidity": 0.2
             }
            },
            "type": "barpolar"
           }
          ],
          "carpet": [
           {
            "aaxis": {
             "endlinecolor": "#2a3f5f",
             "gridcolor": "white",
             "linecolor": "white",
             "minorgridcolor": "white",
             "startlinecolor": "#2a3f5f"
            },
            "baxis": {
             "endlinecolor": "#2a3f5f",
             "gridcolor": "white",
             "linecolor": "white",
             "minorgridcolor": "white",
             "startlinecolor": "#2a3f5f"
            },
            "type": "carpet"
           }
          ],
          "choropleth": [
           {
            "colorbar": {
             "outlinewidth": 0,
             "ticks": ""
            },
            "type": "choropleth"
           }
          ],
          "contour": [
           {
            "colorbar": {
             "outlinewidth": 0,
             "ticks": ""
            },
            "colorscale": [
             [
              0,
              "#0d0887"
             ],
             [
              0.1111111111111111,
              "#46039f"
             ],
             [
              0.2222222222222222,
              "#7201a8"
             ],
             [
              0.3333333333333333,
              "#9c179e"
             ],
             [
              0.4444444444444444,
              "#bd3786"
             ],
             [
              0.5555555555555556,
              "#d8576b"
             ],
             [
              0.6666666666666666,
              "#ed7953"
             ],
             [
              0.7777777777777778,
              "#fb9f3a"
             ],
             [
              0.8888888888888888,
              "#fdca26"
             ],
             [
              1,
              "#f0f921"
             ]
            ],
            "type": "contour"
           }
          ],
          "contourcarpet": [
           {
            "colorbar": {
             "outlinewidth": 0,
             "ticks": ""
            },
            "type": "contourcarpet"
           }
          ],
          "heatmap": [
           {
            "colorbar": {
             "outlinewidth": 0,
             "ticks": ""
            },
            "colorscale": [
             [
              0,
              "#0d0887"
             ],
             [
              0.1111111111111111,
              "#46039f"
             ],
             [
              0.2222222222222222,
              "#7201a8"
             ],
             [
              0.3333333333333333,
              "#9c179e"
             ],
             [
              0.4444444444444444,
              "#bd3786"
             ],
             [
              0.5555555555555556,
              "#d8576b"
             ],
             [
              0.6666666666666666,
              "#ed7953"
             ],
             [
              0.7777777777777778,
              "#fb9f3a"
             ],
             [
              0.8888888888888888,
              "#fdca26"
             ],
             [
              1,
              "#f0f921"
             ]
            ],
            "type": "heatmap"
           }
          ],
          "heatmapgl": [
           {
            "colorbar": {
             "outlinewidth": 0,
             "ticks": ""
            },
            "colorscale": [
             [
              0,
              "#0d0887"
             ],
             [
              0.1111111111111111,
              "#46039f"
             ],
             [
              0.2222222222222222,
              "#7201a8"
             ],
             [
              0.3333333333333333,
              "#9c179e"
             ],
             [
              0.4444444444444444,
              "#bd3786"
             ],
             [
              0.5555555555555556,
              "#d8576b"
             ],
             [
              0.6666666666666666,
              "#ed7953"
             ],
             [
              0.7777777777777778,
              "#fb9f3a"
             ],
             [
              0.8888888888888888,
              "#fdca26"
             ],
             [
              1,
              "#f0f921"
             ]
            ],
            "type": "heatmapgl"
           }
          ],
          "histogram": [
           {
            "marker": {
             "pattern": {
              "fillmode": "overlay",
              "size": 10,
              "solidity": 0.2
             }
            },
            "type": "histogram"
           }
          ],
          "histogram2d": [
           {
            "colorbar": {
             "outlinewidth": 0,
             "ticks": ""
            },
            "colorscale": [
             [
              0,
              "#0d0887"
             ],
             [
              0.1111111111111111,
              "#46039f"
             ],
             [
              0.2222222222222222,
              "#7201a8"
             ],
             [
              0.3333333333333333,
              "#9c179e"
             ],
             [
              0.4444444444444444,
              "#bd3786"
             ],
             [
              0.5555555555555556,
              "#d8576b"
             ],
             [
              0.6666666666666666,
              "#ed7953"
             ],
             [
              0.7777777777777778,
              "#fb9f3a"
             ],
             [
              0.8888888888888888,
              "#fdca26"
             ],
             [
              1,
              "#f0f921"
             ]
            ],
            "type": "histogram2d"
           }
          ],
          "histogram2dcontour": [
           {
            "colorbar": {
             "outlinewidth": 0,
             "ticks": ""
            },
            "colorscale": [
             [
              0,
              "#0d0887"
             ],
             [
              0.1111111111111111,
              "#46039f"
             ],
             [
              0.2222222222222222,
              "#7201a8"
             ],
             [
              0.3333333333333333,
              "#9c179e"
             ],
             [
              0.4444444444444444,
              "#bd3786"
             ],
             [
              0.5555555555555556,
              "#d8576b"
             ],
             [
              0.6666666666666666,
              "#ed7953"
             ],
             [
              0.7777777777777778,
              "#fb9f3a"
             ],
             [
              0.8888888888888888,
              "#fdca26"
             ],
             [
              1,
              "#f0f921"
             ]
            ],
            "type": "histogram2dcontour"
           }
          ],
          "mesh3d": [
           {
            "colorbar": {
             "outlinewidth": 0,
             "ticks": ""
            },
            "type": "mesh3d"
           }
          ],
          "parcoords": [
           {
            "line": {
             "colorbar": {
              "outlinewidth": 0,
              "ticks": ""
             }
            },
            "type": "parcoords"
           }
          ],
          "pie": [
           {
            "automargin": true,
            "type": "pie"
           }
          ],
          "scatter": [
           {
            "marker": {
             "colorbar": {
              "outlinewidth": 0,
              "ticks": ""
             }
            },
            "type": "scatter"
           }
          ],
          "scatter3d": [
           {
            "line": {
             "colorbar": {
              "outlinewidth": 0,
              "ticks": ""
             }
            },
            "marker": {
             "colorbar": {
              "outlinewidth": 0,
              "ticks": ""
             }
            },
            "type": "scatter3d"
           }
          ],
          "scattercarpet": [
           {
            "marker": {
             "colorbar": {
              "outlinewidth": 0,
              "ticks": ""
             }
            },
            "type": "scattercarpet"
           }
          ],
          "scattergeo": [
           {
            "marker": {
             "colorbar": {
              "outlinewidth": 0,
              "ticks": ""
             }
            },
            "type": "scattergeo"
           }
          ],
          "scattergl": [
           {
            "marker": {
             "colorbar": {
              "outlinewidth": 0,
              "ticks": ""
             }
            },
            "type": "scattergl"
           }
          ],
          "scattermapbox": [
           {
            "marker": {
             "colorbar": {
              "outlinewidth": 0,
              "ticks": ""
             }
            },
            "type": "scattermapbox"
           }
          ],
          "scatterpolar": [
           {
            "marker": {
             "colorbar": {
              "outlinewidth": 0,
              "ticks": ""
             }
            },
            "type": "scatterpolar"
           }
          ],
          "scatterpolargl": [
           {
            "marker": {
             "colorbar": {
              "outlinewidth": 0,
              "ticks": ""
             }
            },
            "type": "scatterpolargl"
           }
          ],
          "scatterternary": [
           {
            "marker": {
             "colorbar": {
              "outlinewidth": 0,
              "ticks": ""
             }
            },
            "type": "scatterternary"
           }
          ],
          "surface": [
           {
            "colorbar": {
             "outlinewidth": 0,
             "ticks": ""
            },
            "colorscale": [
             [
              0,
              "#0d0887"
             ],
             [
              0.1111111111111111,
              "#46039f"
             ],
             [
              0.2222222222222222,
              "#7201a8"
             ],
             [
              0.3333333333333333,
              "#9c179e"
             ],
             [
              0.4444444444444444,
              "#bd3786"
             ],
             [
              0.5555555555555556,
              "#d8576b"
             ],
             [
              0.6666666666666666,
              "#ed7953"
             ],
             [
              0.7777777777777778,
              "#fb9f3a"
             ],
             [
              0.8888888888888888,
              "#fdca26"
             ],
             [
              1,
              "#f0f921"
             ]
            ],
            "type": "surface"
           }
          ],
          "table": [
           {
            "cells": {
             "fill": {
              "color": "#EBF0F8"
             },
             "line": {
              "color": "white"
             }
            },
            "header": {
             "fill": {
              "color": "#C8D4E3"
             },
             "line": {
              "color": "white"
             }
            },
            "type": "table"
           }
          ]
         },
         "layout": {
          "annotationdefaults": {
           "arrowcolor": "#2a3f5f",
           "arrowhead": 0,
           "arrowwidth": 1
          },
          "autotypenumbers": "strict",
          "coloraxis": {
           "colorbar": {
            "outlinewidth": 0,
            "ticks": ""
           }
          },
          "colorscale": {
           "diverging": [
            [
             0,
             "#8e0152"
            ],
            [
             0.1,
             "#c51b7d"
            ],
            [
             0.2,
             "#de77ae"
            ],
            [
             0.3,
             "#f1b6da"
            ],
            [
             0.4,
             "#fde0ef"
            ],
            [
             0.5,
             "#f7f7f7"
            ],
            [
             0.6,
             "#e6f5d0"
            ],
            [
             0.7,
             "#b8e186"
            ],
            [
             0.8,
             "#7fbc41"
            ],
            [
             0.9,
             "#4d9221"
            ],
            [
             1,
             "#276419"
            ]
           ],
           "sequential": [
            [
             0,
             "#0d0887"
            ],
            [
             0.1111111111111111,
             "#46039f"
            ],
            [
             0.2222222222222222,
             "#7201a8"
            ],
            [
             0.3333333333333333,
             "#9c179e"
            ],
            [
             0.4444444444444444,
             "#bd3786"
            ],
            [
             0.5555555555555556,
             "#d8576b"
            ],
            [
             0.6666666666666666,
             "#ed7953"
            ],
            [
             0.7777777777777778,
             "#fb9f3a"
            ],
            [
             0.8888888888888888,
             "#fdca26"
            ],
            [
             1,
             "#f0f921"
            ]
           ],
           "sequentialminus": [
            [
             0,
             "#0d0887"
            ],
            [
             0.1111111111111111,
             "#46039f"
            ],
            [
             0.2222222222222222,
             "#7201a8"
            ],
            [
             0.3333333333333333,
             "#9c179e"
            ],
            [
             0.4444444444444444,
             "#bd3786"
            ],
            [
             0.5555555555555556,
             "#d8576b"
            ],
            [
             0.6666666666666666,
             "#ed7953"
            ],
            [
             0.7777777777777778,
             "#fb9f3a"
            ],
            [
             0.8888888888888888,
             "#fdca26"
            ],
            [
             1,
             "#f0f921"
            ]
           ]
          },
          "colorway": [
           "#636efa",
           "#EF553B",
           "#00cc96",
           "#ab63fa",
           "#FFA15A",
           "#19d3f3",
           "#FF6692",
           "#B6E880",
           "#FF97FF",
           "#FECB52"
          ],
          "font": {
           "color": "#2a3f5f"
          },
          "geo": {
           "bgcolor": "white",
           "lakecolor": "white",
           "landcolor": "#E5ECF6",
           "showlakes": true,
           "showland": true,
           "subunitcolor": "white"
          },
          "hoverlabel": {
           "align": "left"
          },
          "hovermode": "closest",
          "mapbox": {
           "style": "light"
          },
          "paper_bgcolor": "white",
          "plot_bgcolor": "#E5ECF6",
          "polar": {
           "angularaxis": {
            "gridcolor": "white",
            "linecolor": "white",
            "ticks": ""
           },
           "bgcolor": "#E5ECF6",
           "radialaxis": {
            "gridcolor": "white",
            "linecolor": "white",
            "ticks": ""
           }
          },
          "scene": {
           "xaxis": {
            "backgroundcolor": "#E5ECF6",
            "gridcolor": "white",
            "gridwidth": 2,
            "linecolor": "white",
            "showbackground": true,
            "ticks": "",
            "zerolinecolor": "white"
           },
           "yaxis": {
            "backgroundcolor": "#E5ECF6",
            "gridcolor": "white",
            "gridwidth": 2,
            "linecolor": "white",
            "showbackground": true,
            "ticks": "",
            "zerolinecolor": "white"
           },
           "zaxis": {
            "backgroundcolor": "#E5ECF6",
            "gridcolor": "white",
            "gridwidth": 2,
            "linecolor": "white",
            "showbackground": true,
            "ticks": "",
            "zerolinecolor": "white"
           }
          },
          "shapedefaults": {
           "line": {
            "color": "#2a3f5f"
           }
          },
          "ternary": {
           "aaxis": {
            "gridcolor": "white",
            "linecolor": "white",
            "ticks": ""
           },
           "baxis": {
            "gridcolor": "white",
            "linecolor": "white",
            "ticks": ""
           },
           "bgcolor": "#E5ECF6",
           "caxis": {
            "gridcolor": "white",
            "linecolor": "white",
            "ticks": ""
           }
          },
          "title": {
           "x": 0.05
          },
          "xaxis": {
           "automargin": true,
           "gridcolor": "white",
           "linecolor": "white",
           "ticks": "",
           "title": {
            "standoff": 15
           },
           "zerolinecolor": "white",
           "zerolinewidth": 2
          },
          "yaxis": {
           "automargin": true,
           "gridcolor": "white",
           "linecolor": "white",
           "ticks": "",
           "title": {
            "standoff": 15
           },
           "zerolinecolor": "white",
           "zerolinewidth": 2
          }
         }
        },
        "title": {
         "text": "Customer Enrollment Time"
        },
        "xaxis": {
         "anchor": "y",
         "domain": [
          0,
          1
         ],
         "title": {
          "text": "Month_enroll"
         }
        },
        "yaxis": {
         "anchor": "x",
         "domain": [
          0,
          1
         ],
         "title": {
          "text": "ID"
         }
        }
       }
      }
     },
     "metadata": {},
     "output_type": "display_data"
    }
   ],
   "source": [
    "cust= data.groupby('Month_enroll')['ID'].count().reset_index()\n",
    "\n",
    "fig = px.bar(cust, x=\"Month_enroll\", y='ID', title= \"Customer Enrollment Time\")\n",
    "fig.show()"
   ]
  },
  {
   "cell_type": "markdown",
   "metadata": {},
   "source": [
    "Overall, the number of customers enrolling by month has fluctuated. but in July is the lowest and at the end of the year there is a downward trend."
   ]
  }
 ],
 "metadata": {
  "interpreter": {
   "hash": "30bc1d64c8b607d627c90ada9ad907ab6f5ed5d47e526a1877e19fd8a0cf0a4f"
  },
  "kernelspec": {
   "display_name": "Python 3 (ipykernel)",
   "language": "python",
   "name": "python3"
  },
  "language_info": {
   "codemirror_mode": {
    "name": "ipython",
    "version": 3
   },
   "file_extension": ".py",
   "mimetype": "text/x-python",
   "name": "python",
   "nbconvert_exporter": "python",
   "pygments_lexer": "ipython3",
   "version": "3.9.6"
  }
 },
 "nbformat": 4,
 "nbformat_minor": 2
}
